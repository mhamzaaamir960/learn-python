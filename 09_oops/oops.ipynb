{
 "cells": [
  {
   "cell_type": "code",
   "execution_count": 46,
   "metadata": {},
   "outputs": [
    {
     "name": "stdout",
     "output_type": "stream",
     "text": [
      "Restaurant name is Dishes Hub and the restaurant type is Home made food\n",
      "Restaurant name is Quetta Cafe and the restaurant type is Tasty food\n",
      "Restaurant name is IceCream Stand and the restaurant type is cold recipe\n",
      "List of flavours: \n",
      "Strawberry\n",
      "Chocolate\n",
      "Pista\n",
      "Kulfa\n",
      "None\n"
     ]
    }
   ],
   "source": [
    "class Restaurant:\n",
    "    def __init__(self, restaurant_name, restaurant_type):\n",
    "        self.restaurat_name = restaurant_name\n",
    "        self.restaurat_type = restaurant_type\n",
    "        \n",
    "    def describe_restaurant(self):\n",
    "        return f\"Restaurant name is {self.restaurat_name} and the restaurant type is {self.restaurat_type}\"\n",
    "    \n",
    "    def open_restaurant(self):\n",
    "        return f\"Restaurant is Open!\"\n",
    "    \n",
    "restaurant1 = Restaurant(\"Dishes Hub\", \"Home made food\")\n",
    "print(restaurant1.describe_restaurant())\n",
    "\n",
    "restaurant2 = Restaurant(\"Quetta Cafe\", \"Tasty food\")\n",
    "print(restaurant2.describe_restaurant())\n",
    "\n",
    "\n",
    "class IceCreamStand(Restaurant):\n",
    "    def __init__(self,restaurant_name, restaurant_type, *flavours):\n",
    "        super().__init__(restaurant_name, restaurant_type)\n",
    "        self.flavours = flavours\n",
    "        \n",
    "        \n",
    "    def get_flavours(self):\n",
    "        print(\"List of flavours: \")\n",
    "        for flavour in self.flavours:\n",
    "            print(flavour)\n",
    "            \n",
    "ice_cream = IceCreamStand(\"IceCream Stand\",\"cold recipe\",\"Strawberry\",\"Chocolate\", \"Pista\", \"Kulfa\")\n",
    "print(ice_cream.describe_restaurant())\n",
    "print(ice_cream.get_flavours())"
   ]
  },
  {
   "cell_type": "code",
   "execution_count": null,
   "metadata": {},
   "outputs": [],
   "source": []
  }
 ],
 "metadata": {
  "kernelspec": {
   "display_name": "Python 3",
   "language": "python",
   "name": "python3"
  },
  "language_info": {
   "codemirror_mode": {
    "name": "ipython",
    "version": 3
   },
   "file_extension": ".py",
   "mimetype": "text/x-python",
   "name": "python",
   "nbconvert_exporter": "python",
   "pygments_lexer": "ipython3",
   "version": "3.12.9"
  }
 },
 "nbformat": 4,
 "nbformat_minor": 2
}
