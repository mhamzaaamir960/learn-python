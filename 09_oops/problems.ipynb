{
 "cells": [
  {
   "cell_type": "markdown",
   "metadata": {
    "notebookRunGroups": {
     "groupValue": "1"
    }
   },
   "source": [
    "###  Problem: Create a Car class with attributes like brand and model. Then create an instance of this class."
   ]
  },
  {
   "cell_type": "code",
   "execution_count": null,
   "metadata": {},
   "outputs": [
    {
     "name": "stdout",
     "output_type": "stream",
     "text": [
      "Toyota\n",
      "Corolla\n"
     ]
    }
   ],
   "source": [
    "class Car:\n",
    "    def __init__(self, brand, model):\n",
    "        self.brand = brand\n",
    "        self.model = model\n",
    "        \n",
    "my_car = Car(\"Toyota\", \"Corolla\")\n",
    "print(my_car.brand) \n",
    "print(my_car.model)"
   ]
  },
  {
   "cell_type": "markdown",
   "metadata": {},
   "source": [
    "### Problem: Add a method to the Car class that displays the full name of the car (brand and model)."
   ]
  },
  {
   "cell_type": "code",
   "execution_count": 20,
   "metadata": {},
   "outputs": [
    {
     "name": "stdout",
     "output_type": "stream",
     "text": [
      "Toyota Grandi\n"
     ]
    }
   ],
   "source": [
    "class Car:\n",
    "    def __init__(self, brand, model):\n",
    "        self.brand = brand\n",
    "        self.model = model\n",
    "        \n",
    "    def full_name(self):\n",
    "        # print(f\"{self.brand} {self.model}\")\n",
    "        return self.brand + \" \" + self.model\n",
    "    \n",
    "my_car = Car(\"Toyota\", \"Grandi\")\n",
    "print(my_car.full_name())"
   ]
  },
  {
   "cell_type": "markdown",
   "metadata": {},
   "source": [
    "### Problem: Create an ElectricCar class that inherits from the Car class and has an additional attribute battery_size.\n"
   ]
  },
  {
   "cell_type": "code",
   "execution_count": 21,
   "metadata": {},
   "outputs": [
    {
     "name": "stdout",
     "output_type": "stream",
     "text": [
      "Tesls Model S\n",
      "85kwh\n"
     ]
    }
   ],
   "source": [
    "class ElectricCar(Car):\n",
    "    def __init__(self, brand, model, battery_size):\n",
    "        super().__init__(brand, model)\n",
    "        self.battery_size = battery_size\n",
    "        \n",
    "my_tesla = ElectricCar(\"Tesls\", \"Model S\", \"85kwh\")\n",
    "print(my_tesla.full_name())\n",
    "print(my_tesla.battery_size)"
   ]
  },
  {
   "cell_type": "markdown",
   "metadata": {},
   "source": [
    "### Problem: Modify the Car class to encapsulate the brand attribute, making it private, and provide a getter method for it."
   ]
  },
  {
   "cell_type": "code",
   "execution_count": 24,
   "metadata": {},
   "outputs": [
    {
     "name": "stdout",
     "output_type": "stream",
     "text": [
      "Tesla!!!\n"
     ]
    }
   ],
   "source": [
    "class Car:\n",
    "    def __init__(self, brand, model):\n",
    "        self.__brand = brand\n",
    "        self.model = model\n",
    "        \n",
    "    def get_brand(self):\n",
    "        return f\"{self.__brand}!!!\"\n",
    "        \n",
    "    def full_name(self):\n",
    "            return f\"{self.__brand} {self.model}\"\n",
    "        \n",
    "class ElectricCar(Car):\n",
    "    def __init__(self, brand, model, battery_size):\n",
    "        super().__init__(brand, model)\n",
    "        self.battery_size = battery_size\n",
    "        \n",
    "my_tesla = ElectricCar(\"Tesla\", \"Model 3\", \"90kwh\")\n",
    "# print(my_tesla.__brand) # not accessible due to private variable\n",
    "print(my_tesla.get_brand())\n",
    "        "
   ]
  },
  {
   "cell_type": "markdown",
   "metadata": {},
   "source": [
    "### Problem: Demonstrate polymorphism by defining a method fuel_type in both Car and ElectricCar classes, but with different behaviors."
   ]
  },
  {
   "cell_type": "code",
   "execution_count": 26,
   "metadata": {},
   "outputs": [
    {
     "name": "stdout",
     "output_type": "stream",
     "text": [
      "Toyota fuel type: Petorl or Diesel\n",
      "Tesls fuel type: Electric Charge\n"
     ]
    }
   ],
   "source": [
    "class Car:\n",
    "    def __init__(self, brand, model):\n",
    "        self.__brand = brand\n",
    "        self.model = model\n",
    "    \n",
    "    def get_brand(self):\n",
    "        return f\"{self.__brand}!!!\"\n",
    "    \n",
    "    def full_name(self):\n",
    "        return f\"{self.__brand} {self.model}\"\n",
    "    \n",
    "    def fuel_type(self):\n",
    "        return \"Petorl or Diesel\"\n",
    "\n",
    "class ElectricCar(Car):\n",
    "    def __init__(self, brand, model, battery_size):\n",
    "        super().__init__(brand, model)\n",
    "        self.battery_size = battery_size\n",
    "        \n",
    "    def fuel_type(self):\n",
    "        return \"Electric Charge\"\n",
    "    \n",
    "my_toyota = Car(\"Toyota\",\"Corolla\")\n",
    "print(f\"Toyota fuel type: {my_toyota.fuel_type()}\")\n",
    "\n",
    "my_tesla = ElectricCar(\"Tesla\", \"Model 3\", \"90kwh\")\n",
    "print(f\"Tesls fuel type: {my_tesla.fuel_type()}\")"
   ]
  },
  {
   "cell_type": "markdown",
   "metadata": {},
   "source": [
    "### Problem: Add a class variable to Car that keeps track of the number of cars created."
   ]
  },
  {
   "cell_type": "code",
   "execution_count": 1,
   "metadata": {
    "notebookRunGroups": {
     "groupValue": "1"
    }
   },
   "outputs": [
    {
     "name": "stdout",
     "output_type": "stream",
     "text": [
      "Toyota Corolla\n",
      "Tesla Model 3\n",
      "2\n"
     ]
    }
   ],
   "source": [
    "class Car:\n",
    "    total_cars = 0\n",
    "    def __init__(self, brand, model):\n",
    "        self.__brand = brand\n",
    "        self.model = model\n",
    "        Car.total_cars += 1\n",
    "    \n",
    "    def get_brand(self):\n",
    "        return f\"{self.__brand}!!!\"\n",
    "    \n",
    "    def full_name(self):\n",
    "        return f\"{self.__brand} {self.model}\"\n",
    "    \n",
    "    def fuel_type(self):\n",
    "        return \"Petrol or Diesel\"\n",
    "    \n",
    "    \n",
    "class ElectricCar(Car):\n",
    "    def __init__(self, brand, model, battery_size):\n",
    "        super().__init__(brand,model)\n",
    "        self.battery_size = battery_size\n",
    "        \n",
    "    def fuel_type(self):\n",
    "        return \"Electric Charge\"\n",
    "        \n",
    "        \n",
    "my_toyota = Car(\"Toyota\", \"Corolla\")\n",
    "print(my_toyota.full_name())\n",
    "\n",
    "my_tesla = ElectricCar(\"Tesla\", \"Model 3\" , \"90kwh\")\n",
    "print(my_tesla.full_name())\n",
    "\n",
    "print(Car.total_cars)"
   ]
  },
  {
   "cell_type": "markdown",
   "metadata": {},
   "source": [
    "### Problem: Add a static method to the Car class that returns a general description of a car."
   ]
  },
  {
   "cell_type": "code",
   "execution_count": 6,
   "metadata": {},
   "outputs": [
    {
     "name": "stdout",
     "output_type": "stream",
     "text": [
      "This is a car class with brand and model\n",
      "This is a car class with brand and model\n"
     ]
    }
   ],
   "source": [
    "class Car:\n",
    "    def __init__(self,brand, model):\n",
    "        self.__brand  = brand\n",
    "        self.model = model\n",
    "        \n",
    "    def get_brand(self):\n",
    "        return f\"{self.__brand}!!!\"\n",
    "    \n",
    "    def full_name(self):\n",
    "        return f\"{self.__brand} {self.model}\"\n",
    "    \n",
    "    def fuel_type(self):\n",
    "        return \"Petrol or Diesel\"\n",
    "    \n",
    "    @staticmethod\n",
    "    def general_info():\n",
    "        return \"This is a car class with brand and model\"\n",
    "    \n",
    "class ElectricCar(Car):\n",
    "    def __init__(self, brand, model, battery_size):\n",
    "        super().__init__(brand, model)\n",
    "        self.battery_size = battery_size\n",
    "        \n",
    "    def fuel_type(self):\n",
    "        return \"Electric Charge\"\n",
    "    \n",
    "my_car = Car(\"Honda\", \"Civic\")\n",
    "print(my_car.general_info())\n",
    "\n",
    "print(Car.general_info())"
   ]
  },
  {
   "cell_type": "markdown",
   "metadata": {},
   "source": [
    "### Problem: Use a property decorator in the Car class to make the model attribute read-only."
   ]
  },
  {
   "cell_type": "code",
   "execution_count": 18,
   "metadata": {},
   "outputs": [
    {
     "name": "stdout",
     "output_type": "stream",
     "text": [
      "Corolla\n"
     ]
    }
   ],
   "source": [
    "class Car:\n",
    "    def __init__(self, brand, model):\n",
    "        self.__brand = brand\n",
    "        self.__model = model\n",
    "        \n",
    "    def get_brand(self):\n",
    "        return f\"{self.__brand}!!!\"\n",
    "    \n",
    "    @property\n",
    "    def model(self):\n",
    "        return self.__model\n",
    "    \n",
    "    def full_name(self):\n",
    "        return f\"{self.__brand} {self._model}\"\n",
    "    \n",
    "    def fuel_type(self):\n",
    "        return \"Petrol or Diesel\"\n",
    "    \n",
    "class ElectricCar(Car):\n",
    "    def __init__(self, brand, model, battey_size):\n",
    "        super().__init__(brand, model)\n",
    "        self.battery_size = battey_size\n",
    "        \n",
    "    def fuel_type(self):\n",
    "        return \"Electric Charge\"\n",
    "    \n",
    "my_car = Car(\"Toyota\", \"Corolla\")\n",
    "# my_car.model = \"Grandi\"\n",
    "\n",
    "print(my_car.model)"
   ]
  },
  {
   "cell_type": "markdown",
   "metadata": {},
   "source": [
    "### Problem: Demonstrate the use of isinstance() to check if my_tesla is an instance of Car and ElectricCar."
   ]
  },
  {
   "cell_type": "code",
   "execution_count": 22,
   "metadata": {},
   "outputs": [
    {
     "name": "stdout",
     "output_type": "stream",
     "text": [
      "90kwh\n",
      "True\n",
      "True\n"
     ]
    }
   ],
   "source": [
    "class Car:\n",
    "    def __init__(self,brand, model):\n",
    "        self.__brand  = brand\n",
    "        self.model = model\n",
    "        \n",
    "    def get_brand(self):\n",
    "        return f\"{self.__brand}!!!\"\n",
    "    \n",
    "    def full_name(self):\n",
    "        return f\"{self.__brand} {self.model}\"\n",
    "    \n",
    "    def fuel_type(self):\n",
    "        return \"Petrol or Diesel\"\n",
    "    \n",
    "    @staticmethod\n",
    "    def general_info():\n",
    "        return \"This is a car class with brand and model\"\n",
    "    \n",
    "class ElectricCar(Car):\n",
    "    def __init__(self, brand, model, battery_size):\n",
    "        super().__init__(brand, model)\n",
    "        self.battery_size = battery_size\n",
    "        \n",
    "    def fuel_type(self):\n",
    "        return \"Electric Charge\"\n",
    "    \n",
    "my_car = ElectricCar(\"Honda\", \"Civic\", \"90kwh\")\n",
    "print(my_car.battery_size)\n",
    "\n",
    "print(isinstance(my_car, Car))\n",
    "print(isinstance(my_car, ElectricCar))\n"
   ]
  },
  {
   "cell_type": "markdown",
   "metadata": {},
   "source": [
    "### Problem: Create two classes Battery and Engine, and let the ElectricCar class inherit from both, demonstrating multiple inheritance."
   ]
  },
  {
   "cell_type": "code",
   "execution_count": null,
   "metadata": {},
   "outputs": [
    {
     "name": "stdout",
     "output_type": "stream",
     "text": [
      "This is an engine class\n",
      "This is a battery class\n"
     ]
    }
   ],
   "source": [
    "class Car:\n",
    "    def __init__(self, brand, model):\n",
    "        self.brand = brand\n",
    "        self.model = model\n",
    "\n",
    "class Engine:\n",
    "    def engine_info(self):\n",
    "        return \"This is an engine class\"\n",
    "    \n",
    "class Battery:\n",
    "    def battery_into(self):\n",
    "        return \"This is a battery class\"\n",
    "    \n",
    "class ElectricCar(Car, Engine, Battery):\n",
    "    pass\n",
    "\n",
    "my_new_tesla = ElectricCar(\"Tesls\", \"Model S\")\n",
    "print(my_new_tesla.engine_info())\n",
    "print(my_new_tesla.battery_into())"
   ]
  }
 ],
 "metadata": {
  "kernelspec": {
   "display_name": "Python 3",
   "language": "python",
   "name": "python3"
  },
  "language_info": {
   "codemirror_mode": {
    "name": "ipython",
    "version": 3
   },
   "file_extension": ".py",
   "mimetype": "text/x-python",
   "name": "python",
   "nbconvert_exporter": "python",
   "pygments_lexer": "ipython3",
   "version": "3.12.9"
  }
 },
 "nbformat": 4,
 "nbformat_minor": 2
}
