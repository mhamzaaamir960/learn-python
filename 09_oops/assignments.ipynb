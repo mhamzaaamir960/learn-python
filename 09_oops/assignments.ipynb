{
 "cells": [
  {
   "cell_type": "markdown",
   "metadata": {},
   "source": [
    "### Define a python class Person with instance object variables name and age. Set instance Object variables in `__init__()` method. Also define show() method to display name and age of a person."
   ]
  },
  {
   "cell_type": "code",
   "execution_count": 7,
   "metadata": {},
   "outputs": [
    {
     "name": "stdout",
     "output_type": "stream",
     "text": [
      "Name: Hamza, Age: 21\n",
      "Omer 18\n"
     ]
    }
   ],
   "source": [
    "class Person:\n",
    "    def __init__(self, name, age):\n",
    "        self.name = name\n",
    "        self.age = age\n",
    "        \n",
    "    def show(self):\n",
    "        print(f\"Name: {self.name}, Age: {self.age}\")\n",
    "        \n",
    "p1 = Person(\"Hamza\", 21)\n",
    "p1.show()\n",
    "\n",
    "p2 = Person(\"Omer\", 18)\n",
    "print(p2.name, p2.age)"
   ]
  },
  {
   "cell_type": "markdown",
   "metadata": {},
   "source": [
    "### Define a class Circle with instance object variable radius. Provide setter and getter for radius. Also define getArea() and getCircumference() methods."
   ]
  },
  {
   "cell_type": "code",
   "execution_count": 24,
   "metadata": {},
   "outputs": [
    {
     "name": "stdout",
     "output_type": "stream",
     "text": [
      "4\n",
      "50.26548245743669\n",
      "25.132741228718345\n"
     ]
    }
   ],
   "source": [
    "from math import pi\n",
    "\n",
    "class Circle:\n",
    "    def __init__(self, radius):\n",
    "        self.radius = radius\n",
    "        \n",
    "    def setRadius(self, radius):\n",
    "        self.radius = radius\n",
    "    def getRadius(self):\n",
    "        return self.radius\n",
    "    \n",
    "    def getArea(self):\n",
    "        return pi*(self.radius * self.radius)\n",
    "    def getCircumference(self):\n",
    "        return 2 * pi * self.radius\n",
    "    \n",
    "c1 = Circle(4)\n",
    "print(c1.getRadius())\n",
    "print(c1.getArea())\n",
    "print(c1.getCircumference())"
   ]
  },
  {
   "cell_type": "markdown",
   "metadata": {},
   "source": [
    "### Define a class Rectangle with length and breath as instance object variables. Provide setDimensions(), showDimensions(), and getArea() method in it."
   ]
  },
  {
   "cell_type": "code",
   "execution_count": 52,
   "metadata": {},
   "outputs": [
    {
     "name": "stdout",
     "output_type": "stream",
     "text": [
      "Length: 8, Breath: 5\n",
      "40\n",
      "Length: 10, Breath: 6\n",
      "60\n"
     ]
    }
   ],
   "source": [
    "class Rectangle:\n",
    "    def __init__(self, length, breath):\n",
    "        self.length = length\n",
    "        self.breath = breath\n",
    "        \n",
    "    def setDimensions(self, length, breath):\n",
    "        self.length = length\n",
    "        self.breath = breath\n",
    "    \n",
    "    def showDimensions(self):\n",
    "        return f\"Length: {self.length}, Breath: {self.breath}\"\n",
    "    \n",
    "    def getArea(self):\n",
    "        return self.length * self.breath\n",
    "    \n",
    "r1 = Rectangle(breath=5, length=8)\n",
    "print(r1.showDimensions())\n",
    "print(r1.getArea())\n",
    "\n",
    "r1.setDimensions(10, 6)\n",
    "print(r1.showDimensions())\n",
    "print(r1.getArea())"
   ]
  },
  {
   "cell_type": "markdown",
   "metadata": {},
   "source": [
    "### Define a class Book with instance object variables bookid, title and price. Initialize them via `__init__()` method. Also define method to show book variables."
   ]
  },
  {
   "cell_type": "code",
   "execution_count": 55,
   "metadata": {},
   "outputs": [
    {
     "name": "stdout",
     "output_type": "stream",
     "text": [
      "Book Id: None, Title: None, Price: None\n",
      "Book Id: 10, Title: Atomic Habits, Price: Rs. 400\n"
     ]
    }
   ],
   "source": [
    "class Book:\n",
    "    def __init__(self, bookid=None, title=None, price=None):\n",
    "        self.bookid = bookid\n",
    "        self.title = title\n",
    "        self.price = price\n",
    "        \n",
    "    def showBookData(self):\n",
    "        print(f\"Book Id: {self.bookid}, Title: {self.title}, Price: {self.price}\")\n",
    "        \n",
    "b1 = Book()\n",
    "b1.showBookData()\n",
    "\n",
    "b2 = Book(10, \"Atomic Habits\", \"Rs. 400\")\n",
    "b2.showBookData()"
   ]
  },
  {
   "cell_type": "markdown",
   "metadata": {},
   "source": [
    "### Define a class Team with instance object variable a list of team member names. Provide methods to input member names and display member names."
   ]
  },
  {
   "cell_type": "code",
   "execution_count": null,
   "metadata": {},
   "outputs": [
    {
     "name": "stdout",
     "output_type": "stream",
     "text": [
      "Hassan Omer Ali Ramix Wahab \n",
      "<class 'list'>\n"
     ]
    }
   ],
   "source": [
    "class Team:\n",
    "    def __init__(self, *names):\n",
    "        self.names = names\n",
    "        \n",
    "    def setNames(self):\n",
    "        names = []\n",
    "        flag = True\n",
    "        counter = 1\n",
    "        while flag:\n",
    "            name = input(f\"Enter a {counter} name: \")\n",
    "            names.append(name)\n",
    "            counter += 1\n",
    "            if len(names) == 5:\n",
    "                break\n",
    "\n",
    "        self.names = names\n",
    "    \n",
    "    def display(self):\n",
    "        for name in self.names:\n",
    "            print(name, end=\" \")\n",
    "        print(end=\"\\n\")\n",
    "            \n",
    "t1 = Team(\"Hamza\", \"Omer\", \"Ibrahim\", \"Fazeel\")\n",
    "# t1.display()\n",
    "\n",
    "t1.setNames()\n",
    "t1.display()"
   ]
  }
 ],
 "metadata": {
  "kernelspec": {
   "display_name": "Python 3",
   "language": "python",
   "name": "python3"
  },
  "language_info": {
   "codemirror_mode": {
    "name": "ipython",
    "version": 3
   },
   "file_extension": ".py",
   "mimetype": "text/x-python",
   "name": "python",
   "nbconvert_exporter": "python",
   "pygments_lexer": "ipython3",
   "version": "3.12.9"
  }
 },
 "nbformat": 4,
 "nbformat_minor": 2
}
