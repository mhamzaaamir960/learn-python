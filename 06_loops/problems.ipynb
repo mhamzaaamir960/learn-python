{
 "cells": [
  {
   "cell_type": "markdown",
   "metadata": {},
   "source": [
    "### Problem: Reverse a string using a loop."
   ]
  },
  {
   "cell_type": "code",
   "execution_count": 3,
   "metadata": {},
   "outputs": [
    {
     "name": "stdout",
     "output_type": "stream",
     "text": [
      "nohtyP\n"
     ]
    }
   ],
   "source": [
    "input_str = \"Python\"\n",
    "reversed_str = \"\"\n",
    "\n",
    "for char in input_str:\n",
    "    reversed_str = char  + reversed_str\n",
    "    \n",
    "print(reversed_str)"
   ]
  },
  {
   "cell_type": "markdown",
   "metadata": {},
   "source": [
    "### Problem: Given a string, find the first non-repeated character."
   ]
  },
  {
   "cell_type": "code",
   "execution_count": 20,
   "metadata": {},
   "outputs": [
    {
     "name": "stdout",
     "output_type": "stream",
     "text": [
      "z\n",
      "s\n",
      "r\n",
      "e\n",
      "First non-repeated char: e\n"
     ]
    }
   ],
   "source": [
    "input_str = \"zsrersz\"\n",
    "\n",
    "for char in input_str:\n",
    "    print(char)\n",
    "    if input_str.count(char) == 1:\n",
    "        print(f\"First non-repeated char: {char}\")\n",
    "        break"
   ]
  },
  {
   "cell_type": "markdown",
   "metadata": {},
   "source": [
    "### Problem: Compute the factorial of a number using a while loop."
   ]
  },
  {
   "cell_type": "code",
   "execution_count": null,
   "metadata": {},
   "outputs": [
    {
     "name": "stdout",
     "output_type": "stream",
     "text": [
      "Factorial of 0 is 120\n"
     ]
    }
   ],
   "source": [
    "number = int(input(\"Enter the number for calulating factorial: \"))\n",
    "factorial = 1\n",
    "\n",
    "\n",
    "while number > 0: \n",
    "    factorial *= number\n",
    "    number -= 1\n",
    "    \n",
    "print(f\"Factorial is {factorial}\")"
   ]
  },
  {
   "cell_type": "markdown",
   "metadata": {},
   "source": [
    "### Problem: Check if a number is prime."
   ]
  },
  {
   "cell_type": "code",
   "execution_count": 47,
   "metadata": {},
   "outputs": [
    {
     "name": "stdout",
     "output_type": "stream",
     "text": [
      "True\n"
     ]
    }
   ],
   "source": [
    "number = 1\n",
    "is_prime = True\n",
    "\n",
    "if number > 1:\n",
    "    for i in range(2, number):\n",
    "        if (number % i) == 0:\n",
    "            is_prime = False\n",
    "            break\n",
    "\n",
    "print(is_prime)"
   ]
  },
  {
   "cell_type": "markdown",
   "metadata": {},
   "source": [
    "### Problem: Check if all elements in a list are unique. If a duplicate is found, exit the loop and print the duplicate."
   ]
  },
  {
   "cell_type": "code",
   "execution_count": 50,
   "metadata": {},
   "outputs": [
    {
     "name": "stdout",
     "output_type": "stream",
     "text": [
      "Duplicated item: apple\n",
      "{'orange', 'apple', 'banana'}\n"
     ]
    }
   ],
   "source": [
    "items = [\"apple\", \"banana\", \"orange\", \"apple\", \"mango\"]\n",
    "\n",
    "unique_items = set()\n",
    "\n",
    "for item in items:\n",
    "    if item in unique_items:\n",
    "        print(f\"Duplicated item: {item}\")\n",
    "        break\n",
    "    unique_items.add(item)\n",
    "    \n",
    "print(unique_items)"
   ]
  },
  {
   "cell_type": "markdown",
   "metadata": {},
   "source": [
    "### Problem: Implement an exponential backoff strategy that doubles the wait time between retries, starting from 1 second, but stops after 5 retries."
   ]
  },
  {
   "cell_type": "code",
   "execution_count": 52,
   "metadata": {},
   "outputs": [
    {
     "name": "stdout",
     "output_type": "stream",
     "text": [
      "Attempt 1 - Wait time: 1\n",
      "Attempt 2 - Wait time: 2\n",
      "Attempt 3 - Wait time: 4\n",
      "Attempt 4 - Wait time: 8\n",
      "Attempt 5 - Wait time: 16\n"
     ]
    }
   ],
   "source": [
    "import time\n",
    "\n",
    "wait_time = 1\n",
    "max_retries = 5\n",
    "attempts = 0\n",
    "\n",
    "while attempts < max_retries:\n",
    "    print(f\"Attempt {attempts + 1} - Wait time: {wait_time}\")\n",
    "    time.sleep(wait_time)\n",
    "    wait_time *= 2\n",
    "    attempts += 1\n"
   ]
  },
  {
   "cell_type": "code",
   "execution_count": null,
   "metadata": {},
   "outputs": [],
   "source": []
  }
 ],
 "metadata": {
  "kernelspec": {
   "display_name": "Python 3",
   "language": "python",
   "name": "python3"
  },
  "language_info": {
   "codemirror_mode": {
    "name": "ipython",
    "version": 3
   },
   "file_extension": ".py",
   "mimetype": "text/x-python",
   "name": "python",
   "nbconvert_exporter": "python",
   "pygments_lexer": "ipython3",
   "version": "3.12.9"
  }
 },
 "nbformat": 4,
 "nbformat_minor": 2
}
