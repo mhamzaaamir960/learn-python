{
 "cells": [
  {
   "cell_type": "markdown",
   "metadata": {},
   "source": [
    "#### Define a class Node to describe a node of singly linked list."
   ]
  },
  {
   "cell_type": "code",
   "execution_count": 7,
   "metadata": {},
   "outputs": [],
   "source": [
    "class Node:\n",
    "    def __init__(self, item=None, next=None):\n",
    "        self.item = item    # stores the data\n",
    "        self.next = next    # points to the next node"
   ]
  },
  {
   "cell_type": "markdown",
   "metadata": {},
   "source": [
    "#### Define a class SLL to implement Singly Linked List with `__init__()` method to create and initialise start reference variale."
   ]
  },
  {
   "cell_type": "code",
   "execution_count": null,
   "metadata": {},
   "outputs": [
    {
     "name": "stdout",
     "output_type": "stream",
     "text": [
      "None\n"
     ]
    }
   ],
   "source": [
    "class Node:\n",
    "    def __init__(self, item=None, next=None):\n",
    "        self.item = item\n",
    "        self.next = next\n",
    "        \n",
    "class SLL:\n",
    "    def __init__(self):\n",
    "        self.start = Node()"
   ]
  },
  {
   "cell_type": "markdown",
   "metadata": {},
   "source": [
    "#### Define a method is_empty() to check if the linked list is empty in SLL class."
   ]
  },
  {
   "cell_type": "code",
   "execution_count": 22,
   "metadata": {},
   "outputs": [
    {
     "name": "stdout",
     "output_type": "stream",
     "text": [
      "True\n"
     ]
    }
   ],
   "source": [
    "class Node:\n",
    "    def __init__(self, item=None, next=None):\n",
    "        self.item = item\n",
    "        self.next = next\n",
    "    \n",
    "class SLL:\n",
    "    def __init__(self):\n",
    "        self.start = Node()\n",
    "        \n",
    "    def is_empty(self):\n",
    "        if self.start.item == None:\n",
    "           return True\n",
    "        return False\n",
    "    \n",
    "n1 = SLL()\n",
    "print(n1.is_empty())"
   ]
  },
  {
   "cell_type": "markdown",
   "metadata": {},
   "source": [
    "#### In a class SLL, define a method insert_at_start() to insert an element at the starting of the list."
   ]
  },
  {
   "cell_type": "code",
   "execution_count": 43,
   "metadata": {},
   "outputs": [
    {
     "name": "stdout",
     "output_type": "stream",
     "text": [
      "10\n",
      "20\n",
      "30\n",
      "40\n",
      "50\n",
      "None\n"
     ]
    }
   ],
   "source": [
    "class Node:\n",
    "    def __init__(self, item=None):\n",
    "        self.item = item\n",
    "        self.next = None\n",
    "    \n",
    "class SLL:\n",
    "    def __init__(self):\n",
    "        self.start = Node()\n",
    "    \n",
    "    def insert_at_start(self, item):\n",
    "        new_node = Node(item)\n",
    "        new_node.next = self.start\n",
    "        self.start = new_node\n",
    "        \n",
    "    def print_all_elements(self):\n",
    "        temp = self.start\n",
    "        while temp != None:\n",
    "            print(temp.item)\n",
    "            temp = temp.next\n",
    "        \n",
    "n1 = SLL()\n",
    "n1.insert_at_start(50)\n",
    "n1.insert_at_start(40)\n",
    "n1.insert_at_start(30)\n",
    "n1.insert_at_start(20)\n",
    "n1.insert_at_start(10)\n",
    "\n",
    "n1.print_all_elements()"
   ]
  },
  {
   "cell_type": "markdown",
   "metadata": {},
   "source": [
    "#### In a class SLL, define a method insert_at_last() to insert an element at the end of the list."
   ]
  },
  {
   "cell_type": "code",
   "execution_count": 44,
   "metadata": {},
   "outputs": [
    {
     "name": "stdout",
     "output_type": "stream",
     "text": [
      "10\n",
      "20\n",
      "30\n",
      "40\n",
      "50\n",
      "60\n"
     ]
    }
   ],
   "source": [
    "class Node:\n",
    "    def __init__(self, item=None):\n",
    "        self.item = item\n",
    "        self.next = None\n",
    "    \n",
    "class SLL:\n",
    "    def __init__(self):\n",
    "        self.start = Node()\n",
    "    \n",
    "    def insert_at_last(self, item):\n",
    "        new_node = Node(item)\n",
    "        if self.start.item == None:\n",
    "            self.start = new_node\n",
    "        else:\n",
    "            current = self.start\n",
    "            while current.next != None:\n",
    "                current = current.next\n",
    "            current.next = new_node\n",
    "    \n",
    "    def print_all_elements(self):\n",
    "        temp = self.start\n",
    "        while temp != None:\n",
    "            print(temp.item)\n",
    "            temp = temp.next\n",
    "            \n",
    "n1 = SLL()\n",
    "n1.insert_at_last(10)\n",
    "n1.insert_at_last(20)\n",
    "n1.insert_at_last(30)\n",
    "n1.insert_at_last(40)\n",
    "n1.insert_at_last(50)\n",
    "n1.insert_at_last(60)\n",
    "\n",
    "n1.print_all_elements()\n",
    "            "
   ]
  }
 ],
 "metadata": {
  "kernelspec": {
   "display_name": "Python 3",
   "language": "python",
   "name": "python3"
  },
  "language_info": {
   "codemirror_mode": {
    "name": "ipython",
    "version": 3
   },
   "file_extension": ".py",
   "mimetype": "text/x-python",
   "name": "python",
   "nbconvert_exporter": "python",
   "pygments_lexer": "ipython3",
   "version": "3.12.9"
  }
 },
 "nbformat": 4,
 "nbformat_minor": 2
}
