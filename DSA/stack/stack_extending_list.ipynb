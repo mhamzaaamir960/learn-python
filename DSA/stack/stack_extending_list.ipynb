{
 "cells": [
  {
   "cell_type": "markdown",
   "id": "cd16477d",
   "metadata": {},
   "source": [
    "### Define a class Stack to implement stack data structure by extending list class."
   ]
  },
  {
   "cell_type": "code",
   "execution_count": null,
   "id": "920b0b0a",
   "metadata": {},
   "outputs": [],
   "source": [
    "class Stack(list):\n",
    "    pass    "
   ]
  },
  {
   "cell_type": "markdown",
   "id": "edbee08a",
   "metadata": {},
   "source": [
    "### Define a method is_empty() to check if the stack is empty in Stack class."
   ]
  },
  {
   "cell_type": "code",
   "execution_count": null,
   "id": "d3a4d5eb",
   "metadata": {},
   "outputs": [],
   "source": [
    "class Stack(list):\n",
    "    def is_empty(self):\n",
    "        return len(self) == 0"
   ]
  },
  {
   "cell_type": "markdown",
   "id": "f71e3bb5",
   "metadata": {},
   "source": [
    "### In Stack class, define push() method to add data on the stack."
   ]
  },
  {
   "cell_type": "code",
   "execution_count": null,
   "id": "66a888a4",
   "metadata": {},
   "outputs": [],
   "source": [
    "class Stack(list):\n",
    "    def push(self,data):\n",
    "        self.append(data)"
   ]
  },
  {
   "cell_type": "markdown",
   "id": "6f48bb9b",
   "metadata": {},
   "source": [
    "### In Stack class, define pop() method to remove top element from the stack."
   ]
  },
  {
   "cell_type": "code",
   "execution_count": null,
   "id": "00f6dfc7",
   "metadata": {},
   "outputs": [],
   "source": [
    "class Stack(list):\n",
    "    def is_empty(self):\n",
    "        return len(self) == 0\n",
    "    \n",
    "    def pop(self):\n",
    "        if not self.is_empty():\n",
    "            return super().pop()\n",
    "        else:\n",
    "            raise IndexError(\"Stack is emtpy!\")"
   ]
  },
  {
   "cell_type": "markdown",
   "id": "861fa55c",
   "metadata": {},
   "source": [
    "### In Stack class, define peek() method to return top element from the stack."
   ]
  },
  {
   "cell_type": "code",
   "execution_count": 12,
   "id": "c48ac2c2",
   "metadata": {},
   "outputs": [],
   "source": [
    "class Stack(list):\n",
    "    def is_empty(self):\n",
    "        return len(self) == 0\n",
    "    \n",
    "    def peek(self):\n",
    "        if not self.is_empty():\n",
    "            return self[-1]\n",
    "        else:\n",
    "            raise IndexError(\"Stack is empty!\")"
   ]
  },
  {
   "cell_type": "markdown",
   "id": "e8fceb46",
   "metadata": {},
   "source": [
    "### In Stack class, define size() method to return the size of the stack that is number of items present in the stack."
   ]
  },
  {
   "cell_type": "code",
   "execution_count": 3,
   "id": "488933bf",
   "metadata": {},
   "outputs": [],
   "source": [
    "class Stack(list):\n",
    "    def is_empty(self):\n",
    "        return len(self) == 0\n",
    "    \n",
    "    def size(self):\n",
    "        if not self.is_empty():\n",
    "            return len(self)\n",
    "        else:\n",
    "            raise IndexError(\"Stack is empty!\")"
   ]
  },
  {
   "cell_type": "markdown",
   "id": "fdb5280a",
   "metadata": {},
   "source": [
    "### Implement a way to restrict use of insert() method of list class from stack object."
   ]
  },
  {
   "cell_type": "code",
   "execution_count": null,
   "id": "9fe07ff3",
   "metadata": {},
   "outputs": [],
   "source": [
    "class Stack(list):\n",
    "    def insert(self,index,item):\n",
    "        raise AttributeError(\"Stack has no 'insert' attribute!\")"
   ]
  }
 ],
 "metadata": {
  "kernelspec": {
   "display_name": "Python 3",
   "language": "python",
   "name": "python3"
  },
  "language_info": {
   "codemirror_mode": {
    "name": "ipython",
    "version": 3
   },
   "file_extension": ".py",
   "mimetype": "text/x-python",
   "name": "python",
   "nbconvert_exporter": "python",
   "pygments_lexer": "ipython3",
   "version": "3.12.9"
  }
 },
 "nbformat": 4,
 "nbformat_minor": 5
}
