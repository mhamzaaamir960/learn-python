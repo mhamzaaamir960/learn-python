{
 "cells": [
  {
   "cell_type": "markdown",
   "id": "0d94b90f",
   "metadata": {},
   "source": [
    "### Define a class Stack to implement stack data structure using list. Define `__init__()` method to create an empty list object as instance object member of Stack"
   ]
  },
  {
   "cell_type": "code",
   "execution_count": null,
   "id": "67b26aed",
   "metadata": {},
   "outputs": [],
   "source": [
    "class Stack:\n",
    "    def __init__(self):\n",
    "        self.stack = []"
   ]
  },
  {
   "cell_type": "markdown",
   "id": "55317dbf",
   "metadata": {},
   "source": [
    "### Define a method is_empty() to check if the stack is empty in Stack class"
   ]
  },
  {
   "cell_type": "code",
   "execution_count": null,
   "id": "e9553ab5",
   "metadata": {},
   "outputs": [],
   "source": [
    "class Stack:\n",
    "    def __init__(self):\n",
    "        self.stack = []\n",
    "    \n",
    "    def is_empty(self):\n",
    "        return len(self.stack) == 0"
   ]
  },
  {
   "cell_type": "markdown",
   "id": "d4d6b4da",
   "metadata": {},
   "source": [
    "### In Stack class, define push() method to add data onto the stack."
   ]
  },
  {
   "cell_type": "code",
   "execution_count": 10,
   "id": "e954fa26",
   "metadata": {},
   "outputs": [],
   "source": [
    "class Stack:\n",
    "    def __init__(self):\n",
    "        self.stack = []\n",
    "        self.top = -1\n",
    "        \n",
    "    def is_empty(self):\n",
    "        return self.top == -1\n",
    "    \n",
    "    def push(self,data):\n",
    "        if self.is_empty():\n",
    "            self.top = 0\n",
    "        else:\n",
    "            self.top += 1\n",
    "        self.stack.append(data)"
   ]
  },
  {
   "cell_type": "markdown",
   "id": "86ca709e",
   "metadata": {},
   "source": [
    "### In Stack class, define pop() method to remove top element from the stack."
   ]
  },
  {
   "cell_type": "code",
   "execution_count": null,
   "id": "5c35caff",
   "metadata": {},
   "outputs": [],
   "source": [
    "class Stack:\n",
    "    def __init__(self):\n",
    "        self.stack = []\n",
    "        self.top = -1\n",
    "        \n",
    "    def is_empty(self):\n",
    "        return self.top == -1\n",
    "    \n",
    "    def pop(self):\n",
    "        if not self.is_empty():\n",
    "            if len(self.stack) == 1:\n",
    "                self.top = -1\n",
    "            else:\n",
    "                self.top -= 1\n",
    "            self.stack.pop()"
   ]
  },
  {
   "cell_type": "markdown",
   "id": "4a449e7e",
   "metadata": {},
   "source": [
    "### In Stack class, define peek() method to return top element on the stack."
   ]
  },
  {
   "cell_type": "code",
   "execution_count": null,
   "id": "6d8d9694",
   "metadata": {},
   "outputs": [],
   "source": [
    "class Stack:\n",
    "    def __init__(self):\n",
    "        self.stack = []\n",
    "        self.top = -1\n",
    "        \n",
    "    def is_empty(self):\n",
    "        return self.top == -1\n",
    "    \n",
    "    def peek(self):\n",
    "        if not self.is_empty():\n",
    "            return self.stack[self.top]\n",
    "        else:\n",
    "            return \"Stack is empty!\""
   ]
  },
  {
   "cell_type": "markdown",
   "id": "2db7a0b8",
   "metadata": {},
   "source": [
    "### In Stack class, define size() method to return size of the stack that is number of items present in the stack."
   ]
  },
  {
   "cell_type": "code",
   "execution_count": null,
   "id": "d73ce79c",
   "metadata": {},
   "outputs": [],
   "source": [
    "class Stack:\n",
    "    def __init__(self):\n",
    "        self.stack = []\n",
    "        self.top = -1\n",
    "    \n",
    "    def is_empty(self):\n",
    "        return self.top == -1\n",
    "    \n",
    "    def size(self):\n",
    "        if self.is_empty():\n",
    "            return \"Stack is empty!\"\n",
    "        else:\n",
    "            self.top +=1 \n",
    "            return self.top"
   ]
  }
 ],
 "metadata": {
  "kernelspec": {
   "display_name": "Python 3",
   "language": "python",
   "name": "python3"
  },
  "language_info": {
   "codemirror_mode": {
    "name": "ipython",
    "version": 3
   },
   "file_extension": ".py",
   "mimetype": "text/x-python",
   "name": "python",
   "nbconvert_exporter": "python",
   "pygments_lexer": "ipython3",
   "version": "3.12.9"
  }
 },
 "nbformat": 4,
 "nbformat_minor": 5
}
