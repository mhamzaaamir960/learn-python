{
 "cells": [
  {
   "cell_type": "markdown",
   "id": "a9d37552",
   "metadata": {},
   "source": [
    "### Define a class Node to describe a node of a doubly linked list."
   ]
  },
  {
   "cell_type": "code",
   "execution_count": null,
   "id": "61b3b1d1",
   "metadata": {},
   "outputs": [],
   "source": [
    "class Node:\n",
    "    def __init__(self, item=None, prev=None, next=None):\n",
    "        self.item = item\n",
    "        self.prev = prev\n",
    "        self.next = next"
   ]
  },
  {
   "cell_type": "markdown",
   "id": "1947fa2d",
   "metadata": {},
   "source": [
    "### Define a class DLL to implement Doubly Linked List with `__init__()` method to create and initialize start reference variable."
   ]
  },
  {
   "cell_type": "code",
   "execution_count": null,
   "id": "800dd4f4",
   "metadata": {},
   "outputs": [],
   "source": [
    "class Node:\n",
    "    def __init__(self, item=None, prev=None, next=None):\n",
    "        self.item = item\n",
    "        self.prev = prev\n",
    "        self.next = next\n",
    "        \n",
    "class DLL:\n",
    "    def __init__(self, start=None):\n",
    "        self.start = start"
   ]
  },
  {
   "cell_type": "markdown",
   "id": "2ad704ae",
   "metadata": {},
   "source": [
    "### Define a method is_empty() to check if the Linked List is emtpy in DLL class."
   ]
  },
  {
   "cell_type": "code",
   "execution_count": 6,
   "id": "9794ecc1",
   "metadata": {},
   "outputs": [
    {
     "name": "stdout",
     "output_type": "stream",
     "text": [
      "True\n"
     ]
    }
   ],
   "source": [
    "class Node:\n",
    "    def __init__(self, item=None, prev=None, next=None):\n",
    "        self.item = item\n",
    "        self.prev = prev\n",
    "        self.next = next\n",
    "        \n",
    "class DLL:\n",
    "    def __init__(self, start=None):\n",
    "        self.start = start\n",
    "    \n",
    "    def is_empty(self):\n",
    "        return self.start == None\n",
    "    \n",
    "n = DLL()\n",
    "print(n.is_empty())"
   ]
  },
  {
   "cell_type": "markdown",
   "id": "6bae0c70",
   "metadata": {},
   "source": [
    "### In class DLL, define a method insert_at_start() to insert an element at the starting of the list."
   ]
  },
  {
   "cell_type": "code",
   "execution_count": 1,
   "id": "41d59cf7",
   "metadata": {},
   "outputs": [],
   "source": [
    "class Node:\n",
    "    def __init__(self, item=None, prev=None, next=None):\n",
    "        self.item = item\n",
    "        self.prev = prev\n",
    "        self.next = next\n",
    "        \n",
    "class DLL:\n",
    "    def __init__(self, start=None):\n",
    "        self.start = start\n",
    "        \n",
    "    def is_empty(self):\n",
    "        return self.start == None\n",
    "    \n",
    "    def insert_at_start(self, data):\n",
    "        new_node = Node(data,next=self.start)\n",
    "        if self.start is not None:\n",
    "            self.start.prev = new_node\n",
    "        self.start = new_node"
   ]
  },
  {
   "cell_type": "markdown",
   "id": "4b8d9f16",
   "metadata": {},
   "source": [
    "### In class DLL, define a method insert_at_last() to insert an element at the end of the list."
   ]
  },
  {
   "cell_type": "code",
   "execution_count": 2,
   "id": "76de27ff",
   "metadata": {},
   "outputs": [],
   "source": [
    "class Node:\n",
    "    def __init__(self, item=None, prev=None, next=None):\n",
    "        self.item = item\n",
    "        self.prev = prev\n",
    "        self.next = next\n",
    "        \n",
    "class DLL:\n",
    "    def __init__(self, start=None):\n",
    "        self.start = start\n",
    "        \n",
    "    def is_empty(self):\n",
    "        return self.start == None\n",
    "    \n",
    "    def insert_at_last(self, data):\n",
    "        new_node = Node(data)\n",
    "        if self.is_empty():\n",
    "            self.start = new_node\n",
    "        else:\n",
    "            current = self.start\n",
    "            while current.next is not None:\n",
    "                current = current.next\n",
    "            current.next = new_node\n",
    "            new_node.prev = current     "
   ]
  },
  {
   "cell_type": "markdown",
   "id": "0ad6a2d2",
   "metadata": {},
   "source": [
    "### In class DLL, define a method search() to find the node with sepcified element value."
   ]
  },
  {
   "cell_type": "code",
   "execution_count": 1,
   "id": "089ca0df",
   "metadata": {},
   "outputs": [],
   "source": [
    "class Node:\n",
    "    def __init__(self, item=None, prev=None, next=None):\n",
    "        self.item = item\n",
    "        self.prev = prev\n",
    "        self.next = next\n",
    "        \n",
    "class DLL:\n",
    "    def __init__(self, start=None):\n",
    "        self.start = start\n",
    "    \n",
    "    def is_empty(self):\n",
    "        return self.start == None\n",
    "    \n",
    "    def insert_at_last(self, data):\n",
    "        new_node = Node(data)\n",
    "        if self.is_empty():\n",
    "            self.start = new_node\n",
    "        else:\n",
    "            current = self.start\n",
    "            while current.next is not None:\n",
    "                current = current.next\n",
    "                \n",
    "            current.next = new_node\n",
    "            new_node.prev = current\n",
    "            \n",
    "            \n",
    "    def search(self, data):\n",
    "        temp = self.start\n",
    "        while temp is not None:\n",
    "            if temp.item == data:\n",
    "                return temp\n",
    "            temp = temp.next\n",
    "        if temp is None:\n",
    "            return None\n"
   ]
  },
  {
   "cell_type": "markdown",
   "id": "2cdafc30",
   "metadata": {},
   "source": [
    "### In class DLL, define a method insert_after() to insert a new node after a given node of the list."
   ]
  },
  {
   "cell_type": "code",
   "execution_count": null,
   "id": "94f40345",
   "metadata": {},
   "outputs": [],
   "source": [
    "class Node:\n",
    "    def __init__(self, item=None, prev=None, next=None):\n",
    "        self.item = item\n",
    "        self.prev = prev\n",
    "        self.next = next\n",
    "        \n",
    "class DLL:\n",
    "    def __init__(self, start=None):\n",
    "        self.start = start\n",
    "    \n",
    "    def is_empty(self):\n",
    "        return self.start == None\n",
    "        \n",
    "    def insert_after(self, temp, data):\n",
    "        if temp is not None:\n",
    "            new_node = Node(data, prev=temp, next=temp.next)\n",
    "            if temp.next is not None:\n",
    "                temp.next.prev = new_node\n",
    "            temp.next = new_node"
   ]
  },
  {
   "cell_type": "markdown",
   "id": "81a1bd6e",
   "metadata": {},
   "source": [
    "### In class DLL, define a method delete_first() to delete first element from the list."
   ]
  },
  {
   "cell_type": "code",
   "execution_count": null,
   "id": "33dda2a3",
   "metadata": {},
   "outputs": [],
   "source": [
    "class Node:\n",
    "    def __init__(self, item=None, prev=None, next=None):\n",
    "        self.item = item\n",
    "        self.prev = prev\n",
    "        self.next = next\n",
    "        \n",
    "class DLL:\n",
    "    def __init__(self, start=None):\n",
    "        self.start = start\n",
    "            \n",
    "    def delete_first(self):\n",
    "        if self.start:\n",
    "            temp = self.start\n",
    "            self.start = temp.next\n",
    "            if self.start:\n",
    "                self.start.prev = None\n",
    "            # print(temp.item)\n",
    "            return temp.item"
   ]
  },
  {
   "cell_type": "markdown",
   "id": "1638e793",
   "metadata": {},
   "source": [
    "### In class DLL, define a method delete_last() to delete last element from the list."
   ]
  },
  {
   "cell_type": "code",
   "execution_count": null,
   "id": "78276c4c",
   "metadata": {},
   "outputs": [
    {
     "name": "stdout",
     "output_type": "stream",
     "text": [
      "10\n",
      "20\n"
     ]
    }
   ],
   "source": [
    "class Node:\n",
    "    def __init__(self, item=None, prev=None, next=None):\n",
    "        self.item = item\n",
    "        self.prev = prev\n",
    "        self.next = next\n",
    "        \n",
    "class DLL:\n",
    "    def __init__(self, start=None):\n",
    "        self.start = start\n",
    "    \n",
    "    def is_empty(self):\n",
    "        return self.start == None\n",
    "    \n",
    "    def delete_last(self):\n",
    "        temp = self.start\n",
    "        if not temp:\n",
    "            pass\n",
    "        elif not temp.next:\n",
    "            self.start = None\n",
    "        else:\n",
    "            while temp.next.next:\n",
    "                temp = temp.next\n",
    "            temp.next.prev = None\n",
    "            temp.next = None\n",
    "        return self.start"
   ]
  },
  {
   "cell_type": "markdown",
   "id": "59240627",
   "metadata": {},
   "source": [
    "### In class DLL, define a method delete_item() to delete specified element from the list."
   ]
  },
  {
   "cell_type": "code",
   "execution_count": 5,
   "id": "ffb00c9f",
   "metadata": {},
   "outputs": [],
   "source": [
    "class Node:\n",
    "    def __init__(self, item=None, prev=None, next=None):\n",
    "        self.item = item\n",
    "        self.prev = prev\n",
    "        self.next = next\n",
    "        \n",
    "class DLL:\n",
    "    def __init__(self, start=None):\n",
    "        self.start = start\n",
    "    \n",
    "    def is_empty(self):\n",
    "        return self.start == None\n",
    "    \n",
    "    def delete_item(self, data):\n",
    "        if not self.start:\n",
    "            pass\n",
    "        elif not self.start.next and self.start.item == data:\n",
    "            self.start = None\n",
    "        else:\n",
    "            temp = self.start\n",
    "            while temp:\n",
    "                if temp.item == data:\n",
    "                    if temp.prev:\n",
    "                        temp.prev.next = temp.next\n",
    "                        if temp.next:\n",
    "                            temp.next.prev = temp.prev\n",
    "                    else:\n",
    "                        self.start = temp.next\n",
    "                        self.start.prev = None\n",
    "                    break\n",
    "                temp = temp.next              "
   ]
  }
 ],
 "metadata": {
  "kernelspec": {
   "display_name": "Python 3",
   "language": "python",
   "name": "python3"
  },
  "language_info": {
   "codemirror_mode": {
    "name": "ipython",
    "version": 3
   },
   "file_extension": ".py",
   "mimetype": "text/x-python",
   "name": "python",
   "nbconvert_exporter": "python",
   "pygments_lexer": "ipython3",
   "version": "3.12.10"
  }
 },
 "nbformat": 4,
 "nbformat_minor": 5
}
