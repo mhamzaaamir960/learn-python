{
 "cells": [
  {
   "cell_type": "markdown",
   "id": "45c0ed0e",
   "metadata": {},
   "source": [
    "### Define a class Node to describe a node of circular linked list."
   ]
  },
  {
   "cell_type": "code",
   "execution_count": 2,
   "id": "7cb2de24",
   "metadata": {},
   "outputs": [],
   "source": [
    "class Node:\n",
    "    def __init__(self, item=None, next=None):\n",
    "        self.item = item \n",
    "        self.next = next"
   ]
  },
  {
   "cell_type": "markdown",
   "id": "91fc7758",
   "metadata": {},
   "source": [
    "### Define a class CLL to implement Circular Linked List with `__init__()` method to create and initialize last reference variable."
   ]
  },
  {
   "cell_type": "code",
   "execution_count": 3,
   "id": "e8f3d3ce",
   "metadata": {},
   "outputs": [],
   "source": [
    "class CLL:\n",
    "    def __init__(self, last=None):\n",
    "        self.last = last"
   ]
  },
  {
   "cell_type": "markdown",
   "id": "eeeabf36",
   "metadata": {},
   "source": [
    "### Define a method is_empty() to check if the linked list is empty in CLL class."
   ]
  },
  {
   "cell_type": "code",
   "execution_count": 4,
   "id": "6efff6f2",
   "metadata": {},
   "outputs": [],
   "source": [
    "class CLL:\n",
    "    def __init__(self, last=None):\n",
    "        self.last = last\n",
    "        \n",
    "    def is_empty(self):\n",
    "        return self.last == None"
   ]
  },
  {
   "cell_type": "markdown",
   "id": "8cc061b2",
   "metadata": {},
   "source": [
    "### In class CLL, define a method insert_at_start() to insert an element at the starting of the list."
   ]
  },
  {
   "cell_type": "code",
   "execution_count": null,
   "id": "dae0dd07",
   "metadata": {},
   "outputs": [],
   "source": [
    "class CLL:\n",
    "    def __init__(self, last=None):\n",
    "        self.last = last\n",
    "        \n",
    "    def is_empty(self):\n",
    "        return self.last == None\n",
    "    \n",
    "    def insert_at_start(self, data):\n",
    "        new_node = Node(data)\n",
    "        if self.is_empty():\n",
    "            self.last = new_node\n",
    "            new_node.next = self.last\n",
    "        else:\n",
    "            temp = self.last\n",
    "            new_node.next = temp.next\n",
    "            temp.next = new_node"
   ]
  },
  {
   "cell_type": "markdown",
   "id": "612e4fe6",
   "metadata": {},
   "source": [
    "### In class CLL, define a method insert_at_last() to insert an element at the end of the list."
   ]
  },
  {
   "cell_type": "code",
   "execution_count": null,
   "id": "f6ca5fb7",
   "metadata": {},
   "outputs": [],
   "source": [
    "class CLL:\n",
    "    def __init__(self, last=None):\n",
    "        self.last = last\n",
    "        \n",
    "    def is_empty(self):\n",
    "        return self.last == None\n",
    "    \n",
    "    def insert_at_last(self, data):\n",
    "        new_node = Node(data)\n",
    "        if self.is_empty():\n",
    "            self.last = new_node\n",
    "            new_node.next = self.last\n",
    "        else:\n",
    "            temp = self.last\n",
    "            new_node.next = temp.next\n",
    "            temp.next = new_node\n",
    "            self.last = new_node"
   ]
  },
  {
   "cell_type": "markdown",
   "id": "e4db2bc9",
   "metadata": {},
   "source": [
    "### In class CLL, define a method search() to find the node with specified element value."
   ]
  },
  {
   "cell_type": "code",
   "execution_count": null,
   "id": "f38da4b2",
   "metadata": {},
   "outputs": [],
   "source": [
    "class CLL:\n",
    "    def __init__(self, last=None):\n",
    "        self.last = last\n",
    "        \n",
    "    def is_empty(self):\n",
    "        return self.last == None\n",
    "    \n",
    "    \n",
    "    def search(self, data):\n",
    "        if not self.is_empty():\n",
    "            temp = self.last.next\n",
    "            if temp == self.last:\n",
    "                if temp.item == data:\n",
    "                    return temp\n",
    "            else:\n",
    "                while temp:\n",
    "                    if temp.item == data:\n",
    "                        return temp\n",
    "                    temp = temp.next\n",
    "                    if temp == self.last.next:\n",
    "                        break\n",
    "        return None "
   ]
  },
  {
   "cell_type": "markdown",
   "id": "e0422786",
   "metadata": {},
   "source": [
    "### In class CLL, define a method insert_after() to insert a new node after a given node of the list."
   ]
  },
  {
   "cell_type": "code",
   "execution_count": null,
   "id": "e28a87da",
   "metadata": {},
   "outputs": [],
   "source": [
    "class CLL:\n",
    "    def __init__(self, last=None):\n",
    "        self.last = last\n",
    "        \n",
    "    def insert_after(self, temp, data):\n",
    "        if temp:\n",
    "            new_node = Node(data, temp.next)\n",
    "            temp.next = new_node\n",
    "            if temp == self.last:\n",
    "                self.last = new_node\n",
    "            return new_node\n",
    "        return None"
   ]
  },
  {
   "cell_type": "markdown",
   "id": "4e22e785",
   "metadata": {},
   "source": [
    "### In class CLL, define a method to print all elements of the list."
   ]
  },
  {
   "cell_type": "code",
   "execution_count": 11,
   "id": "008cbf2c",
   "metadata": {},
   "outputs": [],
   "source": [
    "class CLL:\n",
    "    def __init__(self, last=None):\n",
    "        self.last = last\n",
    "    \n",
    "    def print_values(self):\n",
    "        temp = self.last.next\n",
    "        while temp:\n",
    "            print(temp.item)\n",
    "            temp = temp.next\n",
    "            if temp == self.last.next:\n",
    "                break"
   ]
  },
  {
   "cell_type": "markdown",
   "id": "980cef19",
   "metadata": {},
   "source": [
    "### In class CLL, define a method delete_first() to delete first element from the list."
   ]
  },
  {
   "cell_type": "code",
   "execution_count": null,
   "id": "3b450eb1",
   "metadata": {},
   "outputs": [],
   "source": [
    "class CLL:\n",
    "    def __init__(self, last=None):\n",
    "        self.last = last\n",
    "        \n",
    "    def is_empty(self):\n",
    "        return self.last == None\n",
    "    \n",
    "    def delete_first(self):\n",
    "        if not self.is_empty():\n",
    "            if self.last == self.last.next:\n",
    "                self.last = None\n",
    "            else:\n",
    "                self.last.next = self.last.next.next"
   ]
  },
  {
   "cell_type": "markdown",
   "id": "d5fae4c6",
   "metadata": {},
   "source": [
    "### In class CLL, define a method delete_last() to delete last element from the list."
   ]
  },
  {
   "cell_type": "code",
   "execution_count": 12,
   "id": "29593c1f",
   "metadata": {},
   "outputs": [],
   "source": [
    "class CLL:\n",
    "    def __init__(self, last=None):\n",
    "        self.last = last\n",
    "        \n",
    "    def is_empty(self):\n",
    "        return self.last == None\n",
    "    \n",
    "    def delete_last(self):\n",
    "        if not self.is_empty():\n",
    "            if self.last == self.last.next:\n",
    "                self.last = None\n",
    "            else:\n",
    "                temp = self.last\n",
    "                while temp.next != self.last:\n",
    "                    temp = temp.next\n",
    "                temp.next = self.last.next\n",
    "                self.last = temp   "
   ]
  },
  {
   "cell_type": "markdown",
   "id": "3625e792",
   "metadata": {},
   "source": [
    "### In class CLL, define a method delete_item() to delete specified element from the list."
   ]
  },
  {
   "cell_type": "code",
   "execution_count": 12,
   "id": "2620d4f2",
   "metadata": {},
   "outputs": [],
   "source": [
    "class CLL:\n",
    "    def __init__(self, last=None):\n",
    "        self.last = last\n",
    "    \n",
    "    def is_empty(self):\n",
    "        return self.last == None\n",
    "    \n",
    "    def delete_item(self, data):\n",
    "        if not self.is_empty():\n",
    "            if self.last == self.last.next:\n",
    "                if self.last.item == data: \n",
    "                    self.last = None\n",
    "            else:\n",
    "                temp = self.last.next\n",
    "                if temp.item == data:\n",
    "                    self.last.next = temp.next\n",
    "                else:\n",
    "                    while temp.next:\n",
    "                        if temp.next.item == data:\n",
    "                            if temp.next == self.last:\n",
    "                                self.last = temp\n",
    "                            temp.next = temp.next.next\n",
    "                            return temp\n",
    "                        else:\n",
    "                            temp = temp.next\n",
    "                        if temp == self.last.next:\n",
    "                            break                    "
   ]
  },
  {
   "cell_type": "markdown",
   "id": "139379db",
   "metadata": {},
   "source": [
    "### In class CLL, implement iterator for CLL to access all the elements of the list in a sequence."
   ]
  },
  {
   "cell_type": "code",
   "execution_count": 6,
   "id": "bbe9704b",
   "metadata": {},
   "outputs": [
    {
     "name": "stdout",
     "output_type": "stream",
     "text": [
      "10\n",
      "20\n",
      "30\n",
      "40\n",
      "50\n"
     ]
    }
   ],
   "source": [
    "class CLL:\n",
    "    def __init__(self, last=None):\n",
    "        self.last = last\n",
    "        \n",
    "        \n",
    "    def is_empty(self):\n",
    "        return self.last == None\n",
    "    \n",
    "    def insert_at_last(self, data):\n",
    "        new_node = Node(data)\n",
    "        if self.is_empty():\n",
    "            self.last = new_node\n",
    "            new_node.next = self.last\n",
    "        else:\n",
    "            temp = self.last\n",
    "            new_node.next = temp.next\n",
    "            temp.next = new_node\n",
    "            self.last = new_node\n",
    "            \n",
    "    def __iter__(self):\n",
    "        if not self.last:\n",
    "            return CLLIterator(None)\n",
    "        else:\n",
    "            return CLLIterator(self.last.next)\n",
    "    \n",
    "class CLLIterator:\n",
    "    def __init__(self,start):\n",
    "        self.current = start\n",
    "        self.start = start\n",
    "        self.flag = False\n",
    "        \n",
    "    def __iter__(self):\n",
    "        return self\n",
    "    \n",
    "    def __next__(self):\n",
    "        if not self.current:\n",
    "            raise StopIteration \n",
    "        if self.current == self.start and self.flag == True:\n",
    "            raise StopIteration\n",
    "        else:\n",
    "            self.flag = True\n",
    "                 \n",
    "        data = self.current.item\n",
    "        self.current = self.current.next\n",
    "        return data\n",
    "    \n",
    "    \n",
    "cll = CLL()\n",
    "cll.insert_at_last(10)\n",
    "cll.insert_at_last(20)\n",
    "cll.insert_at_last(30)\n",
    "cll.insert_at_last(40)\n",
    "cll.insert_at_last(50)\n",
    "\n",
    "for val in cll:\n",
    "    print(val)"
   ]
  }
 ],
 "metadata": {
  "kernelspec": {
   "display_name": "Python 3",
   "language": "python",
   "name": "python3"
  },
  "language_info": {
   "codemirror_mode": {
    "name": "ipython",
    "version": 3
   },
   "file_extension": ".py",
   "mimetype": "text/x-python",
   "name": "python",
   "nbconvert_exporter": "python",
   "pygments_lexer": "ipython3",
   "version": "3.12.9"
  }
 },
 "nbformat": 4,
 "nbformat_minor": 5
}
