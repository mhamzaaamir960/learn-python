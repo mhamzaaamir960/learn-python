{
 "cells": [
  {
   "cell_type": "markdown",
   "metadata": {},
   "source": [
    "#### Define a class Node to describe a node of singly linked list."
   ]
  },
  {
   "cell_type": "code",
   "execution_count": 7,
   "metadata": {},
   "outputs": [],
   "source": [
    "class Node:\n",
    "    def __init__(self, item=None, next=None):\n",
    "        self.item = item    # stores the data\n",
    "        self.next = next    # points to the next node"
   ]
  },
  {
   "cell_type": "markdown",
   "metadata": {},
   "source": [
    "#### Define a class SLL to implement Singly Linked List with `__init__()` method to create and initialise start reference variale."
   ]
  },
  {
   "cell_type": "code",
   "execution_count": null,
   "metadata": {},
   "outputs": [
    {
     "name": "stdout",
     "output_type": "stream",
     "text": [
      "None\n"
     ]
    }
   ],
   "source": [
    "class Node:\n",
    "    def __init__(self, item=None, next=None):\n",
    "        self.item = item\n",
    "        self.next = next\n",
    "        \n",
    "class SLL:\n",
    "    def __init__(self, start=None):\n",
    "        self.start = start"
   ]
  },
  {
   "cell_type": "markdown",
   "metadata": {},
   "source": [
    "#### Define a method is_empty() to check if the linked list is empty in SLL class."
   ]
  },
  {
   "cell_type": "code",
   "execution_count": null,
   "metadata": {},
   "outputs": [
    {
     "name": "stdout",
     "output_type": "stream",
     "text": [
      "True\n"
     ]
    }
   ],
   "source": [
    "class Node:\n",
    "    def __init__(self, item=None, next=None):\n",
    "        self.item = item\n",
    "        self.next = next\n",
    "    \n",
    "class SLL:\n",
    "    def __init__(self, start=None):\n",
    "        self.start = start\n",
    "        \n",
    "    def is_empty(self):\n",
    "        return self.start == None\n",
    "    \n",
    "n1 = SLL()\n",
    "print(n1.is_empty())"
   ]
  },
  {
   "cell_type": "markdown",
   "metadata": {},
   "source": [
    "#### In a class SLL, define a method insert_at_start() to insert an element at the starting of the list."
   ]
  },
  {
   "cell_type": "code",
   "execution_count": 11,
   "metadata": {},
   "outputs": [
    {
     "name": "stdout",
     "output_type": "stream",
     "text": [
      "60\n",
      "10\n",
      "20\n",
      "30\n",
      "40\n",
      "50\n"
     ]
    }
   ],
   "source": [
    "class Node:\n",
    "    def __init__(self, item=None, next=None):\n",
    "        self.item = item\n",
    "        self.next = next\n",
    "    \n",
    "class SLL:\n",
    "    def __init__(self, start=None):\n",
    "        self.start = start\n",
    "    \n",
    "    def insert_at_start(self, data):\n",
    "        new_node = Node(data, self.start)\n",
    "        self.start = new_node\n",
    "        \n",
    "    def print_values(self):\n",
    "        temp = self.start\n",
    "        while temp is not None:\n",
    "            print(temp.item)\n",
    "            temp = temp.next\n",
    "        \n",
    "n1 = SLL()\n",
    "n1.insert_at_start(50)\n",
    "n1.insert_at_start(40)\n",
    "n1.insert_at_start(30)\n",
    "n1.insert_at_start(20)\n",
    "n1.insert_at_start(10)\n",
    "n1.insert_at_start(60)\n",
    "\n",
    "\n",
    "n1.print_values()"
   ]
  },
  {
   "cell_type": "markdown",
   "metadata": {},
   "source": [
    "#### In a class SLL, define a method insert_at_last() to insert an element at the end of the list."
   ]
  },
  {
   "cell_type": "code",
   "execution_count": 12,
   "metadata": {},
   "outputs": [
    {
     "name": "stdout",
     "output_type": "stream",
     "text": [
      "10\n",
      "20\n",
      "30\n",
      "40\n",
      "50\n",
      "60\n"
     ]
    }
   ],
   "source": [
    "class Node:\n",
    "    def __init__(self, item=None, next=None):\n",
    "        self.item = item\n",
    "        self.next = next\n",
    "    \n",
    "class SLL:\n",
    "    def __init__(self, start=None):\n",
    "        self.start = start\n",
    "\n",
    "    def is_empty(self):\n",
    "        return self.start == None\n",
    "\n",
    "    def insert_at_start(self, data):\n",
    "        new_node = Node(data, self.start)\n",
    "        self.start = new_node\n",
    "\n",
    "    def insert_at_last(self, data):\n",
    "        new_node = Node(data)\n",
    "        if not self.is_empty():\n",
    "            current = self.start\n",
    "            while current.next is not None:\n",
    "                current = current.next\n",
    "            current.next = new_node\n",
    "        else:\n",
    "            self.start = new_node\n",
    "    \n",
    "    def print_values(self):\n",
    "        temp = self.start\n",
    "        while temp is not None:\n",
    "            print(temp.item)\n",
    "            temp = temp.next\n",
    "        \n",
    "            \n",
    "n1 = SLL()\n",
    "n1.insert_at_last(10)\n",
    "n1.insert_at_last(20)\n",
    "n1.insert_at_last(30)\n",
    "n1.insert_at_last(40)\n",
    "n1.insert_at_last(50)\n",
    "n1.insert_at_last(60)\n",
    "\n",
    "n1.print_values()\n",
    "            "
   ]
  },
  {
   "cell_type": "markdown",
   "metadata": {},
   "source": [
    "#### In a class SLL, define a method search() to find the node with specified element value  "
   ]
  },
  {
   "cell_type": "code",
   "execution_count": 13,
   "metadata": {},
   "outputs": [
    {
     "data": {
      "text/plain": [
       "40"
      ]
     },
     "execution_count": 13,
     "metadata": {},
     "output_type": "execute_result"
    }
   ],
   "source": [
    "class Node:\n",
    "    def __init__(self, item=None, next=None):\n",
    "        self.item = item\n",
    "        self.next = next\n",
    "\n",
    "class SLL:\n",
    "    def __init__(self, start=None):\n",
    "        self.start = start\n",
    "\n",
    "    def is_empty(self):\n",
    "        return self.start == None\n",
    "\n",
    "    def insert_at_start(self, data):\n",
    "        new_node = Node(data, self.start)\n",
    "        self.start = new_node\n",
    "\n",
    "    def insert_at_last(self, data):\n",
    "        new_node = Node(data)\n",
    "        if not self.is_empty():\n",
    "            current = self.start\n",
    "            while current.next is not None:\n",
    "                current = current.next\n",
    "            current.next = new_node\n",
    "        else:\n",
    "            self.start = new_node\n",
    "\n",
    "    def search(self, data):\n",
    "        temp = self.start\n",
    "        while temp is not None:\n",
    "            if temp.item == data:\n",
    "                return temp\n",
    "            temp = temp.next\n",
    "        return None\n",
    "            \n",
    "li = SLL()\n",
    "li.insert_at_last(10)\n",
    "li.insert_at_last(20)\n",
    "li.insert_at_last(30)\n",
    "li.insert_at_last(40)\n",
    "li.insert_at_last(50)\n",
    "\n",
    "li.search(40).item\n",
    "        "
   ]
  },
  {
   "cell_type": "markdown",
   "metadata": {},
   "source": [
    "#### In class SLL, define a method insert_after() to insert a new_node after a given node of the list."
   ]
  },
  {
   "cell_type": "code",
   "execution_count": 15,
   "metadata": {},
   "outputs": [
    {
     "name": "stdout",
     "output_type": "stream",
     "text": [
      "10\n",
      "20\n",
      "30\n",
      "35\n",
      "40\n",
      "50\n"
     ]
    }
   ],
   "source": [
    "class Node:\n",
    "    def __init__(self, item=None, next=None):\n",
    "        self.item = item\n",
    "        self.next = next\n",
    "    \n",
    "class SLL:\n",
    "    def __init__(self, start=None):\n",
    "        self.start = start\n",
    "\n",
    "    def is_empty(self):\n",
    "        return self.start == None\n",
    "\n",
    "    def insert_at_start(self, data):\n",
    "        new_node = Node(data, self.start)\n",
    "        self.start = new_node\n",
    "\n",
    "    def insert_at_last(self, data):\n",
    "        new_node = Node(data)\n",
    "        if not self.is_empty():\n",
    "            current = self.start\n",
    "            while current.next is not None:\n",
    "                current = current.next\n",
    "            current.next = new_node\n",
    "        else:\n",
    "            self.start = new_node\n",
    "\n",
    "    def search(self, data):\n",
    "        temp = self.start\n",
    "        while temp is not None:\n",
    "            if temp.item == data:\n",
    "                return temp\n",
    "            temp = temp.next\n",
    "        return None\n",
    "\n",
    "    def insert_after(self, temp, data):\n",
    "        if temp is not None:\n",
    "            new_node = Node(data, temp.next)\n",
    "            temp.next = new_node\n",
    "            \n",
    "    def print_values(self):\n",
    "        temp = self.start\n",
    "        while temp is not None:\n",
    "            print(temp.item)\n",
    "            temp = temp.next\n",
    "            \n",
    "li = SLL()\n",
    "li.insert_at_last(10)\n",
    "li.insert_at_last(20)\n",
    "li.insert_at_last(30)\n",
    "li.insert_at_last(40)\n",
    "li.insert_at_last(50)\n",
    "li.insert_after(li.search(30),35)\n",
    "\n",
    "\n",
    "li.print_values()   "
   ]
  },
  {
   "cell_type": "markdown",
   "metadata": {},
   "source": [
    "#### In a class SLL, implement iterator for SLL to access all the elements of the list in a sequence"
   ]
  },
  {
   "cell_type": "code",
   "execution_count": 18,
   "metadata": {},
   "outputs": [
    {
     "name": "stdout",
     "output_type": "stream",
     "text": [
      "Value: 10\n",
      "Value: 20\n",
      "Value: 30\n",
      "Value: 40\n",
      "Value: 50\n"
     ]
    }
   ],
   "source": [
    "class Node:\n",
    "    def __init__(self, item=None, next=None):\n",
    "        self.item = item\n",
    "        self.next = next\n",
    "\n",
    "\n",
    "class SLL:\n",
    "    def __init__(self, start=None):\n",
    "        self.start = start\n",
    "\n",
    "    def is_empty(self):\n",
    "        return self.start == None\n",
    "\n",
    "    def insert_at_last(self, data):\n",
    "        new_node = Node(data)\n",
    "        if not self.is_empty():\n",
    "            current = self.start\n",
    "            while current.next is not None:\n",
    "                current = current.next\n",
    "            current.next = new_node\n",
    "        else:\n",
    "            self.start = new_node\n",
    "        \n",
    "    \n",
    "    def __iter__(self):\n",
    "        return SLLIterator(self.start)\n",
    "\n",
    "class SLLIterator:\n",
    "    def __init__(self, start):\n",
    "        self.current = start\n",
    "\n",
    "    def __iter__(self):\n",
    "        return self\n",
    "\n",
    "    def __next__(self):\n",
    "        if self.current is None:\n",
    "            raise StopIteration\n",
    "        data = self.current.item\n",
    "        self.current = self.current.next\n",
    "        return data\n",
    "\n",
    "        \n",
    "li = SLL()\n",
    "li.insert_at_last(10)\n",
    "li.insert_at_last(20)\n",
    "li.insert_at_last(30)\n",
    "li.insert_at_last(40)\n",
    "li.insert_at_last(50)\n",
    "\n",
    "for value in li:\n",
    "    print(f\"Value: {value}\")\n"
   ]
  },
  {
   "cell_type": "markdown",
   "metadata": {},
   "source": [
    "#### In a class SLL, define a method delete_first() to delete first element from the list."
   ]
  },
  {
   "cell_type": "code",
   "execution_count": null,
   "metadata": {},
   "outputs": [
    {
     "name": "stdout",
     "output_type": "stream",
     "text": [
      "10\n",
      "20\n",
      "30\n",
      "40\n",
      "50\n",
      "10 is deleted!\n",
      "20 is deleted!\n",
      "30 is deleted!\n",
      "40 is deleted!\n",
      "50 is deleted!\n",
      "list is empty!\n",
      "list is empty!\n"
     ]
    }
   ],
   "source": [
    "class Node:\n",
    "    def __init__(self, item=None, next=None):\n",
    "        self.item = item\n",
    "        self.next = next\n",
    "        \n",
    "class SLL:\n",
    "    def __init__(self):\n",
    "        self.start = Node()\n",
    "        \n",
    "    def insert_at_last(self, item):\n",
    "        new_node = Node(item)\n",
    "        if self.start.item == None:\n",
    "            self.start = new_node\n",
    "        else:\n",
    "            current = self.start\n",
    "            while current.next != None:\n",
    "                current = current.next\n",
    "            current.next = new_node\n",
    "        \n",
    "    def print_all_values(self):\n",
    "        temp = self.start\n",
    "        while temp != None:\n",
    "            print(temp.item)\n",
    "            temp = temp.next\n",
    "            \n",
    "    def delete_first(self):\n",
    "        temp = self.start\n",
    "        if temp is not None:\n",
    "            self.start = temp.next\n",
    "            return temp.item\n",
    "        \n",
    "            \n",
    "li = SLL()\n",
    "li.insert_at_last(10)\n",
    "li.insert_at_last(20)\n",
    "li.insert_at_last(30)\n",
    "li.insert_at_last(40)\n",
    "li.insert_at_last(50)\n",
    "\n",
    "li.print_all_values()\n",
    "\n",
    "\n",
    "li.delete_first()\n",
    "li.delete_first()\n",
    "li.delete_first()\n",
    "li.delete_first()\n",
    "li.delete_first()\n",
    "li.delete_first()\n",
    "\n",
    "li.print_all_values()"
   ]
  },
  {
   "cell_type": "markdown",
   "metadata": {},
   "source": [
    "#### In a class SLL, define a method delete_last() to delete last element from the list."
   ]
  },
  {
   "cell_type": "code",
   "execution_count": 24,
   "metadata": {},
   "outputs": [
    {
     "name": "stdout",
     "output_type": "stream",
     "text": [
      "10\n",
      "20\n"
     ]
    }
   ],
   "source": [
    "class Node:\n",
    "    def __init__(self, item=None, next=None):\n",
    "        self.item = item\n",
    "        self.next = next\n",
    "        \n",
    "class SLL:\n",
    "    def __init__(self, start=None):\n",
    "        self.start = start\n",
    "\n",
    "    def is_empty(self):\n",
    "        return self.start == None\n",
    "\n",
    "    def insert_at_last(self, data):\n",
    "        new_node = Node(data)\n",
    "        if not self.is_empty():\n",
    "            current = self.start\n",
    "            while current.next is not None:\n",
    "                current = current.next\n",
    "            current.next = new_node\n",
    "        else:\n",
    "            self.start = new_node\n",
    "            \n",
    "    def delete_last(self):\n",
    "        if self.start is None:\n",
    "            pass\n",
    "        elif self.start.next is None:\n",
    "            self.start = None\n",
    "        else:\n",
    "            temp = self.start\n",
    "            while temp.next.next is not None:\n",
    "                temp = temp.next\n",
    "            temp.next = temp.next.next\n",
    "            \n",
    "    def print_values(self):\n",
    "        temp = self.start\n",
    "        while temp is not None:\n",
    "            print(temp.item)\n",
    "            temp = temp.next\n",
    "            \n",
    "    \n",
    "        \n",
    "        \n",
    "li = SLL()\n",
    "li.insert_at_last(10)\n",
    "li.insert_at_last(20)\n",
    "li.insert_at_last(30)\n",
    "li.insert_at_last(40)\n",
    "li.insert_at_last(50)\n",
    "\n",
    "li.delete_last()\n",
    "li.delete_last()\n",
    "li.delete_last()\n",
    "# li.delete_last()\n",
    "# li.delete_last()\n",
    "\n",
    "li.print_values()                "
   ]
  },
  {
   "cell_type": "markdown",
   "metadata": {},
   "source": [
    "#### In a class SLL, define a method delete_item() to delete specified element from the list."
   ]
  },
  {
   "cell_type": "code",
   "execution_count": 21,
   "metadata": {},
   "outputs": [
    {
     "name": "stdout",
     "output_type": "stream",
     "text": [
      "20\n",
      "30\n",
      "40\n",
      "50\n"
     ]
    }
   ],
   "source": [
    "class Node:\n",
    "    def __init__(self, item=None, next=None):\n",
    "        self.item = item\n",
    "        self.next = next\n",
    "        \n",
    "class SLL:\n",
    "    def __init__(self, start=None):\n",
    "        self.start = start\n",
    "\n",
    "    def is_empty(self):\n",
    "        return self.start == None\n",
    "\n",
    "    def insert_at_start(self, data):\n",
    "        new_node = Node(data, self.start)\n",
    "        self.start = new_node\n",
    "\n",
    "    def insert_at_last(self, data):\n",
    "        new_node = Node(data)\n",
    "        if not self.is_empty():\n",
    "            current = self.start\n",
    "            while current.next is not None:\n",
    "                current = current.next\n",
    "            current.next = new_node\n",
    "        else:\n",
    "            self.start = new_node\n",
    "            \n",
    "    def delete_item(self, data):\n",
    "        if self.start is None:\n",
    "            pass\n",
    "        elif self.start.next is None:\n",
    "            if self.start.item == data:\n",
    "                value = self.start.item\n",
    "                self.start.item = None\n",
    "                return value\n",
    "        else:\n",
    "            temp = self.start\n",
    "            if temp.item == data:\n",
    "                self.start = temp.next\n",
    "            else:\n",
    "                while temp.next is not None:\n",
    "                    if temp.next.item == data:\n",
    "                        value = temp.next.item\n",
    "                        temp.next = temp.next.next\n",
    "                        return value\n",
    "                    temp = temp.next\n",
    "                    \n",
    "    def print_values(self):\n",
    "        temp = self.start\n",
    "        while temp is not None:\n",
    "            print(temp.item)\n",
    "            temp = temp.next\n",
    "        \n",
    "            \n",
    "li = SLL()\n",
    "li.insert_at_last(10)\n",
    "li.insert_at_last(20)\n",
    "li.insert_at_last(30)\n",
    "li.insert_at_last(40)\n",
    "li.insert_at_last(50)\n",
    "\n",
    "li.delete_item(10)\n",
    "\n",
    "li.print_values()"
   ]
  }
 ],
 "metadata": {
  "kernelspec": {
   "display_name": "Python 3",
   "language": "python",
   "name": "python3"
  },
  "language_info": {
   "codemirror_mode": {
    "name": "ipython",
    "version": 3
   },
   "file_extension": ".py",
   "mimetype": "text/x-python",
   "name": "python",
   "nbconvert_exporter": "python",
   "pygments_lexer": "ipython3",
   "version": "3.12.9"
  }
 },
 "nbformat": 4,
 "nbformat_minor": 2
}
