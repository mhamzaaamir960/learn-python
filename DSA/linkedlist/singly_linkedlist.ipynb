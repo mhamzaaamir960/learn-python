{
 "cells": [
  {
   "cell_type": "markdown",
   "metadata": {},
   "source": [
    "#### Define a class Node to describe a node of singly linked list."
   ]
  },
  {
   "cell_type": "code",
   "execution_count": 7,
   "metadata": {},
   "outputs": [],
   "source": [
    "class Node:\n",
    "    def __init__(self, item=None, next=None):\n",
    "        self.item = item    # stores the data\n",
    "        self.next = next    # points to the next node"
   ]
  },
  {
   "cell_type": "markdown",
   "metadata": {},
   "source": [
    "#### Define a class SLL to implement Singly Linked List with `__init__()` method to create and initialise start reference variale."
   ]
  },
  {
   "cell_type": "code",
   "execution_count": null,
   "metadata": {},
   "outputs": [
    {
     "name": "stdout",
     "output_type": "stream",
     "text": [
      "None\n"
     ]
    }
   ],
   "source": [
    "class Node:\n",
    "    def __init__(self, item=None, next=None):\n",
    "        self.item = item\n",
    "        self.next = next\n",
    "        \n",
    "class SLL:\n",
    "    def __init__(self):\n",
    "        self.start = Node()"
   ]
  },
  {
   "cell_type": "markdown",
   "metadata": {},
   "source": [
    "#### Define a method is_empty() to check if the linked list is empty in SLL class."
   ]
  },
  {
   "cell_type": "code",
   "execution_count": 22,
   "metadata": {},
   "outputs": [
    {
     "name": "stdout",
     "output_type": "stream",
     "text": [
      "True\n"
     ]
    }
   ],
   "source": [
    "class Node:\n",
    "    def __init__(self, item=None, next=None):\n",
    "        self.item = item\n",
    "        self.next = next\n",
    "    \n",
    "class SLL:\n",
    "    def __init__(self):\n",
    "        self.start = Node()\n",
    "        \n",
    "    def is_empty(self):\n",
    "        if self.start.item == None:\n",
    "           return True\n",
    "        return False\n",
    "    \n",
    "n1 = SLL()\n",
    "print(n1.is_empty())"
   ]
  },
  {
   "cell_type": "markdown",
   "metadata": {},
   "source": [
    "#### In a class SLL, define a method insert_at_start() to insert an element at the starting of the list."
   ]
  },
  {
   "cell_type": "code",
   "execution_count": 8,
   "metadata": {},
   "outputs": [
    {
     "name": "stdout",
     "output_type": "stream",
     "text": [
      "60\n",
      "10\n",
      "20\n",
      "30\n",
      "40\n",
      "50\n"
     ]
    }
   ],
   "source": [
    "class Node:\n",
    "    def __init__(self, item=None):\n",
    "        self.item = item\n",
    "        self.next = None\n",
    "    \n",
    "class SLL:\n",
    "    def __init__(self):\n",
    "        self.start = Node()\n",
    "    \n",
    "    def insert_at_start(self, item):\n",
    "        new_node = Node(item)\n",
    "        if self.start.item != None:\n",
    "            new_node.next = self.start\n",
    "        self.start = new_node\n",
    "        \n",
    "    def print_all_elements(self):\n",
    "        temp = self.start\n",
    "        while temp != None:\n",
    "            print(temp.item)\n",
    "            temp = temp.next\n",
    "        \n",
    "n1 = SLL()\n",
    "n1.insert_at_start(50)\n",
    "n1.insert_at_start(40)\n",
    "n1.insert_at_start(30)\n",
    "n1.insert_at_start(20)\n",
    "n1.insert_at_start(10)\n",
    "n1.insert_at_start(60)\n",
    "\n",
    "\n",
    "n1.print_all_elements()"
   ]
  },
  {
   "cell_type": "markdown",
   "metadata": {},
   "source": [
    "#### In a class SLL, define a method insert_at_last() to insert an element at the end of the list."
   ]
  },
  {
   "cell_type": "code",
   "execution_count": null,
   "metadata": {},
   "outputs": [
    {
     "name": "stdout",
     "output_type": "stream",
     "text": [
      "10\n",
      "20\n",
      "30\n",
      "40\n",
      "50\n",
      "60\n"
     ]
    }
   ],
   "source": [
    "class Node:\n",
    "    def __init__(self, item=None):\n",
    "        self.item = item\n",
    "        self.next = None\n",
    "    \n",
    "class SLL:\n",
    "    def __init__(self):\n",
    "        self.start = Node()\n",
    "        \n",
    "    def insert_at_last(self, item):\n",
    "        new_node = Node(item)\n",
    "        if self.start.item == None:\n",
    "            self.start = new_node\n",
    "        else:\n",
    "            current = self.start\n",
    "            while current.next != None:\n",
    "                current = current.next\n",
    "            current.next = new_node\n",
    "    \n",
    "    def print_all_elements(self):\n",
    "        temp = self.start\n",
    "        while temp != None:\n",
    "            print(temp.item)\n",
    "            temp = temp.next\n",
    "        \n",
    "            \n",
    "n1 = SLL()\n",
    "n1.insert_at_last(10)\n",
    "n1.insert_at_last(20)\n",
    "n1.insert_at_last(30)\n",
    "n1.insert_at_last(40)\n",
    "n1.insert_at_last(50)\n",
    "n1.insert_at_last(60)\n",
    "\n",
    "n1.print_all_elements()\n",
    "            "
   ]
  },
  {
   "cell_type": "markdown",
   "metadata": {},
   "source": [
    "#### In a class SLL, define a method search() to find the node with specified element value  "
   ]
  },
  {
   "cell_type": "code",
   "execution_count": null,
   "metadata": {},
   "outputs": [
    {
     "name": "stdout",
     "output_type": "stream",
     "text": [
      "50 exists at position 5\n"
     ]
    }
   ],
   "source": [
    "class Node:\n",
    "    def __init__(self, item=None):\n",
    "        self.item = item\n",
    "        self.next = None\n",
    "\n",
    "class SLL:\n",
    "    def __init__(self):\n",
    "        self.start = Node()\n",
    "        \n",
    "    def insert_at_last(self, item):\n",
    "        new_node = Node(item)\n",
    "        if self.start.item == None:\n",
    "            self.start = new_node\n",
    "        else:\n",
    "            current = self.start\n",
    "            while current.next != None:\n",
    "                current = current.next\n",
    "            current.next = new_node\n",
    "            \n",
    "    def search(self, item):\n",
    "        temp = self.start\n",
    "        position = 0\n",
    "        while temp != None:\n",
    "            position += 1\n",
    "            if temp.item == item:\n",
    "                print(f\"{temp.item} exists at position {position}\")\n",
    "            temp = temp.next\n",
    "            \n",
    "li = SLL()\n",
    "li.insert_at_last(10)\n",
    "li.insert_at_last(20)\n",
    "li.insert_at_last(30)\n",
    "li.insert_at_last(40)\n",
    "li.insert_at_last(50)\n",
    "\n",
    "li.search(40)\n",
    "        "
   ]
  },
  {
   "cell_type": "markdown",
   "metadata": {},
   "source": [
    "#### In class SLL, define a method insert_after() to insert a new_node after a given node of the list."
   ]
  },
  {
   "cell_type": "code",
   "execution_count": null,
   "metadata": {},
   "outputs": [
    {
     "name": "stdout",
     "output_type": "stream",
     "text": [
      "10\n",
      "20\n",
      "30\n",
      "40\n",
      "50\n",
      "60\n"
     ]
    }
   ],
   "source": [
    "class Node:\n",
    "    def __init__(self, item=None):\n",
    "        self.item = item\n",
    "        self.next = None\n",
    "    \n",
    "class SLL:\n",
    "    def __init__(self):\n",
    "        self.start = Node()\n",
    "        \n",
    "    def insert_at_start(self,item):\n",
    "        new_node = Node()\n",
    "        if self.start.item != None:\n",
    "            new_node.next = self.start\n",
    "        self.start = new_node\n",
    "            \n",
    "        \n",
    "    def insert_after(self, item, position=0):\n",
    "        new_node = Node(item)\n",
    "        if self.start.item == None or position == 0:\n",
    "            if self.start.item != None:\n",
    "                new_node.next = self.start\n",
    "            self.start = new_node\n",
    "        \n",
    "        current = self.start\n",
    "        counter = 0\n",
    "        while current.next != None and counter < position - 1:\n",
    "            current = current.next\n",
    "            counter += 1\n",
    "            \n",
    "        if(current.next == None and counter < position - 1):\n",
    "            print(\"Postion is out of bounds!\")        \n",
    "        \n",
    "        temp = current.next\n",
    "        current.next = new_node\n",
    "        new_node.next = temp\n",
    "\n",
    "    \n",
    "    def insert_at_last(self, item):\n",
    "        new_node = Node(item)\n",
    "        if self.start.item == None:\n",
    "            self.start = new_node\n",
    "        else:\n",
    "            current = self.start\n",
    "            while current.next != None:\n",
    "                current = current.next\n",
    "            current.next = new_node\n",
    "            \n",
    "    def print_all_values(self):\n",
    "        temp = self.start\n",
    "        while temp != None:\n",
    "            print(temp.item)\n",
    "            temp = temp.next\n",
    "            \n",
    "li = SLL()\n",
    "li.insert_at_last(10)\n",
    "li.insert_at_last(20)\n",
    "li.insert_at_last(30)\n",
    "li.insert_at_last(40)\n",
    "li.insert_at_last(50)\n",
    "li.insert_after(60,5)\n",
    "\n",
    "\n",
    "li.print_all_values()\n",
    "   "
   ]
  },
  {
   "cell_type": "markdown",
   "metadata": {},
   "source": [
    "#### In a class SLL, implement iterator for SLL to access all the elements of the list in a sequence"
   ]
  },
  {
   "cell_type": "code",
   "execution_count": 89,
   "metadata": {},
   "outputs": [
    {
     "name": "stdout",
     "output_type": "stream",
     "text": [
      "10\n",
      "20\n",
      "30\n",
      "40\n",
      "50\n"
     ]
    }
   ],
   "source": [
    "class Node:\n",
    "    def __init__(self, item=None):\n",
    "        self.item = item\n",
    "        self.next = None\n",
    "        \n",
    "class SLL:\n",
    "    def __init__(self):\n",
    "        self.start = Node()\n",
    "        \n",
    "    def insert_at_last(self, item):\n",
    "        new_node = Node(item)\n",
    "        if self.start.item == None:\n",
    "            self.start = new_node\n",
    "        else:\n",
    "            current = self.start\n",
    "            while current.next != None:\n",
    "                current = current.next\n",
    "                \n",
    "            current.next = new_node\n",
    "        \n",
    "    def next_value(self):\n",
    "        print(self.start.item)\n",
    "        self.start = self.start.next\n",
    "\n",
    "        \n",
    "li = SLL()\n",
    "li.insert_at_last(10)\n",
    "li.insert_at_last(20)\n",
    "li.insert_at_last(30)\n",
    "li.insert_at_last(40)\n",
    "li.insert_at_last(50)\n",
    "\n",
    "li.next_value()\n",
    "li.next_value()\n",
    "li.next_value()\n",
    "li.next_value()\n",
    "li.next_value()\n",
    "# li.next_value()\n"
   ]
  },
  {
   "cell_type": "markdown",
   "metadata": {},
   "source": [
    "#### In a class SLL, define a method delete_first() to delete first element from the list."
   ]
  },
  {
   "cell_type": "code",
   "execution_count": null,
   "metadata": {},
   "outputs": [
    {
     "name": "stdout",
     "output_type": "stream",
     "text": [
      "10\n",
      "20\n",
      "30\n",
      "40\n",
      "50\n",
      "10 is deleted!\n",
      "20 is deleted!\n",
      "30 is deleted!\n",
      "40 is deleted!\n",
      "50 is deleted!\n",
      "list is empty!\n",
      "list is empty!\n"
     ]
    }
   ],
   "source": [
    "class Node:\n",
    "    def __init__(self, item=None):\n",
    "        self.item = item\n",
    "        self.next = None\n",
    "        \n",
    "class SLL:\n",
    "    def __init__(self):\n",
    "        self.start = Node()\n",
    "        \n",
    "    def insert_at_last(self, item):\n",
    "        new_node = Node(item)\n",
    "        if self.start.item == None:\n",
    "            self.start = new_node\n",
    "        else:\n",
    "            current = self.start\n",
    "            while current.next != None:\n",
    "                current = current.next\n",
    "            current.next = new_node\n",
    "        \n",
    "    def print_all_values(self):\n",
    "        temp = self.start\n",
    "        while temp != None:\n",
    "            print(temp.item)\n",
    "            temp = temp.next\n",
    "            \n",
    "    def delete_first(self):\n",
    "        if self.start != None:\n",
    "            temp = self.start\n",
    "            self.start = temp.next\n",
    "            print(f\"{temp.item} is deleted!\")\n",
    "            del temp\n",
    "        else:\n",
    "            print(\"list is empty!\")\n",
    "        \n",
    "            \n",
    "li = SLL()\n",
    "li.insert_at_last(10)\n",
    "li.insert_at_last(20)\n",
    "li.insert_at_last(30)\n",
    "li.insert_at_last(40)\n",
    "li.insert_at_last(50)\n",
    "\n",
    "li.print_all_values()\n",
    "\n",
    "\n",
    "li.delete_first()\n",
    "li.delete_first()\n",
    "li.delete_first()\n",
    "li.delete_first()\n",
    "li.delete_first()\n",
    "li.delete_first()\n",
    "\n",
    "li.print_all_values()"
   ]
  },
  {
   "cell_type": "markdown",
   "metadata": {},
   "source": [
    "#### In a class SLL, define a method delete_last() to delete last element from the list."
   ]
  },
  {
   "cell_type": "code",
   "execution_count": 6,
   "metadata": {},
   "outputs": [
    {
     "name": "stdout",
     "output_type": "stream",
     "text": [
      "10\n"
     ]
    }
   ],
   "source": [
    "class Node:\n",
    "    def __init__(self, item=None):\n",
    "        self.item = item\n",
    "        self.next = None\n",
    "        \n",
    "class SLL:\n",
    "    def __init__(self):\n",
    "        self.start = Node()\n",
    "        \n",
    "    def insert_at_last(self, item):\n",
    "        new_node = Node(item)\n",
    "        if self.start.item == None:\n",
    "            self.start = new_node\n",
    "        else:\n",
    "            current = self.start\n",
    "            while current.next != None:\n",
    "                current = current.next\n",
    "            current.next = new_node\n",
    "        \n",
    "    def print_all_values(self):\n",
    "        temp = self.start\n",
    "        while temp != None:\n",
    "            print(temp.item)\n",
    "            temp = temp.next\n",
    "            \n",
    "    def delete_last(self):\n",
    "        temp = self.start\n",
    "        while temp.next.next != None:\n",
    "            temp = temp.next\n",
    "            \n",
    "        temp.next = None\n",
    "\n",
    "        # print(f\"{self.start.next.item} deleted\")\n",
    "        # if self.start.next == None and self.start.item != None:\n",
    "        #     self.start.item  = None\n",
    "        # else:\n",
    "        #     self.start.next = None\n",
    "        # self.start = temp\n",
    "        \n",
    "        \n",
    "        \n",
    "li = SLL()\n",
    "li.insert_at_last(10)\n",
    "li.insert_at_last(20)\n",
    "li.insert_at_last(30)\n",
    "li.insert_at_last(40)\n",
    "li.insert_at_last(50)\n",
    "\n",
    "li.delete_last()\n",
    "li.delete_last()\n",
    "li.delete_last()\n",
    "li.delete_last()\n",
    "# li.delete_last()\n",
    "\n",
    "li.print_all_values()                "
   ]
  },
  {
   "cell_type": "markdown",
   "metadata": {},
   "source": [
    "#### In a class SLL, define a method delete_item() to delete specified element from the list."
   ]
  },
  {
   "cell_type": "code",
   "execution_count": 5,
   "metadata": {},
   "outputs": [
    {
     "name": "stdout",
     "output_type": "stream",
     "text": [
      "10\n",
      "20\n",
      "30\n",
      "40\n",
      "50\n"
     ]
    }
   ],
   "source": [
    "class Node:\n",
    "    def __init__(self, item=None):\n",
    "        self.item = item\n",
    "        self.next = None\n",
    "        \n",
    "class SLL:\n",
    "    def __init__(self):\n",
    "        self.start = Node()\n",
    "        \n",
    "    def insert_at_last(self, item):\n",
    "        new_node = Node(item)\n",
    "        if self.start.item == None:\n",
    "            self.start = new_node\n",
    "        else:\n",
    "            current  = self.start\n",
    "            while current.next != None:\n",
    "                current = current.next\n",
    "            current.next = new_node\n",
    "            \n",
    "    def print_all_values(self):\n",
    "        temp = self.start\n",
    "        while temp != None:\n",
    "            print(temp.item)\n",
    "            temp = temp.next\n",
    "            \n",
    "    def delete_item(self, position):\n",
    "        return\n",
    "                \n",
    "            \n",
    "li = SLL()\n",
    "li.insert_at_last(10)\n",
    "li.insert_at_last(20)\n",
    "li.insert_at_last(30)\n",
    "li.insert_at_last(40)\n",
    "li.insert_at_last(50)\n",
    "\n",
    "li.print_all_values()"
   ]
  }
 ],
 "metadata": {
  "kernelspec": {
   "display_name": "Python 3",
   "language": "python",
   "name": "python3"
  },
  "language_info": {
   "codemirror_mode": {
    "name": "ipython",
    "version": 3
   },
   "file_extension": ".py",
   "mimetype": "text/x-python",
   "name": "python",
   "nbconvert_exporter": "python",
   "pygments_lexer": "ipython3",
   "version": "3.12.9"
  }
 },
 "nbformat": 4,
 "nbformat_minor": 2
}
