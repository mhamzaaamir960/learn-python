{
 "cells": [
  {
   "cell_type": "markdown",
   "id": "56543503",
   "metadata": {},
   "source": [
    "### Define a class Node to describe a node of a circular doubly linked list.\n"
   ]
  },
  {
   "cell_type": "code",
   "execution_count": null,
   "id": "dc47fca9",
   "metadata": {},
   "outputs": [],
   "source": [
    "class Node:\n",
    "    def __init__(self, prev, item, next):\n",
    "        self.prev = prev\n",
    "        self.item = item\n",
    "        self.next = next"
   ]
  },
  {
   "cell_type": "markdown",
   "id": "65e56162",
   "metadata": {},
   "source": [
    "### Define a class CDLL to implement Circular Doubly Linked List with `__init__()` method to create and initalise start reference variable.\n"
   ]
  },
  {
   "cell_type": "code",
   "execution_count": null,
   "id": "e2f9ef30",
   "metadata": {},
   "outputs": [],
   "source": [
    "class CDLL:\n",
    "    def __init__(self, start=None):\n",
    "        self.start = start"
   ]
  },
  {
   "cell_type": "markdown",
   "id": "33b12179",
   "metadata": {},
   "source": [
    "### Define a method is_empty() to check if the linked list is empty in CDLL class.\n"
   ]
  },
  {
   "cell_type": "code",
   "execution_count": null,
   "id": "6ddbb0d8",
   "metadata": {},
   "outputs": [],
   "source": [
    "class CDLL:\n",
    "    def __init__(self, start=None):\n",
    "        self.start = start\n",
    "\n",
    "    def is_emtpy(self):\n",
    "        return self.start == None"
   ]
  },
  {
   "cell_type": "markdown",
   "id": "0374b399",
   "metadata": {},
   "source": [
    "### In class CDLL, define a method insert_at_start() to insert an element at the starting of the list."
   ]
  },
  {
   "cell_type": "code",
   "execution_count": null,
   "id": "218fb5f2",
   "metadata": {},
   "outputs": [],
   "source": [
    "class CDLL:\n",
    "    def __init__(self, start=None):\n",
    "        self.start = start\n",
    "    \n",
    "    def is_empty(self):\n",
    "        return self.start == None\n",
    "    \n",
    "    def insert_at_start(self, data):\n",
    "        new_node = Node(item=data)\n",
    "        if not self.is_empty():\n",
    "            new_node.prev = self.start.prev\n",
    "            new_node.next = self.start\n",
    "            self.start.prev.next = new_node\n",
    "            self.start.prev = new_node\n",
    "            self.start = new_node\n",
    "        else:\n",
    "            self.start = new_node\n",
    "            new_node.prev = new_node\n",
    "            new_node.next = new_node"
   ]
  },
  {
   "cell_type": "markdown",
   "id": "a5d13099",
   "metadata": {},
   "source": [
    "### In class CDLL, define a method insert_at_last() to insert an element at the end of the list."
   ]
  },
  {
   "cell_type": "code",
   "execution_count": null,
   "id": "85bb0751",
   "metadata": {},
   "outputs": [],
   "source": [
    "class CDLL:\n",
    "    def __init__(self, start=None):\n",
    "        self.start = start\n",
    "    \n",
    "    def is_emtpy(self):\n",
    "        return self.start == None\n",
    "    \n",
    "    def insert_at_last(self, data):\n",
    "        new_node = Node(item=data)\n",
    "        if not self.is_emtpy():\n",
    "            new_node.prev = self.start.prev\n",
    "            new_node.next = self.start\n",
    "            self.start.prev.next = new_node\n",
    "            self.start.prev = new_node\n",
    "        else:\n",
    "            self.start = new_node\n",
    "            new_node.prev = new_node\n",
    "            new_node.next = new_node"
   ]
  },
  {
   "cell_type": "markdown",
   "id": "e8f5690c",
   "metadata": {},
   "source": [
    "### In class CDLL, define a method search() to find the node with specified element value."
   ]
  },
  {
   "cell_type": "code",
   "execution_count": null,
   "id": "f77093e9",
   "metadata": {},
   "outputs": [],
   "source": [
    "class CDLL:\n",
    "    def __init__(self, start=None):\n",
    "        self.start = start\n",
    "        \n",
    "    def is_empty(self):\n",
    "        return self.start == None\n",
    "    \n",
    "    def search(self, data):\n",
    "        temp = self.start\n",
    "        if not self.is_empty(self):\n",
    "            if temp == temp.next:\n",
    "                if temp.item == data:\n",
    "                    return temp\n",
    "            else:\n",
    "                while temp:\n",
    "                    if temp.item == data:\n",
    "                        return temp\n",
    "                    temp = temp.next\n",
    "                    if temp == self.start:\n",
    "                        break"
   ]
  },
  {
   "cell_type": "markdown",
   "id": "9621446e",
   "metadata": {},
   "source": [
    "### In class CDLL, define a method insert_after() to insert a new node after a given node of the list."
   ]
  },
  {
   "cell_type": "code",
   "execution_count": null,
   "id": "8ff5846e",
   "metadata": {},
   "outputs": [],
   "source": [
    "class CDLL:\n",
    "    def __init__(self, start=None):\n",
    "        self.start = start\n",
    "    \n",
    "    def is_empty(self):\n",
    "        return self.start == None\n",
    "    \n",
    "    def insert_after(self,temp,data):\n",
    "        if temp:\n",
    "            new_node = Node(temp, data, temp.next)\n",
    "            temp.next.prev = new_node\n",
    "            temp.next = new_node"
   ]
  },
  {
   "cell_type": "markdown",
   "id": "7cb5f6c9",
   "metadata": {},
   "source": [
    "### In class CDLL, define a method to print all the elements of the list."
   ]
  },
  {
   "cell_type": "code",
   "execution_count": 5,
   "id": "4a2e5ed4",
   "metadata": {},
   "outputs": [],
   "source": [
    "class CDLL:\n",
    "    def __init__(self, start=None):\n",
    "        self.start = start\n",
    "        \n",
    "    def is_empty(self):\n",
    "        return self.start == None\n",
    "    \n",
    "    def print_values(self):\n",
    "        if not self.is_empty():\n",
    "            temp = self.start\n",
    "            while temp:\n",
    "                print(temp.item)\n",
    "                temp = temp.next\n",
    "                if temp == self.start:\n",
    "                    break"
   ]
  },
  {
   "cell_type": "markdown",
   "id": "080211de",
   "metadata": {},
   "source": [
    "### In class CDLL, define a method delete_first() to delete first element from the list."
   ]
  },
  {
   "cell_type": "code",
   "execution_count": null,
   "id": "3e4c92eb",
   "metadata": {},
   "outputs": [],
   "source": [
    "class CDLL:\n",
    "    def __init__(self, start=None):\n",
    "        self.start = start\n",
    "        \n",
    "    def is_empty(self):\n",
    "        return self.start == None\n",
    "    \n",
    "    def delete_first(self):\n",
    "        if not self.is_empty():\n",
    "            if self.start == self.start.next:\n",
    "                self.start = None\n",
    "            else:\n",
    "                self.start.prev.next = self.start.next\n",
    "                self.start.next.prev = self.start.prev\n",
    "                self.start = self.start.next"
   ]
  },
  {
   "cell_type": "markdown",
   "id": "62e046c1",
   "metadata": {},
   "source": [
    "### In class CDLL, define a method delete_last() to delete last element from the list."
   ]
  },
  {
   "cell_type": "code",
   "execution_count": null,
   "id": "d2ae0d66",
   "metadata": {},
   "outputs": [],
   "source": [
    "class CDLL:\n",
    "    def __init__(self, start=None):\n",
    "        self.start = start\n",
    "        \n",
    "    def is_empty(self):\n",
    "        return self.start == None\n",
    "    \n",
    "    def delete_last(self):\n",
    "        if not self.is_empty():\n",
    "            if self.start == self.start.next:\n",
    "                self.start = None\n",
    "            else:\n",
    "                self.start.prev.prev.next = self.start\n",
    "                self.start.prev = self.start.prev.prev"
   ]
  },
  {
   "cell_type": "markdown",
   "id": "32586bcd",
   "metadata": {},
   "source": [
    "### In class CDLL, define a method delete_item() to delete specified element from the list."
   ]
  },
  {
   "cell_type": "code",
   "execution_count": 3,
   "id": "7cc1e9ba",
   "metadata": {},
   "outputs": [],
   "source": [
    "class CDLL:\n",
    "    def __init__(self, start=None):\n",
    "        self.start = start\n",
    "    \n",
    "    def is_empty(self):\n",
    "        return self.start == None\n",
    "    \n",
    "    def delete_item(self, data):\n",
    "        if not self.is_empty():\n",
    "            temp = self.start\n",
    "            if temp == temp.next:\n",
    "                if temp.item == data:\n",
    "                    self.start = None\n",
    "            else:\n",
    "                while temp:\n",
    "                    if temp.item == data:\n",
    "                         temp.prev.next = temp.next\n",
    "                         temp.next.prev = temp.prev\n",
    "                         if temp == self.start:\n",
    "                             self.start = self.start.next\n",
    "                    temp = temp.next\n",
    "                    if temp == self.start:\n",
    "                        break"
   ]
  }
 ],
 "metadata": {
  "kernelspec": {
   "display_name": "Python 3",
   "language": "python",
   "name": "python3"
  },
  "language_info": {
   "codemirror_mode": {
    "name": "ipython",
    "version": 3
   },
   "file_extension": ".py",
   "mimetype": "text/x-python",
   "name": "python",
   "nbconvert_exporter": "python",
   "pygments_lexer": "ipython3",
   "version": "3.12.9"
  }
 },
 "nbformat": 4,
 "nbformat_minor": 5
}
