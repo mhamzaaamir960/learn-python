{
 "cells": [
  {
   "cell_type": "markdown",
   "metadata": {},
   "source": [
    "### Problem: Write a decorator that measures the time a function takes to execute."
   ]
  },
  {
   "cell_type": "code",
   "execution_count": 9,
   "metadata": {},
   "outputs": [
    {
     "name": "stdout",
     "output_type": "stream",
     "text": [
      "Timer... 10\n",
      "time_count run in 10.000507593154907\n"
     ]
    }
   ],
   "source": [
    "import time\n",
    "\n",
    "def timer(func):\n",
    "    def wrapper(*args, **kwargs):\n",
    "        start = time.time()\n",
    "        result = func(*args, **kwargs)\n",
    "        end = time.time()\n",
    "        print(f\"{func.__name__} run in {end - start}\")\n",
    "        return result\n",
    "    return wrapper\n",
    "\n",
    "\n",
    "@timer\n",
    "def time_count(n):\n",
    "    time.sleep(n)\n",
    "    print(\"Timer...\", n)\n",
    "    \n",
    "time_count(10)"
   ]
  },
  {
   "cell_type": "markdown",
   "metadata": {},
   "source": [
    "### Problem: Create a decorator to print the function name and the values of its arguments every time the function is called."
   ]
  },
  {
   "cell_type": "code",
   "execution_count": 30,
   "metadata": {},
   "outputs": [
    {
     "name": "stdout",
     "output_type": "stream",
     "text": [
      "calling: greet with args Hamza and kwargs greeting: Hello\n",
      "Hello, Hamza\n"
     ]
    }
   ],
   "source": [
    "def debug(func):\n",
    "    def wrapper(*args, **kwargs):\n",
    "        args_value = \", \".join(str(arg) for arg in args)\n",
    "        kwargs_value = \", \".join(f\"{k}: {v}\" for k,v in kwargs.items())\n",
    "        print(f\"calling: {func.__name__} with args {args_value} and kwargs {kwargs_value}\")\n",
    "        return func(*args, **kwargs)\n",
    "    \n",
    "    return wrapper\n",
    "\n",
    "@debug\n",
    "def greet(name, greeting):\n",
    "    print(f\"{greeting}, {name}\")\n",
    "    \n",
    "greet(\"Hamza\",greeting=\"Hello\")\n"
   ]
  },
  {
   "cell_type": "markdown",
   "metadata": {},
   "source": [
    "### Problem: Implement a decorator that caches the return values of a function, so that when it's called with the same arguments, the cached value is returned instead of re-executing the function."
   ]
  },
  {
   "cell_type": "code",
   "execution_count": 6,
   "metadata": {},
   "outputs": [
    {
     "name": "stdout",
     "output_type": "stream",
     "text": [
      "{}\n",
      "5\n",
      "12\n",
      "5\n",
      "12\n"
     ]
    }
   ],
   "source": [
    "import time\n",
    "\n",
    "def cache(func):\n",
    "    cache_value = {}\n",
    "    print(cache_value)\n",
    "    def wrapper(*args):\n",
    "        if args in cache_value:\n",
    "            return cache_value[args]\n",
    "        result = func(*args)\n",
    "        cache_value[args] = result\n",
    "        return result\n",
    "    return wrapper\n",
    "    \n",
    "@cache\n",
    "def long_running_function(a,b):\n",
    "    \n",
    "    time.sleep(5)\n",
    "    return a + b\n",
    "\n",
    "print(long_running_function(2,3))\n",
    "print(long_running_function(5,7))\n",
    "print(long_running_function(2,3))\n",
    "print(long_running_function(5,7))\n",
    "    "
   ]
  },
  {
   "cell_type": "code",
   "execution_count": 29,
   "metadata": {},
   "outputs": [
    {
     "name": "stdout",
     "output_type": "stream",
     "text": [
      "Function is being called!\n",
      "Hi, HAMZA AAMIR\n"
     ]
    }
   ],
   "source": [
    "# Write a decorator that prints \"Function is being called\" before executing the original function.\n",
    "\n",
    "def print_message(func):\n",
    "    def wrapper(*args):\n",
    "        print(\"Function is being called!\")\n",
    "        args_values = [arg.upper() if isinstance(arg, str) else arg for arg in args]\n",
    "        return func(*args_values)\n",
    "    return wrapper\n",
    "\n",
    "@print_message\n",
    "def greet_user(first, last):\n",
    "    print(f\"Hi, {first} {last}\")\n",
    "    \n",
    "greet_user(\"Hamza\", \"Aamir\")"
   ]
  },
  {
   "cell_type": "code",
   "execution_count": 92,
   "metadata": {},
   "outputs": [
    {
     "name": "stdout",
     "output_type": "stream",
     "text": [
      "city: Rawalpindi, subject: Data Science\n",
      "Function Name is print_data and it args (Hamza, 21) and kwargs {city: Rawalpindi, subject: Data Science}\n",
      "Name: Hamza, Age: 21, City: Rawalpindi, Subject: Data Science\n"
     ]
    }
   ],
   "source": [
    "# Write a decorator that logs the name of the function being called and its arguments.\n",
    "\n",
    "def logs(func):\n",
    "    def wrapper(*args, **kwargs):\n",
    "        # args_values = [arg for arg in args]\n",
    "        # kwargs_values = [f\"{k}: {v}\" for k,v in kwargs.items()]\n",
    "        args_values = \", \".join(str(arg) for arg in args)\n",
    "        kwargs_values = \", \".join(f\"{k}: {v}\" for k, v in kwargs.items())\n",
    "        print(kwargs_values)\n",
    "        print(f\"Function Name is {func.__name__} and it args ({args_values}) and kwargs {{{kwargs_values}}}\")\n",
    "        result = func(*args, **kwargs)\n",
    "        return result\n",
    "    return wrapper\n",
    "\n",
    "@logs\n",
    "def print_data(name, age, city, subject = \"Computer Science\"):\n",
    "    print(f\"Name: {name}, Age: {age}, City: {city}, Subject: {subject}\")\n",
    "   \n",
    " \n",
    "print_data(\"Hamza\", 21,city=\"Rawalpindi\", subject=\"Data Science\")\n",
    "    \n"
   ]
  },
  {
   "cell_type": "code",
   "execution_count": 102,
   "metadata": {},
   "outputs": [
    {
     "name": "stdout",
     "output_type": "stream",
     "text": [
      "Hamza, 21, Rawalpindi, Time: 5\n",
      "Function run in 5.000373125076294\n"
     ]
    }
   ],
   "source": [
    "# Write a decorator that measures and prints the execution time of a function.\n",
    "\n",
    "from time import time, sleep\n",
    "\n",
    "def calculate_time(func):\n",
    "    def wrapper(*args, **kwargs):\n",
    "        start = time()\n",
    "        result = func(*args, **kwargs)\n",
    "        end  = time()\n",
    "        print(f\"Function run in {end - start}\")\n",
    "        return result\n",
    "    return wrapper\n",
    "\n",
    "   \n",
    "@calculate_time \n",
    "def data(name, age, city, n=4):\n",
    "    sleep(n)\n",
    "    print(f\"{name}, {age}, {city}, Time: {n}\")\n",
    "    \n",
    "data(\"Hamza\", '21', \"Rawalpindi\", n=5)\n",
    "        \n",
    "        "
   ]
  },
  {
   "cell_type": "code",
   "execution_count": 120,
   "metadata": {},
   "outputs": [
    {
     "name": "stdout",
     "output_type": "stream",
     "text": [
      "True! Admin has access!\n"
     ]
    }
   ],
   "source": [
    "# Implement a decorator that checks if a user has admin privileges before allowing access to a function.\n",
    "\n",
    "def authenticate(user):\n",
    "    def decorator(func):\n",
    "        def wrapper():\n",
    "            if user.lower() != \"admin\":\n",
    "                print(\"Access Denied!\")\n",
    "                return \n",
    "            return func()\n",
    "        return wrapper\n",
    "    return decorator\n",
    "\n",
    "@authenticate(\"ADMIN\")\n",
    "def check_admin():\n",
    "    print(\"True! Admin has access!\")\n",
    "    \n",
    "check_admin()"
   ]
  },
  {
   "cell_type": "code",
   "execution_count": null,
   "metadata": {},
   "outputs": [],
   "source": []
  }
 ],
 "metadata": {
  "kernelspec": {
   "display_name": "Python 3",
   "language": "python",
   "name": "python3"
  },
  "language_info": {
   "codemirror_mode": {
    "name": "ipython",
    "version": 3
   },
   "file_extension": ".py",
   "mimetype": "text/x-python",
   "name": "python",
   "nbconvert_exporter": "python",
   "pygments_lexer": "ipython3",
   "version": "3.12.9"
  }
 },
 "nbformat": 4,
 "nbformat_minor": 2
}
