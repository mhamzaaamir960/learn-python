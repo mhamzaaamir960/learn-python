{
 "cells": [
  {
   "cell_type": "markdown",
   "metadata": {},
   "source": [
    "### Passing an arbitary number of arguments\n",
    "- *args"
   ]
  },
  {
   "cell_type": "code",
   "execution_count": 1,
   "metadata": {},
   "outputs": [
    {
     "name": "stdout",
     "output_type": "stream",
     "text": [
      "('pepperoni', 'mushrooms', 'green peppers', 'extra cheese')\n",
      "<class 'tuple'>\n",
      "pepperoni\n",
      "mushrooms\n",
      "green peppers\n",
      "extra cheese\n"
     ]
    }
   ],
   "source": [
    "def make_pizza(*toppings):\n",
    "    print(toppings)\n",
    "    print(type(toppings))\n",
    "    \n",
    "    for topping in toppings:\n",
    "        print(topping)\n",
    "    \n",
    "make_pizza(\"pepperoni\", \"mushrooms\", \"green peppers\",\"extra cheese\")"
   ]
  },
  {
   "cell_type": "code",
   "execution_count": 3,
   "metadata": {},
   "outputs": [
    {
     "name": "stdout",
     "output_type": "stream",
     "text": [
      "Making a 16-inch pizza with the following toppings:\n",
      "- pepperoni\n",
      "- mushrooms\n",
      "Making a 20-inch pizza with the following toppings:\n",
      "- green peppers\n",
      "- extra cheese\n",
      "- pepperoni\n",
      "- mushrooms\n"
     ]
    }
   ],
   "source": [
    "def make_pizza(size, *toppings):\n",
    "    print(\"Making a \" + str(size) + \"-inch pizza with the following toppings:\")\n",
    "    for topping in toppings:\n",
    "        print(\"- \" + topping)\n",
    "        \n",
    "make_pizza(16, \"pepperoni\",\"mushrooms\")\n",
    "make_pizza(20, \"green peppers\", \"extra cheese\", \"pepperoni\", \"mushrooms\")"
   ]
  },
  {
   "cell_type": "markdown",
   "metadata": {},
   "source": [
    "### Using arbitary keyword arguments\n",
    "- **kwargs"
   ]
  },
  {
   "cell_type": "code",
   "execution_count": null,
   "metadata": {},
   "outputs": [
    {
     "name": "stdout",
     "output_type": "stream",
     "text": [
      "Rawalpindi\n",
      "<class 'dict'>\n",
      "first_name : Omer\n",
      "last_name : Aamir\n",
      "age : 18\n",
      "city : Rawalpindi\n",
      "role : Sofware Engineer\n"
     ]
    }
   ],
   "source": [
    "def build_profile(first, last, **user_info):\n",
    "    profile={}\n",
    "    profile[\"first_name\"] = first\n",
    "    profile[\"last_name\"] = last\n",
    "    for key, value in user_info.items():\n",
    "        profile[key] = value\n",
    "    return profile\n",
    "\n",
    "build_profile(\"Hamza\",\"Aamir\", age=21, city=\"Rawalpindi\", role=\"Software Engineer\")\n",
    "\n",
    "profile_data = build_profile(\"Omer\", last=\"Aamir\", age=18, city=\"Rawalpindi\", role=\"Sofware Engineer\")\n",
    "print(profile_data[\"city\"])\n",
    "\n",
    "print(type(profile_data))\n",
    "\n",
    "for key, value in profile_data.items():\n",
    "    print(key + \" : \" + str(value))\n"
   ]
  },
  {
   "cell_type": "code",
   "execution_count": 38,
   "metadata": {},
   "outputs": [
    {
     "name": "stdout",
     "output_type": "stream",
     "text": [
      "{'name': 'Toyota', 'model': '2020', 'color': 'Black', 'speed': '200km/h', 'price': '2.5M', 'is_automatic': True}\n",
      "<class 'dict'>\n",
      "name : Toyota\n",
      "model : 2020\n",
      "color : Black\n",
      "speed : 200km/h\n",
      "price : 2.5M\n",
      "is_automatic : True\n"
     ]
    }
   ],
   "source": [
    "def make_car(name, model, **car_info):\n",
    "    car = {}\n",
    "    car[\"name\"] = name\n",
    "    car[\"model\"] = model\n",
    "    for key, value in car_info.items():\n",
    "        car[key] = value\n",
    "    return car\n",
    "\n",
    "new_car = make_car(\"Toyota\", \"2020\", color=\"Black\", speed=\"200km/h\", price=\"2.5M\", is_automatic=True)\n",
    "print(new_car)\n",
    "print(type(new_car))\n",
    "\n",
    "for key, value in new_car.items():\n",
    "    print(key + \" : \" + str(value))"
   ]
  },
  {
   "cell_type": "code",
   "execution_count": 43,
   "metadata": {},
   "outputs": [
    {
     "name": "stdout",
     "output_type": "stream",
     "text": [
      "(1, 2, 3, 4)\n",
      "{'name': 'Hamza', 'age': 21, 'city': 'Rawalpindi'}\n"
     ]
    }
   ],
   "source": [
    "def example(*args, **kwargs):\n",
    "    print(args)\n",
    "    print(kwargs)\n",
    "    \n",
    "example(1,2,3,4,name=\"Hamza\", age=21, city=\"Rawalpindi\")"
   ]
  }
 ],
 "metadata": {
  "kernelspec": {
   "display_name": "Python 3",
   "language": "python",
   "name": "python3"
  },
  "language_info": {
   "codemirror_mode": {
    "name": "ipython",
    "version": 3
   },
   "file_extension": ".py",
   "mimetype": "text/x-python",
   "name": "python",
   "nbconvert_exporter": "python",
   "pygments_lexer": "ipython3",
   "version": "3.12.9"
  }
 },
 "nbformat": 4,
 "nbformat_minor": 2
}
