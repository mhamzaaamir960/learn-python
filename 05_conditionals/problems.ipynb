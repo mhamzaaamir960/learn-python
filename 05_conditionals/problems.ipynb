{
 "cells": [
  {
   "cell_type": "markdown",
   "metadata": {},
   "source": [
    "Problem: Determine if a fruit is ripe, overripe, or unripe based on its color. (e.g., Banana: Green - Unripe, Yellow - Ripe, Brown - Overripe)"
   ]
  },
  {
   "cell_type": "code",
   "execution_count": 4,
   "metadata": {},
   "outputs": [
    {
     "name": "stdout",
     "output_type": "stream",
     "text": [
      "This fruit is Ripe\n"
     ]
    }
   ],
   "source": [
    "fruit = \"Banana\"\n",
    "color = input(\"Enter a color of fruit: \")\n",
    "\n",
    "if fruit == \"Banana\":\n",
    "    if color == \"Green\":\n",
    "        print(\"This fruit is Unripe\")\n",
    "    elif color == \"Yellow\":\n",
    "        print(\"This fruit is Ripe\")\n",
    "    elif color == \"Brown\":\n",
    "        print(\"This fruit is Overripe\")"
   ]
  },
  {
   "cell_type": "markdown",
   "metadata": {},
   "source": [
    "Problem: Suggest an activity based on the weather (e.g., Sunny - Go for a walk, Rainy - Read a book, Snowy - Build a snowman).\n"
   ]
  },
  {
   "cell_type": "code",
   "execution_count": null,
   "metadata": {},
   "outputs": [
    {
     "name": "stdout",
     "output_type": "stream",
     "text": [
      "Read a book!\n"
     ]
    }
   ],
   "source": [
    "weather = \"Rainy\"\n",
    "\n",
    "if weather == \"Sunny\":\n",
    "    print(\"Go for a walk!\")\n",
    "elif weather == \"Rainy\":\n",
    "    print(\"Read a book!\")\n",
    "elif weather == \"Snowy\":\n",
    "    print(\"Build a snowman!\")"
   ]
  },
  {
   "cell_type": "markdown",
   "metadata": {},
   "source": [
    "Problem: Choose a mode of transportation based on the distance (e.g., <3 km: Walk, 3-15 km: Bike, >15 km: Car).\n"
   ]
  },
  {
   "cell_type": "code",
   "execution_count": 14,
   "metadata": {},
   "outputs": [
    {
     "name": "stdout",
     "output_type": "stream",
     "text": [
      "Bike\n"
     ]
    }
   ],
   "source": [
    "distance = 15\n",
    "\n",
    "if distance < 3:\n",
    "    mode_of_transport = \"Walk\"\n",
    "elif distance <= 15:\n",
    "    mode_of_transport = \"Bike\"\n",
    "else:\n",
    "    mode_of_transport = \"Car\"\n",
    "    \n",
    "print(mode_of_transport)"
   ]
  },
  {
   "cell_type": "markdown",
   "metadata": {},
   "source": [
    "Problem: Check if a password is \"Weak\", \"Medium\", or \"Strong\". Criteria: < 6 chars (Weak), 6-10 chars (Medium), >10 chars (Strong).\n"
   ]
  },
  {
   "cell_type": "code",
   "execution_count": 21,
   "metadata": {},
   "outputs": [
    {
     "name": "stdout",
     "output_type": "stream",
     "text": [
      "Password is Strong\n"
     ]
    }
   ],
   "source": [
    "password = \"@abc12345tyhf\"\n",
    "password_length = len(password)\n",
    "\n",
    "if password_length < 6:\n",
    "    strength = \"Weak\"\n",
    "elif password_length <= 10:\n",
    "    strength = \"Medium\"\n",
    "else:\n",
    "    strength = \"Strong\"\n",
    "    \n",
    "print(f\"Password is {strength}\")"
   ]
  },
  {
   "cell_type": "markdown",
   "metadata": {},
   "source": [
    "Problem: Determine if a year is a leap year. (Leap years are divisible by 4, but not by 100 unless also divisible by 400).\n"
   ]
  },
  {
   "cell_type": "code",
   "execution_count": 28,
   "metadata": {},
   "outputs": [
    {
     "name": "stdout",
     "output_type": "stream",
     "text": [
      "2025 is not a leap year\n"
     ]
    }
   ],
   "source": [
    "year = 2025\n",
    "\n",
    "if (year % 400 == 0) or (year % 4 == 0 and year % 100 != 0):\n",
    "    print(f\"{year} is a leap year\")\n",
    "else:\n",
    "    print(f\"{year} is not a leap year\")"
   ]
  },
  {
   "cell_type": "markdown",
   "metadata": {},
   "source": [
    "Problem: Recommend a type of pet food based on the pet's species and age. (e.g., Dog: <2 years - Puppy food, Cat: >5 years - Senior cat food)."
   ]
  },
  {
   "cell_type": "code",
   "execution_count": null,
   "metadata": {},
   "outputs": [
    {
     "name": "stdout",
     "output_type": "stream",
     "text": [
      "Cat should eat Kitten food\n",
      "Hamza\n"
     ]
    }
   ],
   "source": [
    "pet_specie = \"Cat\"\n",
    "pet_age = 3\n",
    "\n",
    "if pet_specie == \"Dog\":\n",
    "    if pet_age < 2:\n",
    "        food = \"Puppy food\"\n",
    "    else :\n",
    "        food = \"Adult food\"\n",
    "elif pet_specie == \"Cat\":\n",
    "    if pet_age > 5:\n",
    "        food = \"Senior Cat food\"\n",
    "    else:\n",
    "        food = \"Kitten food\"\n",
    "else:\n",
    "    food = \"General per food\"\n",
    "    \n",
    "print(f\"{pet_specie} should eat {food}\")"
   ]
  }
 ],
 "metadata": {
  "kernelspec": {
   "display_name": "Python 3",
   "language": "python",
   "name": "python3"
  },
  "language_info": {
   "codemirror_mode": {
    "name": "ipython",
    "version": 3
   },
   "file_extension": ".py",
   "mimetype": "text/x-python",
   "name": "python",
   "nbconvert_exporter": "python",
   "pygments_lexer": "ipython3",
   "version": "3.12.9"
  }
 },
 "nbformat": 4,
 "nbformat_minor": 2
}
