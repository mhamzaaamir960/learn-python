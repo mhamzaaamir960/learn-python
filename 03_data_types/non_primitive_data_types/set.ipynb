{
 "cells": [
  {
   "cell_type": "markdown",
   "metadata": {},
   "source": [
    "### Creating a Set\n",
    "- A set is defined using curly braces `{}` or the `set()` constructor."
   ]
  },
  {
   "cell_type": "code",
   "execution_count": null,
   "metadata": {},
   "outputs": [
    {
     "name": "stdout",
     "output_type": "stream",
     "text": [
      "{1, 2, 3, 4, 5, 6, 7, 8, 9}\n",
      "<class 'set'>\n",
      "{1, 2, 3, 4, 5}\n"
     ]
    }
   ],
   "source": [
    "numbers = {1,2,3,4,5,6,7,8,9}\n",
    "print(numbers)\n",
    "print(type(numbers))\n",
    "\n",
    "numbers = set([1,2,3,4,5])\n",
    "print(numbers)\n",
    "\n",
    "# set do not support indexing or direct access to single item like lists or tuple\n",
    "# numbers[2] # error"
   ]
  },
  {
   "cell_type": "code",
   "execution_count": 5,
   "metadata": {},
   "outputs": [
    {
     "name": "stdout",
     "output_type": "stream",
     "text": [
      "1\n",
      "2\n",
      "3\n",
      "4\n",
      "5\n",
      "[1, 2, 3, 4, 5]\n",
      "3\n",
      "1\n",
      "2\n",
      "{3, 4, 5}\n",
      "None\n",
      "set()\n"
     ]
    }
   ],
   "source": [
    "# Using a Loop\n",
    "my_set = {1,2,3,4,5}\n",
    "for value in my_set:\n",
    "    print(value)\n",
    "    \n",
    "# Converting to a List (If you need to access values by index, convert the set to a list)\n",
    "my_set = {1,2,3,4,5}\n",
    "my_list = list(my_set)\n",
    "print(my_list)\n",
    "print(my_list[2])\n",
    "\n",
    "# Using pop() (Removes and Returns an Item)\n",
    "# pop() removes and returns a random element from the set\n",
    "my_set={3,2,1,4,5}\n",
    "print(my_set.pop())\n",
    "print(my_set.pop())\n",
    "print(my_set)\n",
    "\n",
    "print(my_set.clear())\n",
    "print(my_set)\n"
   ]
  },
  {
   "cell_type": "markdown",
   "metadata": {},
   "source": [
    "### Set Operations\n",
    "- Union (`|` or `.union()`) => Combines two sets, keeping only unique elements.\n",
    "\n",
    "- Intersection (`&` or `.intersection()`) => Finds common elements in both sets.\n",
    "\n",
    "- Difference (`-` or `.difference()`) => Finds elements in A that are not in B.\n",
    "\n",
    "- Symmetric Difference (`^` or `symmetric_difference()`) => Finds elements not common in both sets."
   ]
  },
  {
   "cell_type": "code",
   "execution_count": 101,
   "metadata": {},
   "outputs": [
    {
     "name": "stdout",
     "output_type": "stream",
     "text": [
      "{1, 2, 3, 4, 5, 6, 7, 8, 9, 10}\n",
      "{1, 2, 3, 4, 5, 6, 7, 8, 9, 10}\n",
      "{1, 2, 3, 4, 5, 6, 7, 8, 9, 10}\n",
      "{1, 2, 3, 4, 5, 6, 7, 8, 9, 10}\n"
     ]
    }
   ],
   "source": [
    "# union\n",
    "A = {1,2,3,4,5}\n",
    "B = {6,7,8,9,10}\n",
    "print(A | B) # {1, 2, 3, 4, 5, 6, 7, 8, 9, 10}\n",
    "print(A.union(B) )# {1, 2, 3, 4, 5, 6, 7, 8, 9, 10}\n",
    "\n",
    "A.update(B) # update set A of values A union B\n",
    "B.update(A) # update set B of values B union A\n",
    "\n",
    "print(A)\n",
    "print(B)"
   ]
  },
  {
   "cell_type": "code",
   "execution_count": null,
   "metadata": {},
   "outputs": [
    {
     "name": "stdout",
     "output_type": "stream",
     "text": [
      "{1, 3, 4, 6}\n",
      "{1, 3, 4, 6}\n",
      "{1, 3, 4, 6}\n",
      "{1, 3, 4, 6}\n"
     ]
    }
   ],
   "source": [
    "# intersection\n",
    "A = {1,2,3,4,5,6}\n",
    "B = {1,3,6,9,8,4}\n",
    "print(A & B) # {1, 3, 4, 6}\n",
    "print(A.intersection(B)) # {1, 3, 4, 6}\n",
    "A.intersection_update(B) # update original set A of values A intersection B\n",
    "B.intersection_update(A) # update original set B of values A intersection A\n",
    "\n",
    "print(A)\n",
    "print(B)"
   ]
  },
  {
   "cell_type": "code",
   "execution_count": 62,
   "metadata": {},
   "outputs": [
    {
     "name": "stdout",
     "output_type": "stream",
     "text": [
      "{2, 5}\n",
      "{2, 5}\n",
      "{2, 5}\n"
     ]
    }
   ],
   "source": [
    "# difference\n",
    "A = {1,2,3,4,5,6}\n",
    "B = {1,3,6,9,8,4}\n",
    "print(A - B) # {2,5}\n",
    "print(A.difference(B)) # {2,5}\n",
    "A.difference_update(B) # removes items in orignial set A which are in set B\n",
    "print(A)"
   ]
  },
  {
   "cell_type": "code",
   "execution_count": 82,
   "metadata": {},
   "outputs": [
    {
     "name": "stdout",
     "output_type": "stream",
     "text": [
      "{2, 5, 8, 9}\n",
      "{2, 5, 8, 9}\n",
      "{1, 2, 3, 4, 5, 6}\n",
      "{2, 5, 8, 9}\n"
     ]
    }
   ],
   "source": [
    "# symmetric difference\n",
    "A = {1,2,3,4,5,6}\n",
    "B = {1,3,6,9,8,4}\n",
    "print(A^B) # {2, 5, 8, 9}\n",
    "print(A.symmetric_difference(B)) # {2, 5, 8, 9}\n",
    "# A.symmetric_difference_update(B) # update set A and set items which are not same in both sets\n",
    "B.symmetric_difference_update(A) # update set B and set items which are not same in both sets\n",
    "print(A)\n",
    "print(B)"
   ]
  },
  {
   "cell_type": "markdown",
   "metadata": {},
   "source": [
    "### Set Methods in Python\n",
    "\n",
    "| Method                      | Description |\n",
    "|-----------------------------|-------------|\n",
    "| `set.add(item)`             | Adds an item to the set. |\n",
    "| `set.remove(item)`          | Removes an item (raises an error if missing). |\n",
    "| `set.discard(item)`         | Removes an item (does not raise an error if missing). |\n",
    "| `set.pop()`                 | Removes and returns a random item. |\n",
    "| `set.clear()`               | Removes all elements from the set. |\n",
    "| `set.union(set2)`           | Returns the union of two sets. |\n",
    "| `set.update(set2)`              | Adds all elements from `set2` to the original set. |\n",
    "| `set.intersection(set2)`    | Returns the intersection of two sets. |\n",
    "| `set.intersection_update(set2)` | Keeps only the elements that are also present in `set2`. |\n",
    "| `set.difference(set2)`      | Returns elements in the first set that are not in the second set. |\n",
    "| `set.difference_update(set2)`       | Removes elements from the set that are also in `set2`. |\n",
    "| `set.symmetric_difference(set2)` | Returns elements unique to each set (excluding common elements). |\n",
    "| `set.symmetric_difference_update(set2)` | Updates the set to contain only elements that are unique to each set. |\n",
    "| `set.issubset(set2)`        | Checks if the set is a subset of another set. |\n",
    "| `set.issuperset(set2)`      | Checks if the set is a superset of another set. |\n",
    "| `set.isdisjoint(set2)`              | Returns `True` if the sets have no common elements, otherwise `False`. |"
   ]
  },
  {
   "cell_type": "code",
   "execution_count": 88,
   "metadata": {},
   "outputs": [
    {
     "name": "stdout",
     "output_type": "stream",
     "text": [
      "{1, 2, 3, 4, 5}\n",
      "None\n",
      "{1, 2, 3, 4, 5, 6}\n",
      "None\n",
      "{1, 2, 4, 5, 6}\n",
      "{1, 4, 5, 6}\n",
      "1\n",
      "{4, 5, 6}\n",
      "set()\n",
      "True\n",
      "True\n",
      "True\n",
      "{1, 2, 3, 20}\n"
     ]
    }
   ],
   "source": [
    "# .add(item)\n",
    "numbers = {1,2,3,4,5}\n",
    "print(numbers) # {1, 2, 3, 4, 5}\n",
    "print(numbers.add(6)) # 6 is added in numbers set\n",
    "print(numbers) # {1, 2, 3, 4, 5, 6}\n",
    "\n",
    "# .remove(item)  if item not exists in set it thorws error\n",
    "print(numbers.remove(3)) # 3 is removed from set numbers if not 3 in set it throws error\n",
    "print(numbers) # {1, 2, 4, 5, 6}\n",
    "\n",
    "# .discard(item) it returns None if items exits or not exits in set and if item exists it removes item from set\n",
    "numbers.discard(2)\n",
    "print(numbers)\n",
    "\n",
    "# .pop()\n",
    "print(numbers.pop()) # return removed item\n",
    "print(numbers)\n",
    "\n",
    "# .clear()\n",
    "numbers.clear()\n",
    "print(numbers) # set() (empty set)\n",
    "\n",
    "\n",
    "# .issubset()\n",
    "A = {1,2,3,4,5,6,7,8,9,10}\n",
    "B = {2,4,6,8,10}\n",
    "print(B.issubset(A)) # True\n",
    "\n",
    "# .issuperset()\n",
    "print(A.issuperset(B)) # True\n",
    "\n",
    "A = {1,2,3}\n",
    "B = {4,5,6}\n",
    "C = {6,7,8}\n",
    "print(A.isdisjoint(B)) # True\n",
    "# print(C.isdisjoint(B)) # False due to 6 is common in both B and C\n",
    "\n",
    "\n",
    "# .copy()\n",
    "C = A.copy()\n",
    "C.add(20)\n",
    "print(C)\n"
   ]
  },
  {
   "cell_type": "markdown",
   "metadata": {},
   "source": [
    "### Checking Membership"
   ]
  },
  {
   "cell_type": "code",
   "execution_count": 110,
   "metadata": {},
   "outputs": [
    {
     "name": "stdout",
     "output_type": "stream",
     "text": [
      "True\n",
      "False\n"
     ]
    }
   ],
   "source": [
    "A = {1,2,3,4,5}\n",
    "print(3 in A)\n",
    "print(10 in A)"
   ]
  },
  {
   "cell_type": "markdown",
   "metadata": {},
   "source": [
    "### Removing Duplicates from a List"
   ]
  },
  {
   "cell_type": "code",
   "execution_count": 104,
   "metadata": {},
   "outputs": [
    {
     "name": "stdout",
     "output_type": "stream",
     "text": [
      "<class 'list'>\n",
      "[1, 2, 3, 4, 5]\n"
     ]
    }
   ],
   "source": [
    "numbers = [1, 2, 2, 3, 4, 4, 5]\n",
    "unique_numbers = list(set(numbers))\n",
    "print(type(unique_numbers))\n",
    "print(unique_numbers)"
   ]
  }
 ],
 "metadata": {
  "kernelspec": {
   "display_name": "Python 3",
   "language": "python",
   "name": "python3"
  },
  "language_info": {
   "codemirror_mode": {
    "name": "ipython",
    "version": 3
   },
   "file_extension": ".py",
   "mimetype": "text/x-python",
   "name": "python",
   "nbconvert_exporter": "python",
   "pygments_lexer": "ipython3",
   "version": "3.12.9"
  }
 },
 "nbformat": 4,
 "nbformat_minor": 2
}
