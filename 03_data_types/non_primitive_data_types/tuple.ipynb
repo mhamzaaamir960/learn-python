{
 "cells": [
  {
   "cell_type": "code",
   "execution_count": 24,
   "metadata": {},
   "outputs": [
    {
     "name": "stdout",
     "output_type": "stream",
     "text": [
      "Tuple 1: (1, 2, 3, 'Hello')\n",
      "Tuple 2: (10, 20, 30)\n",
      "Tuple 3: (2, 3, 4)\n",
      "<class 'tuple'>\n",
      "<class 'int'>\n"
     ]
    }
   ],
   "source": [
    "# Using parentheses\n",
    "tuple1 = (1, 2, 3, \"Hello\")\n",
    "print(f'Tuple 1: {tuple1}')\n",
    "\n",
    "# Without parentheses\n",
    "tuple2 = 10, 20, 30  # Automatically treated as a tuple\n",
    "print(f'Tuple 2: {tuple2}')\n",
    "\n",
    "\n",
    "# using tuple() constructor\n",
    "tuple3 = tuple([2,3,4])\n",
    "print(f'Tuple 3: {tuple3}')\n",
    "\n",
    "\n",
    "# Creating a single-element tuple (comma required)\n",
    "single_element_tuple = (5,)  # Correct\n",
    "not_a_tuple = (5)  # Incorrect, treated as an integer\n",
    "\n",
    "\n",
    "print(type(single_element_tuple))  # <class 'tuple'>\n",
    "print(type(not_a_tuple))  # <class 'int'>"
   ]
  },
  {
   "cell_type": "markdown",
   "metadata": {},
   "source": [
    "### Accessing Tuple Elements\n",
    "1. Indexing\n",
    "2. Negative Indexing\n",
    "3. Slicing"
   ]
  },
  {
   "cell_type": "code",
   "execution_count": null,
   "metadata": {},
   "outputs": [
    {
     "name": "stdout",
     "output_type": "stream",
     "text": [
      "<class 'tuple'>\n",
      "(200, 50)\n",
      "200\n",
      "50\n",
      "200\n"
     ]
    }
   ],
   "source": [
    "# Indexing\n",
    "fruits = (\"apple\", \"banana\", \"cherry\")\n",
    "print(fruits[0])  # apple\n",
    "print(fruits[2])  # cherry\n",
    "\n",
    "# Negative Indexing\n",
    "print(fruits[-1])  # cherry\n",
    "print(fruits[-2])  # banana\n",
    "\n",
    "# slicing\n",
    "numbers = (10, 20, 30, 40, 50)\n",
    "print(numbers[1:4])  # (20, 30, 40)\n",
    "print(numbers[:3])   # (10, 20, 30)\n",
    "print(numbers[::2])  # (10, 30, 50)\n"
   ]
  },
  {
   "cell_type": "markdown",
   "metadata": {},
   "source": [
    "### Tuple Operations\n",
    "1. Concatination\n",
    "2. Repetition\n",
    "3. Membership Test\n",
    "4. Tuple Unpacking"
   ]
  },
  {
   "cell_type": "code",
   "execution_count": 35,
   "metadata": {},
   "outputs": [
    {
     "name": "stdout",
     "output_type": "stream",
     "text": [
      "<class 'tuple'>\n",
      "(1, 2, 3, 4, 5, 6, 7, 8, 9, 10)\n",
      "('Hello', 'Hello', 'Hello')\n",
      "True\n",
      "True\n",
      "x value: 10, z value: 30, y value: 20\n"
     ]
    }
   ],
   "source": [
    "# Concatination\n",
    "tuple1 = (1,2,3,4,5)\n",
    "tuple2 = (6,7,8,9,10)\n",
    "result = tuple1 + tuple2\n",
    "print(type(result))\n",
    "print(result)\n",
    "\n",
    "# Repetition\n",
    "tuple3 = (\"Hello\",) * 3\n",
    "print(tuple3)\n",
    "\n",
    "# Membership Test\n",
    "print(3 in (1,2,3,4,5))\n",
    "print(\"wo\" in \"Hello world!\")\n",
    "\n",
    "# Tuple Unpacking\n",
    "coordinates = (10,20,30)\n",
    "x,y,z = coordinates\n",
    "print(f\"x value: {x}, z value: {z}, y value: {y}\")"
   ]
  },
  {
   "cell_type": "markdown",
   "metadata": {},
   "source": [
    "### Tuple Methods\n",
    "- .count()\n",
    "- .index()"
   ]
  },
  {
   "cell_type": "code",
   "execution_count": null,
   "metadata": {},
   "outputs": [
    {
     "name": "stdout",
     "output_type": "stream",
     "text": [
      "4\n",
      "2\n"
     ]
    }
   ],
   "source": [
    "numbers = (4,3,8,9,6,5,7,3,2,9,3,8,3)\n",
    "print(numbers.count(3)) # counts the no. of item in list\n",
    "print(numbers.index(8)) # return value at index"
   ]
  },
  {
   "cell_type": "markdown",
   "metadata": {},
   "source": [
    "### Inner Working & Memory Efficiency\n",
    "- How Tuples Store Data\n",
    "    - Tuples store references (pointers) to objects, just like lists.\n",
    "    - Since tuples are immutable, Python optimizes their storage to be more memory-efficient than lists."
   ]
  },
  {
   "cell_type": "code",
   "execution_count": 47,
   "metadata": {},
   "outputs": [
    {
     "name": "stdout",
     "output_type": "stream",
     "text": [
      "104\n",
      "80\n"
     ]
    }
   ],
   "source": [
    "import sys\n",
    "list_data = [1, 2, 3, 4, 5]\n",
    "tuple_data = (1, 2, 3, 4, 5)\n",
    "\n",
    "print(sys.getsizeof(list_data))  # More memory\n",
    "print(sys.getsizeof(tuple_data))  # Less memory\n"
   ]
  },
  {
   "cell_type": "markdown",
   "metadata": {},
   "source": [
    "###  When to Use Tuples?\n",
    "- When data should remain constant – E.g., Days of the week:\n",
    "- When you want to use tuples as dictionary keys"
   ]
  },
  {
   "cell_type": "code",
   "execution_count": null,
   "metadata": {},
   "outputs": [
    {
     "name": "stdout",
     "output_type": "stream",
     "text": [
      "('Monday', 'Tuesday', 'Wednesday', 'Thursday', 'Friday', 'Saturday', 'Sunday')\n",
      "Point B\n"
     ]
    }
   ],
   "source": [
    "days_of_week = (\"Monday\", \"Tuesday\", \"Wednesday\", \"Thursday\", \"Friday\", \"Saturday\", \"Sunday\")\n",
    "print(days_of_week)\n",
    "\n",
    "coordinates = {(10, 20): \"Point A\", (30, 40): \"Point B\"}\n",
    "print(coordinates[(30, 40)])"
   ]
  },
  {
   "cell_type": "markdown",
   "metadata": {},
   "source": [
    "###  Copying Tuples"
   ]
  },
  {
   "cell_type": "code",
   "execution_count": 61,
   "metadata": {},
   "outputs": [
    {
     "name": "stdout",
     "output_type": "stream",
     "text": [
      "True\n"
     ]
    }
   ],
   "source": [
    "t1 = (1,2,3)\n",
    "t2 = t1\n",
    "print(t1 is t2)"
   ]
  },
  {
   "cell_type": "code",
   "execution_count": null,
   "metadata": {},
   "outputs": [
    {
     "name": "stdout",
     "output_type": "stream",
     "text": [
      "Original Dimensions\n",
      "300\n",
      "150\n",
      "\n",
      "Modified Dimensions\n",
      "500\n",
      "250\n"
     ]
    }
   ],
   "source": [
    "# Loop values of tuple\n",
    "dimensions = (300,150)\n",
    "\n",
    "print(\"Original Dimensions\")\n",
    "for dimension in dimensions:\n",
    "    print(dimension)\n",
    "    \n",
    "dimensions = (500, 250)\n",
    "print(\"\\nModified Dimensions\")\n",
    "for dimension in dimensions:\n",
    "    print(dimension)\n",
    "    "
   ]
  },
  {
   "cell_type": "code",
   "execution_count": null,
   "metadata": {},
   "outputs": [],
   "source": []
  }
 ],
 "metadata": {
  "kernelspec": {
   "display_name": "Python 3",
   "language": "python",
   "name": "python3"
  },
  "language_info": {
   "codemirror_mode": {
    "name": "ipython",
    "version": 3
   },
   "file_extension": ".py",
   "mimetype": "text/x-python",
   "name": "python",
   "nbconvert_exporter": "python",
   "pygments_lexer": "ipython3",
   "version": "3.12.9"
  }
 },
 "nbformat": 4,
 "nbformat_minor": 2
}
