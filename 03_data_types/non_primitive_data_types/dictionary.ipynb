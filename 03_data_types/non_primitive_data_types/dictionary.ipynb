{
 "cells": [
  {
   "cell_type": "markdown",
   "metadata": {},
   "source": [
    "### Creating a Dictionary\n",
    "- A dictionary is defined using curly braces `{}` with **key-value** pairs separated by colons `:`."
   ]
  },
  {
   "cell_type": "code",
   "execution_count": 132,
   "metadata": {},
   "outputs": [
    {
     "name": "stdout",
     "output_type": "stream",
     "text": [
      "<class 'dict'>\n",
      "{'name': 'Hamza Aamir', 'age': 21, 'subject': 'Computer Science'}\n",
      "<class 'tuple'> ('subject', 'Computer Science')\n",
      "{'name': 'Hamza Aamir', 'age': 21}\n"
     ]
    }
   ],
   "source": [
    "student = {\n",
    "    \"name\": \"Hamza Aamir\",\n",
    "    \"age\": 21,\n",
    "    \"subject\": \"Computer Science\",\n",
    "}\n",
    "print(type(student))\n",
    "print(student)\n",
    "\n",
    "removed_item = student.popitem()\n",
    "\n",
    "print(type(removed_item), removed_item) # removes and return last inserted item in tuple type from dictionary\n",
    "print(student)\n"
   ]
  },
  {
   "cell_type": "code",
   "execution_count": 1,
   "metadata": {},
   "outputs": [
    {
     "name": "stdout",
     "output_type": "stream",
     "text": [
      "{'name': 'Hamza', 'age': 21, 'city': 'Rawalpindi'}\n",
      "Hamza\n",
      "Rawalpindi\n",
      "{'name': 'Hamza', 'age': 25}\n",
      "3\n"
     ]
    }
   ],
   "source": [
    "data = dict(name=\"Hamza\", age=21, city=\"Rawalpindi\")\n",
    "print(data)\n",
    "print(data.get(\"name\"))\n",
    "print(data[\"city\"])\n",
    "\n",
    "\n",
    "pairs = [(\"name\", \"Hamza\"), (\"age\", 25)]\n",
    "d1 = dict(pairs)  # Works\n",
    "print(d1)\n",
    "print(len(data))"
   ]
  },
  {
   "cell_type": "markdown",
   "metadata": {},
   "source": [
    "### Accessing Dictionary Values\n",
    "- dict_name`[\"key_name\"]` => if key not exits in dictioinary it thorws error.\n",
    "\n",
    "- dict_name.`get(\"key_name\", default)` => if key not exits by default it returs `None` otherwise we will add custom message in second parameter if key not exits."
   ]
  },
  {
   "cell_type": "code",
   "execution_count": 41,
   "metadata": {},
   "outputs": [
    {
     "name": "stdout",
     "output_type": "stream",
     "text": [
      "Hamza Aamir\n",
      "None\n",
      "Value not Exits!\n"
     ]
    }
   ],
   "source": [
    "\n",
    "print(student[\"name\"]) \n",
    "print(student.get(\"age\"))\n",
    "print(student.get(\"gender\", \"Value not Exits!\"))"
   ]
  },
  {
   "cell_type": "markdown",
   "metadata": {},
   "source": [
    "### Adding & Modifying Dictionary Items"
   ]
  },
  {
   "cell_type": "code",
   "execution_count": null,
   "metadata": {},
   "outputs": [
    {
     "name": "stdout",
     "output_type": "stream",
     "text": [
      "23\n",
      "Rawalpindi\n",
      "Rawalpindi\n",
      "{'name': 'Hamza Aamir', 'age': 23, 'subject': 'Computer Science'}\n"
     ]
    }
   ],
   "source": [
    "# Update/modify value in dictionay\n",
    "student[\"age\"] = 23\n",
    "print(student[\"age\"])\n",
    "\n",
    "# Adding new value in dictionary\n",
    "student[\"city\"] = \"Rawalpindi\"\n",
    "print(student[\"city\"])\n",
    "print(student.get(\"city\"))\n",
    "\n",
    "print(student)"
   ]
  },
  {
   "cell_type": "markdown",
   "metadata": {},
   "source": [
    "### Removing Items\n",
    "- `.pop()` => add key of value as a parameter  in pop() for removing a value in dictionary.\n",
    "\n",
    "- `del student[\"city\"]`\n",
    "\n",
    "- `.clear()` => Remove all dictionary values."
   ]
  },
  {
   "cell_type": "code",
   "execution_count": null,
   "metadata": {},
   "outputs": [
    {
     "name": "stdout",
     "output_type": "stream",
     "text": [
      "{'name': 'Hamza Aamir', 'subject': 'Computer Science', 'city': 'Rawalpindi'}\n",
      "None\n",
      "{'subject': 'Computer Science', 'city': 'Rawalpindi'}\n",
      "None\n",
      "{}\n"
     ]
    }
   ],
   "source": [
    "# using .pop()\n",
    "student.pop(\"age\")\n",
    "print(student)\n",
    "\n",
    "# using del keyword\n",
    "del student[\"name\"] # deletes name property in studnet dictionary\n",
    "print(student.get(\"name\"))\n",
    "print(student)\n",
    "\n",
    "# using .clear() removes all values from dictionary\n",
    "print(student.clear()) # None and clear() method removes all key-value from student dictionary\n",
    "print(student) # {}"
   ]
  },
  {
   "cell_type": "markdown",
   "metadata": {},
   "source": [
    "### Looping Through a Dictionary\n",
    "- .keys()\n",
    "- .values()\n",
    "- .items()"
   ]
  },
  {
   "cell_type": "code",
   "execution_count": 85,
   "metadata": {},
   "outputs": [
    {
     "name": "stdout",
     "output_type": "stream",
     "text": [
      "name\n",
      "age\n",
      "subject\n",
      "\n",
      "\n",
      "name\n",
      "age\n",
      "subject\n",
      "\n",
      "\n",
      "Hamza Aamir\n",
      "21\n",
      "Computer Science\n",
      "\n",
      "\n",
      "Key: name, Value: Hamza Aamir\n",
      "Key: age, Value: 21\n",
      "Key: subject, Value: Computer Science\n",
      "\n",
      "\n",
      "Key: name, Value: Hamza Aamir\n",
      "Key: age, Value: 21\n",
      "Key: subject, Value: Computer Science\n"
     ]
    }
   ],
   "source": [
    "student = {\n",
    "    \"name\": \"Hamza Aamir\",\n",
    "    \"age\": 21,\n",
    "    \"subject\": \"Computer Science\"\n",
    "}\n",
    "\n",
    "# iterate over keys()\n",
    "for key in student:\n",
    "    print(key)\n",
    "    \n",
    "print(\"\\n\")\n",
    "    \n",
    "for key in student.keys():\n",
    "    print(key)\n",
    "    \n",
    "print(\"\\n\")\n",
    "    \n",
    "# iterate over values\n",
    "for value in student.values():\n",
    "    print(value)\n",
    "    \n",
    "print(\"\\n\")\n",
    " \n",
    "# iterate over items\n",
    "for key, value in student.items():\n",
    "    print(f\"Key: {key}, Value: {value}\")\n",
    "    \n",
    "print(\"\\n\")\n",
    "\n",
    "for key in student:\n",
    "    print(f\"Key: {key}, Value: {student[key]}\")\n",
    "\n",
    "    "
   ]
  },
  {
   "cell_type": "markdown",
   "metadata": {},
   "source": [
    "### Merge other dictionary \n",
    "- .update(other_dictionary)"
   ]
  },
  {
   "cell_type": "code",
   "execution_count": 140,
   "metadata": {},
   "outputs": [
    {
     "name": "stdout",
     "output_type": "stream",
     "text": [
      "{'name': 'Hamza Aamir', 'age': 21, 'subject': 'Computer Science'}\n",
      "{'age': 24, 'city': 'Rawalpindi'}\n",
      "{'name': 'Hamza Aamir', 'age': 24, 'subject': 'Computer Science', 'city': 'Rawalpindi'}\n"
     ]
    }
   ],
   "source": [
    "data = {\n",
    "    \"name\": \"Hamza Aamir\",\n",
    "    \"age\": 21,\n",
    "    \"subject\": \"Computer Science\"\n",
    "}\n",
    "update_data = {\n",
    "    \"age\": 24,\n",
    "    \"city\": \"Rawalpindi\"\n",
    "}\n",
    "print(data)\n",
    "data.update(update_data)\n",
    "print(update_data)\n",
    "print(data)"
   ]
  }
 ],
 "metadata": {
  "kernelspec": {
   "display_name": "Python 3",
   "language": "python",
   "name": "python3"
  },
  "language_info": {
   "codemirror_mode": {
    "name": "ipython",
    "version": 3
   },
   "file_extension": ".py",
   "mimetype": "text/x-python",
   "name": "python",
   "nbconvert_exporter": "python",
   "pygments_lexer": "ipython3",
   "version": "3.12.9"
  }
 },
 "nbformat": 4,
 "nbformat_minor": 2
}
