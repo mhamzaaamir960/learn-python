{
 "cells": [
  {
   "cell_type": "code",
   "execution_count": 11,
   "metadata": {},
   "outputs": [
    {
     "name": "stdout",
     "output_type": "stream",
     "text": [
      "['Hello world', 21, 3.14, [20, 30, 40]]\n",
      "<class 'list'>\n"
     ]
    }
   ],
   "source": [
    "my_list = [\"Hello world\", 21, 3.14, [20,30,40]]\n",
    "print(my_list)\n",
    "print(type(my_list))"
   ]
  },
  {
   "cell_type": "code",
   "execution_count": 18,
   "metadata": {},
   "outputs": [
    {
     "name": "stdout",
     "output_type": "stream",
     "text": [
      "[1, 2, 3, 4, 5, 6]\n",
      "[]\n",
      "['P', 'y', 't', 'h', 'o', 'n']\n"
     ]
    }
   ],
   "source": [
    "numbers = [1,2,3,4,5,6]\n",
    "print(numbers)\n",
    "\n",
    "# created an empty list using list() constructor\n",
    "empty_list = list()\n",
    "print(empty_list)\n",
    "\n",
    "str_list = list(\"Python\")\n",
    "print(str_list)\n"
   ]
  },
  {
   "cell_type": "markdown",
   "metadata": {},
   "source": [
    "### Accessing List Elements\n",
    "- You can access elements using indexing, slicing, and negative indexing."
   ]
  },
  {
   "cell_type": "code",
   "execution_count": 29,
   "metadata": {},
   "outputs": [
    {
     "name": "stdout",
     "output_type": "stream",
     "text": [
      "apple\n",
      "cherry\n",
      "cherry\n",
      "banana\n",
      "['banana']\n",
      "['apple', 'banana', 'cherry']\n",
      "['apple', 'cherry']\n"
     ]
    }
   ],
   "source": [
    "# indexing\n",
    "fruits = [\"apple\", \"banana\", \"cherry\"]\n",
    "print(fruits[0])\n",
    "print(fruits[2])\n",
    "\n",
    "# Negative Indexing\n",
    "print(fruits[-1])\n",
    "print(fruits[-2])\n",
    "\n",
    "# slicing\n",
    "print(fruits[1:2])\n",
    "print(fruits[:3])\n",
    "print(fruits[::2])"
   ]
  },
  {
   "cell_type": "markdown",
   "metadata": {},
   "source": [
    "### Modifying a List\n",
    "- Since lists are mutable, we can change elements, add, and remove items."
   ]
  },
  {
   "cell_type": "code",
   "execution_count": null,
   "metadata": {},
   "outputs": [
    {
     "name": "stdout",
     "output_type": "stream",
     "text": [
      "['Apple', 'Banana', 'Orange', 'Cherry']\n",
      "['Apple', 'Banana', 'Strawberry', 'Orange', 'Cherry', 'Manogo']\n",
      "['Apple', 'Strawberry', 'Orange', 'Cherry']\n",
      "['Apple', 'Orange', 'Cherry']\n",
      "['Apple', 'Orange']\n"
     ]
    }
   ],
   "source": [
    "# Changing Elements\n",
    "fruits = [\"Apple\", \"Banana\", \"Grapes\", \"Cherry\"]\n",
    "fruits[2] = \"Orange\"\n",
    "print(fruits)\n",
    "\n",
    "# Adding Elements\n",
    "fruits.append(\"manogo\".title()) # add element at end of list\n",
    "fruits.insert(2, \"Strawberry\") # insert element at defined index\n",
    "print(fruits)\n",
    "\n",
    "# Removing Elements\n",
    "fruits.remove(\"Banana\") # find and remove element in list\n",
    "fruits.pop() # by default removes last element\n",
    "print(fruits)\n",
    "\n",
    "fruits.pop(1) # removes element which exists on index 1\n",
    "print(fruits)\n",
    "\n",
    "del fruits[2] # Deletes an element by index\n",
    "print(fruits)\n"
   ]
  },
  {
   "cell_type": "code",
   "execution_count": 96,
   "metadata": {},
   "outputs": [
    {
     "name": "stdout",
     "output_type": "stream",
     "text": [
      "['Apple', 'Banana', 'Grapes', 'Cherry']\n",
      "[]\n",
      "3\n"
     ]
    }
   ],
   "source": [
    "# clear a list\n",
    "fruits = [\"Apple\", \"Banana\", \"Grapes\", \"Cherry\"]\n",
    "print(fruits) # ['Apple', 'Banana', 'Grapes', 'Cherry']\n",
    "fruits.clear()\n",
    "print(fruits) # ['Apple', 'Banana', 'Grapes', 'Cherry']\n",
    "\n",
    "# count the items in list\n",
    "fruits = [\"Apple\", \"Banana\", \"Apple\", \"Grapes\", \"Cherry\", \"Apple\"]\n",
    "print(fruits.count(\"Apple\"))\n"
   ]
  },
  {
   "cell_type": "markdown",
   "metadata": {},
   "source": [
    "### Iterating Through a List\n",
    "- You can iterate through a list using a for loop."
   ]
  },
  {
   "cell_type": "code",
   "execution_count": 63,
   "metadata": {},
   "outputs": [
    {
     "name": "stdout",
     "output_type": "stream",
     "text": [
      "Apple\n",
      "Banana\n",
      "Grapes\n",
      "Cherry\n"
     ]
    }
   ],
   "source": [
    "fruits = [\"Apple\", \"Banana\", \"Grapes\", \"Cherry\"]\n",
    "\n",
    "for fruit in fruits:\n",
    "    print(fruit)\n"
   ]
  },
  {
   "cell_type": "markdown",
   "metadata": {},
   "source": [
    "### Using enumerate() to get index & value:"
   ]
  },
  {
   "cell_type": "code",
   "execution_count": 70,
   "metadata": {},
   "outputs": [
    {
     "name": "stdout",
     "output_type": "stream",
     "text": [
      "Index: 0, Value: Apple\n",
      "Index: 1, Value: Banana\n",
      "Index: 2, Value: Grapes\n",
      "Index: 3, Value: Cherry\n"
     ]
    }
   ],
   "source": [
    "for index, fruit in enumerate(fruits):\n",
    "    print(f\"Index: {index}, Value: {fruit}\")"
   ]
  },
  {
   "cell_type": "markdown",
   "metadata": {},
   "source": [
    "### Sorting a List Permanently with the sort() Method"
   ]
  },
  {
   "cell_type": "code",
   "execution_count": null,
   "metadata": {},
   "outputs": [
    {
     "name": "stdout",
     "output_type": "stream",
     "text": [
      "['bmw', 'audi', 'toyota', 'mercedes']\n",
      "['audi', 'bmw', 'mercedes', 'toyota']\n"
     ]
    }
   ],
   "source": [
    "cars = [\"bmw\", \"audi\", \"toyota\",\"mercedes\"]\n",
    "print(cars)\n",
    "cars.sort()\n",
    "print(cars)"
   ]
  },
  {
   "cell_type": "code",
   "execution_count": 7,
   "metadata": {},
   "outputs": [
    {
     "name": "stdout",
     "output_type": "stream",
     "text": [
      "['bmw', 'audi', 'toyota', 'suzuki', 'mercedes', 'tesla']\n",
      "['toyota', 'tesla', 'suzuki', 'mercedes', 'bmw', 'audi']\n"
     ]
    }
   ],
   "source": [
    "# Reverse sort\n",
    "cars = [\"bmw\", \"audi\",\"toyota\", \"suzuki\", \"mercedes\", \"tesla\"]\n",
    "print(cars)\n",
    "cars.sort(reverse=True)\n",
    "print(cars)"
   ]
  },
  {
   "cell_type": "markdown",
   "metadata": {},
   "source": [
    "### Sorting a List Temporarily with the sorted() Function"
   ]
  },
  {
   "cell_type": "code",
   "execution_count": 13,
   "metadata": {},
   "outputs": [
    {
     "name": "stdout",
     "output_type": "stream",
     "text": [
      "['audi', 'bmw', 'mercedes', 'suzuki', 'toyota']\n",
      "['toyota', 'suzuki', 'mercedes', 'bmw', 'audi']\n"
     ]
    }
   ],
   "source": [
    "cars = [\"bmw\", \"toyota\", \"suzuki\", \"audi\", \"mercedes\"]\n",
    "print(sorted(cars))\n",
    "\n",
    "#Reverse Temporarily sort\n",
    "print(sorted(cars, reverse=True))"
   ]
  },
  {
   "cell_type": "markdown",
   "metadata": {},
   "source": [
    "### Printing a List in Reverse Order"
   ]
  },
  {
   "cell_type": "code",
   "execution_count": 26,
   "metadata": {},
   "outputs": [
    {
     "name": "stdout",
     "output_type": "stream",
     "text": [
      "['mercedes', 'audi', 'suzuki', 'toyota', 'bmw']\n",
      "['bmw', 'toyota', 'suzuki', 'audi', 'mercedes']\n"
     ]
    }
   ],
   "source": [
    "cars = [\"bmw\", \"toyota\", \"suzuki\", \"audi\", \"mercedes\"]\n",
    "cars.reverse()\n",
    "print(cars)\n",
    "\n",
    "# back tooriginal\n",
    "cars.reverse()\n",
    "print(cars)"
   ]
  },
  {
   "cell_type": "markdown",
   "metadata": {},
   "source": [
    "### Find the length of list"
   ]
  },
  {
   "cell_type": "code",
   "execution_count": 38,
   "metadata": {},
   "outputs": [
    {
     "name": "stdout",
     "output_type": "stream",
     "text": [
      "5\n"
     ]
    }
   ],
   "source": [
    "cars = [\"bmw\", \"toyota\", \"suzuki\", \"audi\", \"mercedes\"]\n",
    "print(len(cars))"
   ]
  },
  {
   "cell_type": "markdown",
   "metadata": {},
   "source": [
    "### Looping Through an Entire List"
   ]
  },
  {
   "cell_type": "code",
   "execution_count": 39,
   "metadata": {},
   "outputs": [
    {
     "name": "stdout",
     "output_type": "stream",
     "text": [
      "Welcome Hamza! Hope you are doing well!\n",
      "Welcome Omer! Hope you are doing well!\n",
      "Welcome Ali! Hope you are doing well!\n",
      "Welcome Fazeel! Hope you are doing well!\n",
      "Welcome Wasif! Hope you are doing well!\n",
      "Welcome Ibrahim! Hope you are doing well!\n"
     ]
    }
   ],
   "source": [
    "names  = [\"Hamza\", \"Omer\", \"Ali\", \"Fazeel\", \"Wasif\", \"Ibrahim\"]\n",
    "for name in names:\n",
    "    print(f\"Welcome {name}! Hope you are doing well!\")\n"
   ]
  },
  {
   "cell_type": "markdown",
   "metadata": {},
   "source": [
    "### Using the range() Function"
   ]
  },
  {
   "cell_type": "code",
   "execution_count": 58,
   "metadata": {},
   "outputs": [
    {
     "name": "stdout",
     "output_type": "stream",
     "text": [
      "0\n",
      "1\n",
      "2\n",
      "3\n",
      "4\n",
      "5\n",
      "6\n",
      "7\n",
      "8\n",
      "9\n",
      "10\n"
     ]
    }
   ],
   "source": [
    "for value in range(0,11):\n",
    "    print(value)"
   ]
  },
  {
   "cell_type": "code",
   "execution_count": 59,
   "metadata": {},
   "outputs": [
    {
     "name": "stdout",
     "output_type": "stream",
     "text": [
      "0\n",
      "2\n",
      "4\n",
      "6\n",
      "8\n",
      "10\n"
     ]
    }
   ],
   "source": [
    "# Add steps using range function\n",
    "\n",
    "for value in range(0,11,2):\n",
    "    print(value)"
   ]
  },
  {
   "cell_type": "code",
   "execution_count": 60,
   "metadata": {},
   "outputs": [
    {
     "name": "stdout",
     "output_type": "stream",
     "text": [
      "[1, 2, 3, 4, 5]\n",
      "[1, 3, 5, 7, 9]\n",
      "[1, 4, 9, 16, 25, 36, 49, 64, 81, 100]\n"
     ]
    }
   ],
   "source": [
    "# Using range() to make list of numbers\n",
    "numbers = list(range(1,6))\n",
    "print(numbers)\n",
    "\n",
    "# Add steps using range() in list of numbers\n",
    "numbers = list(range(1,11,2))\n",
    "print(numbers)\n",
    "\n",
    "\n",
    "squares = []\n",
    "for value in range(1,11):\n",
    "    square = value ** 2\n",
    "    squares.append(square)\n",
    "else:\n",
    "    print(squares)"
   ]
  },
  {
   "cell_type": "markdown",
   "metadata": {},
   "source": [
    "### Using:\n",
    " - min()\n",
    " - max()\n",
    " - sum()"
   ]
  },
  {
   "cell_type": "code",
   "execution_count": 67,
   "metadata": {},
   "outputs": [
    {
     "name": "stdout",
     "output_type": "stream",
     "text": [
      "1\n",
      "9\n",
      "35\n",
      "Ali\n",
      "Wasif\n"
     ]
    }
   ],
   "source": [
    "# using numerical numbers\n",
    "digits = [2,5,7,3,9,1,8]\n",
    "print(min(digits))\n",
    "print(max(digits))\n",
    "print(sum(digits))\n",
    "\n",
    "# using string (min() and max())\n",
    "names  = [\"Hamza\", \"Omer\", \"Ali\", \"Fazeel\", \"Wasif\", \"Ibrahim\"]\n",
    "print(min(names)) # prints name alphabatically in asseceding order\n",
    "print(max(names)) # prints name alphabatically in decending order\n"
   ]
  },
  {
   "cell_type": "markdown",
   "metadata": {},
   "source": [
    "### List Comprehensions"
   ]
  },
  {
   "cell_type": "code",
   "execution_count": 68,
   "metadata": {},
   "outputs": [
    {
     "name": "stdout",
     "output_type": "stream",
     "text": [
      "[1, 4, 9, 16, 25, 36, 49, 64, 81, 100]\n"
     ]
    }
   ],
   "source": [
    "squares  = [value ** 2 for value in range(1,11)]\n",
    "print(squares)"
   ]
  },
  {
   "cell_type": "markdown",
   "metadata": {},
   "source": [
    "### Slicing a List"
   ]
  },
  {
   "cell_type": "code",
   "execution_count": 69,
   "metadata": {},
   "outputs": [
    {
     "name": "stdout",
     "output_type": "stream",
     "text": [
      "['charles', 'martina', 'michael']\n",
      "['charles', 'martina', 'michael', 'florence']\n",
      "['charles', 'michael', 'eli']\n",
      "['eli', 'florence', 'michael', 'martina', 'charles']\n",
      "CHARLES\n",
      "MARTINA\n",
      "MICHAEL\n",
      "['charles', 'martina', 'michael', 'florence', 'eli']\n",
      "['charles', 'Smith', 'michael', 'florence', 'eli']\n"
     ]
    }
   ],
   "source": [
    "players = ['charles', 'martina', 'michael', 'florence', 'eli']\n",
    "print(players[0:3]) # print players name 0 index to 3. 3 is not included\n",
    "print(players[:4]) # print players from 0 index to 4. \n",
    "print(players[0::2])\n",
    "print(players[::-1]) # reverse the list\n",
    "\n",
    "# Looping Through a Slice\n",
    "for player in players[:3]:\n",
    "    print(player.upper())\n",
    "\n",
    "\n",
    "# copy a list through slicing\n",
    "players2 = players[:]\n",
    "print(players2)\n",
    "players2[1] = \"Smith\"\n",
    "print(players2)"
   ]
  },
  {
   "cell_type": "markdown",
   "metadata": {},
   "source": [
    "### Memory Allocation & Inner Working\n",
    "Python lists are dynamic arrays, meaning they can grow and shrink as needed. However, they do not store values directly. Instead, they store references (pointers) to objects.\n",
    "\n",
    "#### Memory Efficiency\n",
    "- Lists allocate extra memory to allow efficient resizing.\n",
    "- Python's `sys.getsizeof()` can check memory usage.\n"
   ]
  },
  {
   "cell_type": "code",
   "execution_count": 70,
   "metadata": {},
   "outputs": [
    {
     "name": "stdout",
     "output_type": "stream",
     "text": [
      "72\n"
     ]
    }
   ],
   "source": [
    "import sys\n",
    "my_list = [1,\"Hello world\"]\n",
    "print(sys.getsizeof(my_list))"
   ]
  },
  {
   "cell_type": "markdown",
   "metadata": {},
   "source": [
    "### Copying Lists (Shallow vs Deep Copy)\n",
    "- Assignments `l2 = l1`\n",
    "    - Reference Copy (No Copy at All)\n",
    "\n",
    "      - Here, **l2** is not a new list; it is just another reference to **l1**.\n",
    "      - Both **l1** and **l2** point to the same memory location.\n",
    "      - Any modification in one affects the other.\n",
    "      - **Use Case**: When you want two variables to refer to the same object.\n",
    "\n",
    "\n",
    "- Using `.copy()`: `l2 = l1.copy()`,  slicing: `l2 = l1[:]` & `copy.copy()`: `l2 = copy.copy(l1)`\n",
    "    - Shallow Copy\n",
    "\n",
    "       - `copy()` creates a new list, but the elements inside remain the same (shallow copy).\n",
    "       - If the list contains immutable elements (e.g., int, str), it's effectively a deep copy.\n",
    "       - If the list contains mutable elements (e.g., lists, dicts), the inner objects remain shared.\n",
    "       - The outer list is copied, but inner lists share the same reference.\n",
    "\n",
    "- Using `copy.deepcopy()`: `l2 = copy.deepcopy(l1)`\n",
    "    -  Deep Copy\n",
    "\n",
    "        - Recursively copies everything, including nested mutable objects.\n",
    "        - The copied list and all its inner elements are completely independent.\n",
    "        - **Use Case**: When you need full independence between the copied object and the original.\n",
    "\n",
    "\n",
    "\n",
    "## Final Summary\n",
    "\n",
    "| Method                       | Type           | Outer Object Copied? | Inner Objects Copied?        | Modifying Inner Objects Affects Original? |\n",
    "| ---------------------------- | -------------- | -------------------- | ---------------------------- | ----------------------------------------- |\n",
    "| `lst2 = lst1`                | Reference Copy | No                   | No                           | Yes                                       |\n",
    "| `lst2 = lst1.copy()`         | Shallow Copy   | Yes                  | No (references shared)       | Yes                                       |\n",
    "| `lst2 = lst1[:]`             | Shallow Copy   | Yes                  | No (references shared)       | Yes                                       |\n",
    "| `lst2 = copy.copy(lst1)`     | Shallow Copy   | Yes                  | No (references shared)       | Yes                                       |\n",
    "| `lst2 = copy.deepcopy(lst1)` | Deep Copy      | Yes                  | Yes (completely new objects) | No                                        |\n",
    "\n",
    "\n",
    "\n",
    "## When to Use What?\n",
    "- Use **lst2 = lst1** → When you want to work with the same object.\n",
    "- Use **.copy()** or **[:]** → When you want a copy but don't mind sharing nested objects.\n",
    "- Use **copy.deepcopy()** → When you need a completely independent copy, especially for nested structures.\n"
   ]
  },
  {
   "cell_type": "code",
   "execution_count": 30,
   "metadata": {},
   "outputs": [
    {
     "name": "stdout",
     "output_type": "stream",
     "text": [
      "[1, 2, 3, 4, 5] [1, 2, 3, 4, 5]\n",
      "[1, 2, 1000, 4, 5, 25] [1, 2, 1000, 4, 5, 25]\n"
     ]
    }
   ],
   "source": [
    "# Assignments\n",
    "list_1 = [1,2,3,4,5]\n",
    "list_2 = list_1\n",
    "print(list_1, list_2)\n",
    "\n",
    "list_2[2] = 1000\n",
    "list_2.append(25)\n",
    "print(list_1, list_2)"
   ]
  },
  {
   "cell_type": "code",
   "execution_count": 29,
   "metadata": {},
   "outputs": [
    {
     "name": "stdout",
     "output_type": "stream",
     "text": [
      "[[1, 2, 3, 4, 5], [5, 6, 7, 3, 9], [12, 54, 65, 34, 76, 34]]\n",
      "[[1, 2, 3, 4, 5], [5, 6, 7, 3, 9], [12, 54, 65, 34, 76, 34]]\n",
      "\n",
      "\n",
      "[[1, 2, 3, 4, 5], [5, 6, 7, 3, 9], [12, 54, 65, 34, 76, 34]]\n",
      "[25, [5, 6, 7, 3, 9], [12, 54, 65, 34, 76, 34]]\n",
      "\n",
      "\n",
      "[[1, 2, 3, 4, 5], [5, 6, 1000, 3, 9], [12, 54, 65, 34, 76, 34]]\n",
      "[25, [5, 6, 1000, 3, 9], [12, 54, 65, 34, 76, 34]]\n",
      "\n",
      "\n",
      "[[1, 2, 3, 4, 5], [5, 6, 1000, 3, 9], [12, 54, 65, 34, 76, 34, 500]]\n",
      "[25, [5, 6, 1000, 3, 9], [12, 54, 65, 34, 76, 34, 500]]\n"
     ]
    }
   ],
   "source": [
    "# using .copy(), slicing([:]) and copy().copy()\n",
    "list_1 = [[1,2,3,4,5], [5,6,7,3,9],[12,54,65,34,76,34]]\n",
    "list_2 = list_1.copy()\n",
    "print(list_1)\n",
    "print(list_2)\n",
    "print(\"\\n\")\n",
    "\n",
    "\n",
    "list_2[0] = 25\n",
    "print(list_1)\n",
    "print(list_2)\n",
    "print(\"\\n\")\n",
    "\n",
    "\n",
    "list_2[1][2] = 1000\n",
    "print(list_1)\n",
    "print(list_2)\n",
    "print(\"\\n\")\n",
    "\n",
    "\n",
    "list_2[2].append(500)\n",
    "print(list_1)\n",
    "print(list_2)"
   ]
  },
  {
   "cell_type": "code",
   "execution_count": 27,
   "metadata": {},
   "outputs": [
    {
     "name": "stdout",
     "output_type": "stream",
     "text": [
      "[[1, 2, 3, 4, 5], [5, 6, 7, 3, 9], [12, 54, 65, 34, 76, 34]]\n",
      "[[1, 2, 3, 4, 5], [5, 6, 7, 3, 9], [12, 54, 65, 34, 76, 34]]\n",
      "\n",
      "\n",
      "[[98, 45, 35, 23], [5, 6, 7, 3, 9], [12, 54, 65, 34, 76, 34]]\n",
      "[[1, 2, 3, 4, 5], [5, 6, 7, 3, 9], [12, 54, 65, 34, 76, 34, 50000]]\n",
      "\n",
      "\n",
      "[[98, 45, 35, 23], [5, 6, 7, 3, 9], [12, 54, 65, 34, 76, 34], 25]\n",
      "[[1, 2, 3, 4, 5], [5, 6, 7, 3, 9], [12, 54, 65, 34, 76, 34, 50000]]\n"
     ]
    }
   ],
   "source": [
    "# Deep copy\n",
    "import copy\n",
    "list_1 = [[1,2,3,4,5], [5,6,7,3,9],[12,54,65,34,76,34]]\n",
    "list_2 = copy.deepcopy(list_1)\n",
    "print(list_1)\n",
    "print(list_2)\n",
    "print(\"\\n\")\n",
    "\n",
    "list_1[0] = [98,45,35,23] \n",
    "list_2[2].append(50000)\n",
    "print(list_1)\n",
    "print(list_2)\n",
    "print(\"\\n\")\n",
    "\n",
    "\n",
    "\n",
    "list_1.append(25)\n",
    "print(list_1)\n",
    "print(list_2)\n"
   ]
  },
  {
   "cell_type": "code",
   "execution_count": 72,
   "metadata": {},
   "outputs": [
    {
     "name": "stdout",
     "output_type": "stream",
     "text": [
      "['Ibrahim', ['Zain', 'Omer'], ['Ali', 'Wasif', 'Fazeel']]\n"
     ]
    }
   ],
   "source": [
    "import copy\n",
    "\n",
    "names = [\"Ibrahim\", [\"Hamza\", \"Omer\"], [\"Ali\", \"Wasif\", \"Fazeel\"]]\n",
    "l2 = copy.copy(names)  # Shallow copy\n",
    "\n",
    "l2[0] = \"Abdullah\"  # Changes outer list\n",
    "l2[1][0] = \"Zain\"   # Changes inner list\n",
    "\n",
    "print(names)  \n",
    "# Output: ['Ibrahim', ['Zain', 'Omer'], ['Ali', 'Wasif', 'Fazeel']]\n"
   ]
  }
 ],
 "metadata": {
  "kernelspec": {
   "display_name": "Python 3",
   "language": "python",
   "name": "python3"
  },
  "language_info": {
   "codemirror_mode": {
    "name": "ipython",
    "version": 3
   },
   "file_extension": ".py",
   "mimetype": "text/x-python",
   "name": "python",
   "nbconvert_exporter": "python",
   "pygments_lexer": "ipython3",
   "version": "3.12.9"
  }
 },
 "nbformat": 4,
 "nbformat_minor": 2
}
