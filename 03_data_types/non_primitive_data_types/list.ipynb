{
 "cells": [
  {
   "cell_type": "code",
   "execution_count": 11,
   "metadata": {},
   "outputs": [
    {
     "name": "stdout",
     "output_type": "stream",
     "text": [
      "['Hello world', 21, 3.14, [20, 30, 40]]\n",
      "<class 'list'>\n"
     ]
    }
   ],
   "source": [
    "my_list = [\"Hello world\", 21, 3.14, [20,30,40]]\n",
    "print(my_list)\n",
    "print(type(my_list))"
   ]
  },
  {
   "cell_type": "code",
   "execution_count": 18,
   "metadata": {},
   "outputs": [
    {
     "name": "stdout",
     "output_type": "stream",
     "text": [
      "[1, 2, 3, 4, 5, 6]\n",
      "[]\n",
      "['P', 'y', 't', 'h', 'o', 'n']\n"
     ]
    }
   ],
   "source": [
    "numbers = [1,2,3,4,5,6]\n",
    "print(numbers)\n",
    "\n",
    "# created an empty list using list() constructor\n",
    "empty_list = list()\n",
    "print(empty_list)\n",
    "\n",
    "str_list = list(\"Python\")\n",
    "print(str_list)\n"
   ]
  },
  {
   "cell_type": "markdown",
   "metadata": {},
   "source": [
    "### Accessing List Elements\n",
    "- You can access elements using indexing, slicing, and negative indexing."
   ]
  },
  {
   "cell_type": "code",
   "execution_count": 29,
   "metadata": {},
   "outputs": [
    {
     "name": "stdout",
     "output_type": "stream",
     "text": [
      "apple\n",
      "cherry\n",
      "cherry\n",
      "banana\n",
      "['banana']\n",
      "['apple', 'banana', 'cherry']\n",
      "['apple', 'cherry']\n"
     ]
    }
   ],
   "source": [
    "# indexing\n",
    "fruits = [\"apple\", \"banana\", \"cherry\"]\n",
    "print(fruits[0])\n",
    "print(fruits[2])\n",
    "\n",
    "# Negative Indexing\n",
    "print(fruits[-1])\n",
    "print(fruits[-2])\n",
    "\n",
    "# slicing\n",
    "print(fruits[1:2])\n",
    "print(fruits[:3])\n",
    "print(fruits[::2])"
   ]
  },
  {
   "cell_type": "markdown",
   "metadata": {},
   "source": [
    "### Modifying a List\n",
    "- Since lists are mutable, we can change elements, add, and remove items."
   ]
  },
  {
   "cell_type": "code",
   "execution_count": 62,
   "metadata": {},
   "outputs": [
    {
     "name": "stdout",
     "output_type": "stream",
     "text": [
      "['Apple', 'Banana', 'Orange', 'Cherry']\n",
      "['Apple', 'Banana', 'Strawberry', 'Orange', 'Cherry', 'Manogo']\n",
      "['Apple', 'Strawberry', 'Orange', 'Cherry']\n",
      "['Apple', 'Orange', 'Cherry']\n",
      "['Apple', 'Orange']\n"
     ]
    }
   ],
   "source": [
    "# Changing Elements\n",
    "fruits = [\"Apple\", \"Banana\", \"Grapes\", \"Cherry\"]\n",
    "fruits[2] = \"Orange\"\n",
    "print(fruits)\n",
    "\n",
    "# Adding Elements\n",
    "fruits.append(\"manogo\".title()) # add element at end of list\n",
    "fruits.insert(2, \"Strawberry\") # insert element at defined index\n",
    "print(fruits)\n",
    "\n",
    "# Removing Elements\n",
    "fruits.remove(\"Banana\") # find and remove element in list\n",
    "fruits.pop() # by default removes last element\n",
    "print(fruits)\n",
    "\n",
    "fruits.pop(1) # removes element which exists on index 1\n",
    "print(fruits)\n",
    "\n",
    "del fruits[2] # Deletes an element by index\n",
    "print(fruits)\n"
   ]
  },
  {
   "cell_type": "markdown",
   "metadata": {},
   "source": [
    "### Iterating Through a List\n",
    "- You can iterate through a list using a for loop."
   ]
  },
  {
   "cell_type": "code",
   "execution_count": 63,
   "metadata": {},
   "outputs": [
    {
     "name": "stdout",
     "output_type": "stream",
     "text": [
      "Apple\n",
      "Banana\n",
      "Grapes\n",
      "Cherry\n"
     ]
    }
   ],
   "source": [
    "fruits = [\"Apple\", \"Banana\", \"Grapes\", \"Cherry\"]\n",
    "\n",
    "for fruit in fruits:\n",
    "    print(fruit)\n"
   ]
  },
  {
   "cell_type": "markdown",
   "metadata": {},
   "source": [
    "### Using enumerate() to get index & value:"
   ]
  },
  {
   "cell_type": "code",
   "execution_count": 70,
   "metadata": {},
   "outputs": [
    {
     "name": "stdout",
     "output_type": "stream",
     "text": [
      "Index: 0, Value: Apple\n",
      "Index: 1, Value: Banana\n",
      "Index: 2, Value: Grapes\n",
      "Index: 3, Value: Cherry\n"
     ]
    }
   ],
   "source": [
    "for index, fruit in enumerate(fruits):\n",
    "    print(f\"Index: {index}, Value: {fruit}\")"
   ]
  },
  {
   "cell_type": "markdown",
   "metadata": {},
   "source": [
    "### Memory Allocation & Inner Working\n",
    "Python lists are dynamic arrays, meaning they can grow and shrink as needed. However, they do not store values directly. Instead, they store references (pointers) to objects.\n",
    "\n",
    "#### Memory Efficiency\n",
    "- Lists allocate extra memory to allow efficient resizing.\n",
    "- Python's `sys.getsizeof()` can check memory usage.\n"
   ]
  },
  {
   "cell_type": "code",
   "execution_count": 5,
   "metadata": {},
   "outputs": [
    {
     "name": "stdout",
     "output_type": "stream",
     "text": [
      "104\n"
     ]
    }
   ],
   "source": [
    "import sys\n",
    "my_list = [1,2,\"Hello world\",4,5]\n",
    "print(sys.getsizeof(my_list))"
   ]
  },
  {
   "cell_type": "markdown",
   "metadata": {},
   "source": [
    "### Copying Lists (Shallow vs Deep Copy)"
   ]
  },
  {
   "cell_type": "code",
   "execution_count": 67,
   "metadata": {},
   "outputs": [
    {
     "name": "stdout",
     "output_type": "stream",
     "text": [
      "['Ibrahim', ['Hamza', 'Omer'], ['Ali', 'Wasif', 'Fazeel']]\n"
     ]
    }
   ],
   "source": [
    "import copy\n",
    "\n",
    "names = [\"Ibrahim\",[\"Hamza\", \"Omer\"], [\"Ali\", \"Wasif\", \"Fazeel\"]]\n",
    "l2 = copy.copy(names)\n",
    "\n",
    "l2[0] = \"Abdullah\"\n",
    "print(names)"
   ]
  },
  {
   "cell_type": "code",
   "execution_count": 72,
   "metadata": {},
   "outputs": [
    {
     "name": "stdout",
     "output_type": "stream",
     "text": [
      "['Ibrahim', ['Zain', 'Omer'], ['Ali', 'Wasif', 'Fazeel']]\n"
     ]
    }
   ],
   "source": [
    "import copy\n",
    "\n",
    "names = [\"Ibrahim\", [\"Hamza\", \"Omer\"], [\"Ali\", \"Wasif\", \"Fazeel\"]]\n",
    "l2 = copy.copy(names)  # Shallow copy\n",
    "\n",
    "l2[0] = \"Abdullah\"  # Changes outer list\n",
    "l2[1][0] = \"Zain\"   # Changes inner list\n",
    "\n",
    "print(names)  \n",
    "# Output: ['Ibrahim', ['Zain', 'Omer'], ['Ali', 'Wasif', 'Fazeel']]\n"
   ]
  }
 ],
 "metadata": {
  "kernelspec": {
   "display_name": "Python 3",
   "language": "python",
   "name": "python3"
  },
  "language_info": {
   "codemirror_mode": {
    "name": "ipython",
    "version": 3
   },
   "file_extension": ".py",
   "mimetype": "text/x-python",
   "name": "python",
   "nbconvert_exporter": "python",
   "pygments_lexer": "ipython3",
   "version": "3.12.9"
  }
 },
 "nbformat": 4,
 "nbformat_minor": 2
}
