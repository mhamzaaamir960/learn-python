{
 "cells": [
  {
   "cell_type": "code",
   "execution_count": 24,
   "metadata": {},
   "outputs": [],
   "source": [
    "first_name = \"Muhammad Hamza\"\n",
    "last_name = \"Aamir\"\n",
    "# Concatination (joining) of two strings\n",
    "full_name = first_name + \" \" + last_name"
   ]
  },
  {
   "cell_type": "code",
   "execution_count": 25,
   "metadata": {},
   "outputs": [
    {
     "name": "stdout",
     "output_type": "stream",
     "text": [
      "MUHAMMAD HAMZA AAMIR\n",
      "muhammad hamza aamir\n",
      "Muhammad Hamza Aamir\n",
      "Muhammad hamza aamir\n",
      "mUHAMMAD hAMZA aAMIR\n"
     ]
    }
   ],
   "source": [
    "# Case Conversion Methods\n",
    "print(full_name.upper())\n",
    "print(full_name.lower())\n",
    "print(full_name.title())\n",
    "print(full_name.capitalize())\n",
    "print(full_name.swapcase())\n"
   ]
  },
  {
   "cell_type": "markdown",
   "metadata": {},
   "source": [
    "### Why use .casefold() instead of .lower()?\n",
    "1. .casefold() is more aggressive than .lower() in handling case differences, especially for languages with special characters.\n",
    "2. It's useful when comparing strings in a case-insensitive way."
   ]
  },
  {
   "cell_type": "code",
   "execution_count": 26,
   "metadata": {},
   "outputs": [
    {
     "name": "stdout",
     "output_type": "stream",
     "text": [
      "False\n",
      "True\n"
     ]
    }
   ],
   "source": [
    "s1 = \"straße\"   # German word for \"street\"\n",
    "s2 = \"STRASSE\"\n",
    "\n",
    "print(s1.lower() == s2.lower())    # False\n",
    "print(s1.casefold() == s2.casefold())  # True (case-insensitive comparison)"
   ]
  },
  {
   "cell_type": "markdown",
   "metadata": {},
   "source": [
    "### Stripping Whitespace\n",
    "1. strip()\n",
    "2. lstrip()\n",
    "3. rstrip()"
   ]
  },
  {
   "cell_type": "code",
   "execution_count": 42,
   "metadata": {},
   "outputs": [
    {
     "name": "stdout",
     "output_type": "stream",
     "text": [
      "Muhammad Hamza Aamir\n",
      "Muhammad Hamza Aamir    \n",
      "   Muhammad Hamza Aamir\n"
     ]
    }
   ],
   "source": [
    "name = \"   Muhammad Hamza Aamir    \"\n",
    "print(name.strip())\n",
    "print(name.lstrip())\n",
    "print(name.rstrip())\n"
   ]
  },
  {
   "cell_type": "markdown",
   "metadata": {},
   "source": [
    "### Searching & Replacing\n",
    "1. User of .replace() method\n",
    "2. Use of .find() method"
   ]
  },
  {
   "cell_type": "code",
   "execution_count": 27,
   "metadata": {},
   "outputs": [
    {
     "name": "stdout",
     "output_type": "stream",
     "text": [
      "Muhammad Omer Aamir\n",
      "9\n"
     ]
    }
   ],
   "source": [
    "name = \"Muhammad Hamza Aamir\"\n",
    "print(name.replace(\"Hamza\", \"Omer\")) # Muhammad Omer Aamir\n",
    "print(name.find(\"Hamza\")) # it returns the index of the finding string"
   ]
  },
  {
   "cell_type": "markdown",
   "metadata": {},
   "source": [
    "### Splitting & Joining\n",
    "1. use of .split() method\n",
    "2. use of .join() method"
   ]
  },
  {
   "cell_type": "code",
   "execution_count": 43,
   "metadata": {},
   "outputs": [
    {
     "name": "stdout",
     "output_type": "stream",
     "text": [
      "['apple', 'banana', 'cherry']\n",
      "apple, banana, cherry\n"
     ]
    }
   ],
   "source": [
    "fruits = \"apple, banana, cherry\"\n",
    "print(fruits.split(\", \")) # ['apple', 'banana', 'cherry']\n",
    "\n",
    "fruits2 = [\"apple\", \"banana\", \"cherry\"]\n",
    "print(\", \".join(fruits2)) # apple banana cherry"
   ]
  },
  {
   "cell_type": "markdown",
   "metadata": {},
   "source": [
    "### String formatting\n",
    "1. using f-string (Python 3.6+)\n",
    "2. using .format() method\n",
    "3. Old style string formating using %\n",
    "    \n",
    "    - %s => string\n",
    "    - %d => integer\n",
    "    - %f => float (default 6 decimal places)\n",
    "    - %.nf => float with n decimal places\n",
    "    - %x => Hexadecimal (lowercase)\n",
    "    - %X => Hexadecimal (uppercase)\n",
    "    - %o => Octal\n",
    "    - %e => Scientific notation (lowercase)\n",
    "    - %E => Scietific notation (uppercase)"
   ]
  },
  {
   "cell_type": "code",
   "execution_count": 29,
   "metadata": {},
   "outputs": [
    {
     "name": "stdout",
     "output_type": "stream",
     "text": [
      "My name is Muhammad Hamza Aamir. I am 21 years old. I live in Rawalpindi.\n"
     ]
    }
   ],
   "source": [
    "# f-string using double quotes for single line string\n",
    "name = \"Muhammad Hamza Aamir\"\n",
    "age = 21\n",
    "city = \"Rawalpindi\"\n",
    "data = f\"My name is {name}. I am {age} years old. I live in {city}.\"\n",
    "print(data)"
   ]
  },
  {
   "cell_type": "code",
   "execution_count": 30,
   "metadata": {},
   "outputs": [
    {
     "name": "stdout",
     "output_type": "stream",
     "text": [
      "My name is Muhammad Hamza Aamir. \n",
      "I am 21 years old.\n",
      "I live in Rawalpindi.\n"
     ]
    }
   ],
   "source": [
    "# f-string using triple double quotes for multi-line string\n",
    "name = \"Muhammad Hamza Aamir\"\n",
    "age = 21\n",
    "city = \"Rawalpindi\"\n",
    "data = f\"\"\"My name is {name}. \n",
    "I am {age} years old.\n",
    "I live in {city}.\"\"\"\n",
    "print(data)"
   ]
  },
  {
   "cell_type": "code",
   "execution_count": 31,
   "metadata": {},
   "outputs": [
    {
     "name": "stdout",
     "output_type": "stream",
     "text": [
      "My name is Muhammad Hamza Aamir. \n",
      "I am 21 years old. \n",
      "I live in Rawalpindi.\n"
     ]
    }
   ],
   "source": [
    "# .format() method\n",
    "name = \"Muhammad Hamza Aamir\"\n",
    "age = 21\n",
    "city = \"Rawalpindi\"\n",
    "data = \"\"\"My name is {}. \n",
    "I am {} years old. \n",
    "I live in {}.\"\"\".format(name, age, city)\n",
    "print(data)"
   ]
  },
  {
   "cell_type": "code",
   "execution_count": 32,
   "metadata": {},
   "outputs": [
    {
     "name": "stdout",
     "output_type": "stream",
     "text": [
      "My name is Muhammad Hamza Aamir and I am 21 years old. I live in Rawalpindi.\n"
     ]
    }
   ],
   "source": [
    "# Old style formating\n",
    "data = \"My name is %s and I am %d years old. I live in %s.\" % (name, age, city)\n",
    "print(data)"
   ]
  },
  {
   "cell_type": "code",
   "execution_count": 33,
   "metadata": {},
   "outputs": [
    {
     "name": "stdout",
     "output_type": "stream",
     "text": [
      "I bought total 5 Laptops and each have 25000.00 PKR.\n"
     ]
    }
   ],
   "source": [
    "item = \"Laptop\"\n",
    "quantity = 5\n",
    "price = 25000\n",
    "print(\"I bought total %d %ss and each have %.2f PKR.\"% (quantity, item, price))"
   ]
  },
  {
   "cell_type": "code",
   "execution_count": 34,
   "metadata": {},
   "outputs": [
    {
     "name": "stdout",
     "output_type": "stream",
     "text": [
      "Hexadecimal: ff, Octal: 377, Scientific: 2.550000e+02\n"
     ]
    }
   ],
   "source": [
    "number = 255\n",
    "print(\"Hexadecimal: %x, Octal: %o, Scientific: %e\" % (number, number, number))"
   ]
  },
  {
   "cell_type": "markdown",
   "metadata": {},
   "source": [
    "<!-- ### String Immutability\n",
    " - Strings are immutable, meaning they cannot be changed after creation. -->"
   ]
  },
  {
   "cell_type": "markdown",
   "metadata": {},
   "source": [
    "### String Immutablity\n",
    "- Strings are immutable, meaning they cannot be changed after creation."
   ]
  },
  {
   "cell_type": "code",
   "execution_count": null,
   "metadata": {},
   "outputs": [
    {
     "name": "stdout",
     "output_type": "stream",
     "text": [
      "Hello, world!\n"
     ]
    }
   ],
   "source": [
    "message = \"Hello, world!\"\n",
    "message[7] = \"W\" # TypeError: 'str' object does not support item assignment\n",
    "print(message) "
   ]
  },
  {
   "cell_type": "markdown",
   "metadata": {},
   "source": [
    "### Escape Characters\n",
    "\n",
    "- `\\t` Tab (Horizantal tab space)\n",
    "\n",
    "- `\\n` Newline (moves to next line)\n",
    "\n",
    "- `\\\\` Backslash\n",
    "\n",
    "- `\\'` Single Quotes\n",
    "\n",
    "- `\\\"` Double Quotes\n",
    "\n",
    "- `\\r` Carriage Return\n",
    "\n",
    "- `\\b` Backspace\n",
    "\n",
    "- `\\f` Form Feed\n",
    "\n",
    "- `\\v` Vertical Tab\n",
    "\n",
    "- `\\a` Bell Sound\n",
    "\n",
    "- If you don't want Python to treat \\ as an escape character, use raw strings (r\"\"):\n",
    "\n",
    "\n"
   ]
  },
  {
   "cell_type": "code",
   "execution_count": 37,
   "metadata": {},
   "outputs": [
    {
     "name": "stdout",
     "output_type": "stream",
     "text": [
      "Hello\tworld!\n",
      "Hello\n",
      "world!\n",
      "Hello\\world!\n",
      "Hello\"world!\n",
      "Hello'world!\n",
      "HamzAamir!\n",
      "benifits____of_study\n",
      "Hello\u000bworld!\n",
      "Hello\fworld!\n",
      "Hamza\\nAamir\n"
     ]
    }
   ],
   "source": [
    "print(\"Hello\\tworld!\") # \\t => Hello    world!\n",
    "print(\"Hello\\nworld!\") # \\n => Hello \n",
    "#world!\n",
    "\n",
    "print(\"Hello\\\\world!\") # \\\\ => Hello\\world!\n",
    "print(\"Hello\\\"world!\") # \\\" => Hello\"world!\n",
    "print(\"Hello\\'world!\") # \\' => Hello'world!\n",
    "print(\"Hamza\\bAamir!\") # \\b => HamzAamir!\n",
    "print(\"no_benefits_of_study\\rbenifits___\")\n",
    "print(\"Hello\\vworld!\") # \\v => Hello\u000bworld! \n",
    "print(\"Hello\\fworld!\", ) # \\f => Hello\fworld!()\n",
    "\n",
    "print(r\"Hamza\\nAamir\") # Hamza\\nAamir"
   ]
  },
  {
   "cell_type": "code",
   "execution_count": 22,
   "metadata": {},
   "outputs": [
    {
     "name": "stdout",
     "output_type": "stream",
     "text": [
      "Hello, world!\n"
     ]
    }
   ],
   "source": [
    "print(\"Hello,\", end=\" \")\n",
    "print(\"world!\")"
   ]
  },
  {
   "cell_type": "code",
   "execution_count": 30,
   "metadata": {},
   "outputs": [
    {
     "name": "stdout",
     "output_type": "stream",
     "text": [
      "Loading 5/5\r"
     ]
    }
   ],
   "source": [
    "import time\n",
    "\n",
    "for i in range(5):\n",
    "    print(f\"Loading {i+1}/5\", end=\"\\r\", flush=True)  # \\r moves cursor back\n",
    "    time.sleep(1)\n"
   ]
  },
  {
   "cell_type": "markdown",
   "metadata": {},
   "source": [
    "### Prefixes\n",
    "- .removeprefix()\n",
    "- .removesuffix()"
   ]
  },
  {
   "cell_type": "code",
   "execution_count": null,
   "metadata": {},
   "outputs": [
    {
     "name": "stdout",
     "output_type": "stream",
     "text": [
      "www.google.com/calender\n",
      "https://www.google.com\n"
     ]
    }
   ],
   "source": [
    "link = \"https://www.google.com/calender\"\n",
    "print(link.removeprefix(\"https://\")) # www.google.com/calender\n",
    "print(link.removesuffix(\"/calender\")) # https://www.google.com\n"
   ]
  },
  {
   "cell_type": "markdown",
   "metadata": {},
   "source": [
    "- .startswith()\n",
    "- .endswith()"
   ]
  },
  {
   "cell_type": "code",
   "execution_count": 76,
   "metadata": {},
   "outputs": [
    {
     "name": "stdout",
     "output_type": "stream",
     "text": [
      "True\n",
      "True\n"
     ]
    }
   ],
   "source": [
    "print(link.startswith(\"https://\")) # True\n",
    "print(link.endswith(\"/calender\")) # True"
   ]
  },
  {
   "cell_type": "markdown",
   "metadata": {},
   "source": [
    "### Two unicode built in functions\n",
    "- ord()\n",
    "- chr()"
   ]
  },
  {
   "cell_type": "code",
   "execution_count": 104,
   "metadata": {},
   "outputs": [
    {
     "name": "stdout",
     "output_type": "stream",
     "text": [
      "98\n",
      "Z\n"
     ]
    }
   ],
   "source": [
    "print(ord(\"b\")) # 98 (Only one character is allowed to check ASCAII value)\n",
    "print(chr(90)) # Z"
   ]
  },
  {
   "cell_type": "markdown",
   "metadata": {},
   "source": [
    "### Encoding & Decoding\n",
    "- .encode()\n",
    "- .decode()\n"
   ]
  },
  {
   "cell_type": "code",
   "execution_count": 110,
   "metadata": {},
   "outputs": [
    {
     "name": "stdout",
     "output_type": "stream",
     "text": [
      "b'Hamza'\n",
      "Hamza\n"
     ]
    }
   ],
   "source": [
    "name = \"Hamza\"\n",
    "encoded = name.encode(\"utf-8\")\n",
    "print(encoded) # b'Hamza'\n",
    "\n",
    "decoded = encoded.decode(\"utf-8\")\n",
    "print(decoded) # Hamza\n"
   ]
  }
 ],
 "metadata": {
  "kernelspec": {
   "display_name": "Python 3",
   "language": "python",
   "name": "python3"
  },
  "language_info": {
   "codemirror_mode": {
    "name": "ipython",
    "version": 3
   },
   "file_extension": ".py",
   "mimetype": "text/x-python",
   "name": "python",
   "nbconvert_exporter": "python",
   "pygments_lexer": "ipython3",
   "version": "3.12.9"
  }
 },
 "nbformat": 4,
 "nbformat_minor": 2
}
