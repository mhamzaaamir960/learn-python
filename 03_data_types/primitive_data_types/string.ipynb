{
 "cells": [
  {
   "cell_type": "code",
   "execution_count": 8,
   "metadata": {},
   "outputs": [],
   "source": [
    "first_name = \"Muhammad Hamza\"\n",
    "last_name = \"Aamir\"\n",
    "# Concatination (joining) of two strings\n",
    "full_name = first_name + \" \" + last_name"
   ]
  },
  {
   "cell_type": "code",
   "execution_count": 18,
   "metadata": {},
   "outputs": [
    {
     "name": "stdout",
     "output_type": "stream",
     "text": [
      "MUHAMMAD HAMZA AAMIR\n",
      "muhammad hamza aamir\n",
      "Muhammad Hamza Aamir\n",
      "Muhammad hamza aamir\n",
      "mUHAMMAD hAMZA aAMIR\n"
     ]
    }
   ],
   "source": [
    "# Case Conversion Methods\n",
    "print(full_name.upper())\n",
    "print(full_name.lower())\n",
    "print(full_name.title())\n",
    "print(full_name.capitalize())\n",
    "print(full_name.swapcase())\n"
   ]
  },
  {
   "cell_type": "markdown",
   "metadata": {},
   "source": [
    "### Why use .casefold() instead of .lower()?\n",
    "1. .casefold() is more aggressive than .lower() in handling case differences, especially for languages with special characters.\n",
    "2. It's useful when comparing strings in a case-insensitive way."
   ]
  },
  {
   "cell_type": "code",
   "execution_count": 17,
   "metadata": {},
   "outputs": [
    {
     "name": "stdout",
     "output_type": "stream",
     "text": [
      "False\n",
      "True\n"
     ]
    }
   ],
   "source": [
    "s1 = \"straße\"   # German word for \"street\"\n",
    "s2 = \"STRASSE\"\n",
    "\n",
    "print(s1.lower() == s2.lower())    # False\n",
    "print(s1.casefold() == s2.casefold())  # True (case-insensitive comparison)"
   ]
  },
  {
   "cell_type": "markdown",
   "metadata": {},
   "source": [
    "### Searching & Replacing\n",
    "1. User of .replace() method\n",
    "2. Use of .find() method"
   ]
  },
  {
   "cell_type": "code",
   "execution_count": 32,
   "metadata": {},
   "outputs": [
    {
     "name": "stdout",
     "output_type": "stream",
     "text": [
      "Muhammad Omer Aamir\n",
      "9\n"
     ]
    }
   ],
   "source": [
    "name = \"Muhammad Hamza Aamir\"\n",
    "print(name.replace(\"Hamza\", \"Omer\")) # Muhammad Omer Aamir\n",
    "print(name.find(\"Hamza\")) # it returns the index of the finding string"
   ]
  },
  {
   "cell_type": "markdown",
   "metadata": {},
   "source": [
    "### Splitting & Joining\n",
    "1. use of .split() method\n",
    "2. use of .join() method"
   ]
  },
  {
   "cell_type": "code",
   "execution_count": 31,
   "metadata": {},
   "outputs": [
    {
     "name": "stdout",
     "output_type": "stream",
     "text": [
      "['apple', 'banana', 'cherry']\n",
      "apple, banana, cherry\n"
     ]
    }
   ],
   "source": [
    "fruits = \"apple, banana, cherry\"\n",
    "print(fruits.split(\", \")) # ['apple', 'banana', 'cherry']\n",
    "\n",
    "fruits2 = [\"apple\", \"banana\", \"cherry\"]\n",
    "print(\", \".join(fruits2)) # apple banana cherry"
   ]
  },
  {
   "cell_type": "markdown",
   "metadata": {},
   "source": [
    "### String formatting\n",
    "1. using f-string (Python 3.6+)\n",
    "2. using .format() method"
   ]
  },
  {
   "cell_type": "code",
   "execution_count": null,
   "metadata": {},
   "outputs": [
    {
     "name": "stdout",
     "output_type": "stream",
     "text": [
      "My name is Muhammad Hamza Aamir. I am 21 years old. I live in Rawalpindi.\n"
     ]
    }
   ],
   "source": [
    "# f-string using double quotes for single line string\n",
    "name = \"Muhammad Hamza Aamir\"\n",
    "age = 21\n",
    "city = \"Rawalpindi\"\n",
    "data = f\"My name is {name}. I am {age} years old. I live in {city}.\"\n",
    "print(data)"
   ]
  },
  {
   "cell_type": "code",
   "execution_count": 35,
   "metadata": {},
   "outputs": [
    {
     "name": "stdout",
     "output_type": "stream",
     "text": [
      "My name is Muhammad Hamza Aamir. \n",
      "I am 21 years old.\n",
      "I live in Rawalpindi.\n"
     ]
    }
   ],
   "source": [
    "# f-string using triple double quotes for multi-line string\n",
    "name = \"Muhammad Hamza Aamir\"\n",
    "age = 21\n",
    "city = \"Rawalpindi\"\n",
    "data = f\"\"\"My name is {name}. \n",
    "I am {age} years old.\n",
    "I live in {city}.\"\"\"\n",
    "print(data)"
   ]
  },
  {
   "cell_type": "code",
   "execution_count": null,
   "metadata": {},
   "outputs": [
    {
     "name": "stdout",
     "output_type": "stream",
     "text": [
      "My name is Muhammad Hamza Aamir. \n",
      "I am 21 years old. \n",
      "I live in Rawalpindi.\n"
     ]
    }
   ],
   "source": [
    "# .format() method\n",
    "name = \"Muhammad Hamza Aamir\"\n",
    "age = 21\n",
    "city = \"Rawalpindi\"\n",
    "data = \"\"\"My name is {}. \n",
    "I am {} years old. \n",
    "I live in {}.\"\"\".format(name, age, city)\n",
    "print(data)"
   ]
  }
 ],
 "metadata": {
  "kernelspec": {
   "display_name": "Python 3",
   "language": "python",
   "name": "python3"
  },
  "language_info": {
   "codemirror_mode": {
    "name": "ipython",
    "version": 3
   },
   "file_extension": ".py",
   "mimetype": "text/x-python",
   "name": "python",
   "nbconvert_exporter": "python",
   "pygments_lexer": "ipython3",
   "version": "3.12.9"
  }
 },
 "nbformat": 4,
 "nbformat_minor": 2
}
