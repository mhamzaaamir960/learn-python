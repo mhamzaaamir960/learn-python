{
 "cells": [
  {
   "cell_type": "code",
   "execution_count": null,
   "metadata": {},
   "outputs": [
    {
     "name": "stdout",
     "output_type": "stream",
     "text": [
      "<class 'complex'> (4+3j)\n",
      "<class 'complex'> (2-5j)\n"
     ]
    }
   ],
   "source": [
    "z1 = 4 + 3j\n",
    "z2 = complex(2, -5)\n",
    "print(type(z1), z1)\n",
    "print(type(z2), z2)\n"
   ]
  },
  {
   "cell_type": "markdown",
   "metadata": {},
   "source": [
    "### Accessing Real & Imaginary Parts\n",
    "- .real\n",
    "- .imag"
   ]
  },
  {
   "cell_type": "code",
   "execution_count": 1,
   "metadata": {},
   "outputs": [
    {
     "name": "stdout",
     "output_type": "stream",
     "text": [
      "5.0\n",
      "4.0\n"
     ]
    }
   ],
   "source": [
    "z = 5 + 4j\n",
    "print(z.real)\n",
    "print(z.imag)"
   ]
  },
  {
   "cell_type": "markdown",
   "metadata": {},
   "source": [
    "### Arithmetic Operations on Complex Numbers"
   ]
  },
  {
   "cell_type": "code",
   "execution_count": null,
   "metadata": {},
   "outputs": [
    {
     "name": "stdout",
     "output_type": "stream",
     "text": [
      "(7+11j)\n",
      "(-1+7j)\n",
      "(-6+42j)\n",
      "(1.5+1.5j)\n"
     ]
    }
   ],
   "source": [
    "z1 = 3 + 9j\n",
    "z2 = 4 + 2j\n",
    "print(z1 + z2)\n",
    "print(z1 - z2)\n",
    "print(z1 * z2) # (3+4j) * (1-2j) = (3 - 6j + 4j - 8) = (11 - 2j)\n",
    "print(z1 / z2) # (3+4j) / (1-2j) = (3+4j) * (1+2j) / (1+4) = (11/5 + 10/5j)"
   ]
  },
  {
   "cell_type": "markdown",
   "metadata": {},
   "source": [
    "### Magnitude of a Complex Number\n",
    "- ∣z∣= sqrt(a^2 + b^2)"
   ]
  },
  {
   "cell_type": "code",
   "execution_count": null,
   "metadata": {},
   "outputs": [
    {
     "name": "stdout",
     "output_type": "stream",
     "text": [
      "5.0\n"
     ]
    }
   ],
   "source": [
    "import math\n",
    "\n",
    "z = 3 + 4j  # a = 3 and b = 4\n",
    "print(abs(z))\n"
   ]
  },
  {
   "cell_type": "markdown",
   "metadata": {},
   "source": [
    "### Complex Number Methods in Python\n",
    "- .conjugate()"
   ]
  },
  {
   "cell_type": "code",
   "execution_count": 7,
   "metadata": {},
   "outputs": [
    {
     "name": "stdout",
     "output_type": "stream",
     "text": [
      "(3-4j)\n"
     ]
    }
   ],
   "source": [
    "z = 3 + 4j\n",
    "print(z.conjugate())"
   ]
  }
 ],
 "metadata": {
  "kernelspec": {
   "display_name": "Python 3",
   "language": "python",
   "name": "python3"
  },
  "language_info": {
   "codemirror_mode": {
    "name": "ipython",
    "version": 3
   },
   "file_extension": ".py",
   "mimetype": "text/x-python",
   "name": "python",
   "nbconvert_exporter": "python",
   "pygments_lexer": "ipython3",
   "version": "3.12.9"
  }
 },
 "nbformat": 4,
 "nbformat_minor": 2
}
