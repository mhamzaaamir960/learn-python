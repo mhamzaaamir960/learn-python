{
 "cells": [
  {
   "cell_type": "code",
   "execution_count": 7,
   "metadata": {},
   "outputs": [
    {
     "name": "stdout",
     "output_type": "stream",
     "text": [
      "3.14 -2.6 2500.0\n"
     ]
    }
   ],
   "source": [
    "x = 3.14 # Positive float\n",
    "y = -2.6 # Negative float\n",
    "z = 25e2 # 25 * 10^2 = 2500.0\n",
    "print(x,y,z)"
   ]
  },
  {
   "cell_type": "markdown",
   "metadata": {},
   "source": [
    "### Converting float variables"
   ]
  },
  {
   "cell_type": "code",
   "execution_count": null,
   "metadata": {},
   "outputs": [
    {
     "name": "stdout",
     "output_type": "stream",
     "text": [
      "<class 'float'>\n",
      "<class 'float'>\n",
      "<class 'float'>\n",
      "5.6 10.0 3.14\n"
     ]
    }
   ],
   "source": [
    "a = 5.6\n",
    "b = float(10)\n",
    "c = float(\"3.14\")\n",
    "print(type(a))\n",
    "print(type(b))\n",
    "print(type(c))\n",
    "print(a,b,c)"
   ]
  },
  {
   "cell_type": "markdown",
   "metadata": {},
   "source": [
    "### Precision and Rounding Errors   "
   ]
  },
  {
   "cell_type": "code",
   "execution_count": 39,
   "metadata": {},
   "outputs": [
    {
     "name": "stdout",
     "output_type": "stream",
     "text": [
      "5.551115123125783e-17\n"
     ]
    }
   ],
   "source": [
    "x = 0.1\n",
    "y = 0.2\n",
    "z = 0.3\n",
    "print(x+y-z)"
   ]
  },
  {
   "cell_type": "code",
   "execution_count": 46,
   "metadata": {},
   "outputs": [
    {
     "name": "stdout",
     "output_type": "stream",
     "text": [
      "-0.2\n"
     ]
    }
   ],
   "source": [
    "# To avoid precision errors, use Python's decimal module:\n",
    "\n",
    "from decimal import Decimal\n",
    "a = Decimal('0.1')\n",
    "b = Decimal('0.2')\n",
    "c = Decimal('0.5')\n",
    "print(a+b-c)"
   ]
  },
  {
   "cell_type": "markdown",
   "metadata": {},
   "source": [
    "### Special Float Values\n",
    "-  inf (positive infinity)\n",
    "- -inf (Negative infinity)\n",
    "-  nan (Not a nummber (NaN))"
   ]
  },
  {
   "cell_type": "code",
   "execution_count": 60,
   "metadata": {},
   "outputs": [
    {
     "name": "stdout",
     "output_type": "stream",
     "text": [
      "inf\n",
      "False\n",
      "nan\n"
     ]
    }
   ],
   "source": [
    "print(float('inf'))\n",
    "print(float('-inf') > 100)\n",
    "print(float('nan'))"
   ]
  },
  {
   "cell_type": "code",
   "execution_count": null,
   "metadata": {},
   "outputs": [
    {
     "name": "stdout",
     "output_type": "stream",
     "text": [
      "6.5\n"
     ]
    }
   ],
   "source": [
    "# use of inf\n",
    "\n",
    "numbers = [8.5, 7.6, 6.5, 9.2]\n",
    "min_value = float('inf')\n",
    "for num in numbers:\n",
    "    if num < min_value:\n",
    "        min_value = num\n",
    "        \n",
    "print(min_value)"
   ]
  },
  {
   "cell_type": "markdown",
   "metadata": {},
   "source": [
    "### When to Avoid Using nan?\n",
    "1. Do not use `nan` for normal missing values in databases. Instead, use `None` (Python’s null equivalent).\n",
    "2. Avoid comparisons with nan since it never equals anything, even itself. Always use `math.isnan()`."
   ]
  },
  {
   "cell_type": "code",
   "execution_count": 103,
   "metadata": {},
   "outputs": [
    {
     "name": "stdout",
     "output_type": "stream",
     "text": [
      "[4.5, 3.2, 1.4, 9.6]\n"
     ]
    }
   ],
   "source": [
    "# use of nan\n",
    "import math\n",
    "\n",
    "data = [4.5, 3.2, float('nan'), 1.4, 9.6]\n",
    "filtered_data = [x for x in data if not math.isnan(x)]\n",
    "print(filtered_data)"
   ]
  },
  {
   "cell_type": "code",
   "execution_count": 120,
   "metadata": {},
   "outputs": [
    {
     "name": "stdout",
     "output_type": "stream",
     "text": [
      "False\n",
      "True\n",
      "False\n",
      "139639010106928\n",
      "139639010106928\n"
     ]
    }
   ],
   "source": [
    "print(float(\"nan\") == float(\"nan\")) # False\n",
    "print(float('nan') != float('nan')) # True\n",
    "print(float('nan') is float(\"nan\")) # False\n",
    "\n",
    "print(id(float(\"nan\")))\n",
    "print(id(float(\"nan\")))"
   ]
  },
  {
   "cell_type": "code",
   "execution_count": 126,
   "metadata": {},
   "outputs": [
    {
     "name": "stdout",
     "output_type": "stream",
     "text": [
      "True\n",
      "True\n",
      "False\n"
     ]
    }
   ],
   "source": [
    "import math\n",
    "\n",
    "x = float(\"nan\")\n",
    "y = float(\"nan\")\n",
    "\n",
    "print(math.isnan(x)) # True\n",
    "print(math.isnan(y)) # True\n",
    "print(x == y) # False"
   ]
  },
  {
   "cell_type": "markdown",
   "metadata": {},
   "source": [
    "### Type Checking"
   ]
  },
  {
   "cell_type": "code",
   "execution_count": 2,
   "metadata": {},
   "outputs": [
    {
     "name": "stdout",
     "output_type": "stream",
     "text": [
      "True\n",
      "False\n"
     ]
    }
   ],
   "source": [
    "x = 3.14\n",
    "print(isinstance(x , float))\n",
    "print(isinstance(x , int))"
   ]
  }
 ],
 "metadata": {
  "kernelspec": {
   "display_name": "Python 3",
   "language": "python",
   "name": "python3"
  },
  "language_info": {
   "codemirror_mode": {
    "name": "ipython",
    "version": 3
   },
   "file_extension": ".py",
   "mimetype": "text/x-python",
   "name": "python",
   "nbconvert_exporter": "python",
   "pygments_lexer": "ipython3",
   "version": "3.12.9"
  }
 },
 "nbformat": 4,
 "nbformat_minor": 2
}
