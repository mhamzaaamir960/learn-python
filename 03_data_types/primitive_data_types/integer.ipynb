{
 "cells": [
  {
   "cell_type": "code",
   "execution_count": 13,
   "metadata": {},
   "outputs": [
    {
     "name": "stdout",
     "output_type": "stream",
     "text": [
      "100 -200 0\n"
     ]
    }
   ],
   "source": [
    "x = 100 # Positive Integer\n",
    "y = -200 # Negative Integer\n",
    "z= 0\n",
    "print(x,y,z)"
   ]
  },
  {
   "cell_type": "code",
   "execution_count": 27,
   "metadata": {},
   "outputs": [
    {
     "name": "stdout",
     "output_type": "stream",
     "text": [
      "300000000\n"
     ]
    }
   ],
   "source": [
    "a = 100000\n",
    "a = 300_000_000 # for better readability we use undersores\n",
    "print(a)"
   ]
  },
  {
   "cell_type": "code",
   "execution_count": 18,
   "metadata": {},
   "outputs": [
    {
     "name": "stdout",
     "output_type": "stream",
     "text": [
      "<class 'int'>\n"
     ]
    },
    {
     "data": {
      "text/plain": [
       "True"
      ]
     },
     "execution_count": 18,
     "metadata": {},
     "output_type": "execute_result"
    }
   ],
   "source": [
    "#check the type of the variable\n",
    "print(type(x))\n",
    "# vefiry the type of the variable\n",
    "isinstance(x, int)"
   ]
  },
  {
   "cell_type": "markdown",
   "metadata": {},
   "source": [
    "### Integer Types: Binary, Octal, Hexadecimal\n",
    "- 0b for binary\n",
    "- 0o for octal\n",
    "- ox for hexadeximal\n"
   ]
  },
  {
   "cell_type": "code",
   "execution_count": null,
   "metadata": {},
   "outputs": [
    {
     "name": "stdout",
     "output_type": "stream",
     "text": [
      "11\n"
     ]
    }
   ],
   "source": [
    "# binary representation\n",
    "x = 0b1011 \n",
    "print(x)"
   ]
  },
  {
   "cell_type": "code",
   "execution_count": 21,
   "metadata": {},
   "outputs": [
    {
     "name": "stdout",
     "output_type": "stream",
     "text": [
      "501\n"
     ]
    }
   ],
   "source": [
    "# octal representation\n",
    "y = 0o765\n",
    "print(y)"
   ]
  },
  {
   "cell_type": "code",
   "execution_count": 24,
   "metadata": {},
   "outputs": [
    {
     "name": "stdout",
     "output_type": "stream",
     "text": [
      "62106\n"
     ]
    }
   ],
   "source": [
    "# hexadecimal representation\n",
    "z = 0xf29a\n",
    "print(z)"
   ]
  },
  {
   "cell_type": "markdown",
   "metadata": {},
   "source": [
    "### Converting integer to binary, octal and hexadecimal\n",
    "- bin()\n",
    "- oct()\n",
    "- hex()"
   ]
  },
  {
   "cell_type": "code",
   "execution_count": 25,
   "metadata": {},
   "outputs": [
    {
     "name": "stdout",
     "output_type": "stream",
     "text": [
      "0b1100100\n",
      "0o144\n",
      "0x64\n"
     ]
    }
   ],
   "source": [
    "x = 100\n",
    "\n",
    "print(bin(x))\n",
    "print(oct(x))\n",
    "print(hex(x))"
   ]
  },
  {
   "cell_type": "code",
   "execution_count": 30,
   "metadata": {},
   "outputs": [
    {
     "name": "stdout",
     "output_type": "stream",
     "text": [
      "<class 'int'>\n",
      "4149515568880992958512407863691161151012446232242436899995657329690652811412908146399707048947103794288197886611300789182395151075411775307886874834113963687061181803401509523685376\n"
     ]
    }
   ],
   "source": [
    "big_num = 8**200\n",
    "print(type(big_num))\n",
    "print(big_num)"
   ]
  },
  {
   "cell_type": "markdown",
   "metadata": {},
   "source": [
    "### Boolean Behavior of Integers\n",
    "- `0` → False\n",
    "- Any nonzero integer (Positive or Negative) → True"
   ]
  },
  {
   "cell_type": "code",
   "execution_count": 44,
   "metadata": {},
   "outputs": [
    {
     "name": "stdout",
     "output_type": "stream",
     "text": [
      "True\n"
     ]
    }
   ],
   "source": [
    "b = -100\n",
    "if b:\n",
    "    print(\"True\")\n",
    "else:\n",
    "    print(\"False\")"
   ]
  },
  {
   "cell_type": "markdown",
   "metadata": {},
   "source": [
    "### Converting Other Types to Integer\n",
    "- using `int()`"
   ]
  },
  {
   "cell_type": "code",
   "execution_count": 59,
   "metadata": {},
   "outputs": [
    {
     "name": "stdout",
     "output_type": "stream",
     "text": [
      "1\n",
      "0\n",
      "44\n",
      "100\n",
      "13\n"
     ]
    }
   ],
   "source": [
    "print(int(True))\n",
    "print(int(False)) #convert bool to int\n",
    "print(int(44.56)) # convert float (trunc) to int\n",
    "print(int(\"100\")) # convert string to int\n",
    "print(int(\"0b1101\", 2)) # convert string to int with base 2"
   ]
  },
  {
   "cell_type": "markdown",
   "metadata": {},
   "source": [
    "### Built-in Functions for Integer (int)\n",
    "- abs(x) → absolute value (it return non negative number)\n",
    "- pow(base, exponent, modulus) \n",
    "- divmod(a,b) → return a tuple(quotient, remainder)\n",
    "- round(number, ndigits)\n",
    "- max(), min() → find max & min numbers in list of numbers\n",
    "- sum(iterable, start=0)\n"
   ]
  },
  {
   "cell_type": "code",
   "execution_count": 128,
   "metadata": {},
   "outputs": [
    {
     "name": "stdout",
     "output_type": "stream",
     "text": [
      "200\n",
      "200\n",
      "3.14\n",
      "8\n",
      "1\n",
      "(3, 1)\n",
      "(6, 2)\n",
      "4\n",
      "6\n",
      "2\n",
      "2.04\n",
      "7\n",
      "2\n",
      "21\n"
     ]
    }
   ],
   "source": [
    "print(abs(-200)) # 200\n",
    "print(abs(200)) # 200\n",
    "print(abs(-3.14)) # 3.14\n",
    "\n",
    "print(pow(2,3)) # 2^3 = 8\n",
    "print(pow(3,3,2)) # 3^3 % 2 =1\n",
    "\n",
    "print(divmod(10,3)) # (3,1) 10//3 = 3, 10%3 = 1\n",
    "print(divmod(20,3)) # (6,2) 20//3 = 6, 20%3 = 2\n",
    "\n",
    "print(round(3.6)) \n",
    "print(round(5.5))\n",
    "print(round(2.4))\n",
    "print(round(2.045, 2))\n",
    "\n",
    "l1 = [4,5,7,2,3]\n",
    "\n",
    "print(max(l1))\n",
    "print(min(l1))\n",
    "\n",
    "print(sum(l1))"
   ]
  },
  {
   "cell_type": "code",
   "execution_count": null,
   "metadata": {},
   "outputs": [
    {
     "name": "stdout",
     "output_type": "stream",
     "text": [
      "5\n",
      "3\n"
     ]
    }
   ],
   "source": [
    "# for complex numbers abs return the magnitude \n",
    "# magnitude = sqrt(real^2 + imag^2)\n",
    "z = 3 + 4j\n",
    "print(int(abs(z)))\n"
   ]
  },
  {
   "cell_type": "markdown",
   "metadata": {},
   "source": [
    "### Math Module Functions for Integers\n",
    "- .factorial()\n",
    "- .gcd()\n",
    "- .isqrt()\n",
    "- .floor()\n",
    "- .ciel()\n",
    "- .lcm()\n",
    "- .log()\n",
    "- .copysign()\n",
    "\n",
    "and many more...\n"
   ]
  },
  {
   "cell_type": "code",
   "execution_count": 156,
   "metadata": {},
   "outputs": [
    {
     "name": "stdout",
     "output_type": "stream",
     "text": [
      "120\n",
      "5\n",
      "3\n",
      "90\n",
      "4\n",
      "5\n",
      "-3.0\n",
      "3.14\n",
      "1.0\n"
     ]
    }
   ],
   "source": [
    "import math\n",
    "print(math.factorial(5))\n",
    "print(math.isqrt(25))\n",
    "print(math.gcd(12,15))\n",
    "print(math.lcm(15,18))\n",
    "print(math.floor(4.9))\n",
    "print(math.ceil(4.1))\n",
    "print(math.copysign(3,-2)) # it return the first argument with the sign of the second argument\n",
    "print(math.fabs(-3.14))\n",
    "print(math.log(10,10))"
   ]
  },
  {
   "cell_type": "markdown",
   "metadata": {},
   "source": [
    "### Random Moudle (Generating random numbers)\n",
    "- .random()\n",
    "- .randint(x,y)  Random integer from x to y (inclusive)\n",
    "- .uniform(x,y)  Random float between x and y\n",
    "- .choice([list])\n",
    "- .sample(list, pick no of uniqe elements form list) \n",
    "- .choices(list, k=3) pick 3 elements with replacement\n",
    "- .shuffle(list)  shuffle the list\n",
    "and many more...\n"
   ]
  },
  {
   "cell_type": "code",
   "execution_count": null,
   "metadata": {},
   "outputs": [
    {
     "name": "stdout",
     "output_type": "stream",
     "text": [
      "0.11133106816568039\n",
      "5\n",
      "3.204026684231286\n",
      "3\n",
      "[7, 3, 5, 1, 2, 9]\n",
      "[7, 7]\n",
      "41\n"
     ]
    }
   ],
   "source": [
    "import random\n",
    "\n",
    "numbers = [2,3,5,7,1,9]\n",
    "# t = (\"Hamza\", \"Omer\", \"Ali\")\n",
    "\n",
    "print(random.random())\n",
    "print(random.randint(1,10))\n",
    "print(random.uniform(1,10))\n",
    "print(random.choice(numbers))\n",
    "\n",
    "random.shuffle(numbers) # shuffle the numbers list\n",
    "print(numbers) # shuffled numbers\n",
    "\n",
    "print(random.choices(numbers, k=2)) # return list of 2 choices\n"
   ]
  }
 ],
 "metadata": {
  "kernelspec": {
   "display_name": "Python 3",
   "language": "python",
   "name": "python3"
  },
  "language_info": {
   "codemirror_mode": {
    "name": "ipython",
    "version": 3
   },
   "file_extension": ".py",
   "mimetype": "text/x-python",
   "name": "python",
   "nbconvert_exporter": "python",
   "pygments_lexer": "ipython3",
   "version": "3.12.9"
  }
 },
 "nbformat": 4,
 "nbformat_minor": 2
}
